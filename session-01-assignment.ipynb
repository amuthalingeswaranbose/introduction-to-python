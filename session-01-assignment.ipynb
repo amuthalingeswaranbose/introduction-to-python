{
 "cells": [
  {
   "cell_type": "markdown",
   "id": "ce2ed687",
   "metadata": {},
   "source": [
    "# Assignments:"
   ]
  },
  {
   "cell_type": "markdown",
   "id": "e7200fe8",
   "metadata": {},
   "source": [
    "## Assignment - 1: int\n",
    "Store the following numbers as variables:\n",
    "\n",
    "25, \n",
    "50, \n",
    "75, \n",
    "100\n",
    "\n",
    "Perform the following arithmetic operations using the variables:\n",
    "\n",
    "##### Addition, \n",
    "##### Subtraction, \n",
    "##### Multiplication, \n",
    "##### Division\n",
    "\n",
    "Store the result of each operation in separate variables and print the results.\n",
    "\n",
    "Finally, explain the difference between int and float data types in your own words."
   ]
  },
  {
   "cell_type": "code",
   "execution_count": null,
   "id": "2232a27a",
   "metadata": {},
   "outputs": [],
   "source": []
  },
  {
   "cell_type": "markdown",
   "id": "73e64394",
   "metadata": {},
   "source": [
    "## Assignment-2 : float\n",
    "\n",
    "##### Create a variable named num1 and assign it the value 10.0.\n",
    "##### Create a variable named num2 and assign it the value 20.0.\n",
    "##### Create a variable named result and assign it the value of the sum of num1 and num2.\n",
    "##### Print the value of result.\n",
    "##### Create a variable named num3 and assign it the value of the product of num1 and num2.\n",
    "##### Print the value of num3.\n",
    "##### Create a variable named div and assign it the value of the division of num3 by num1.\n",
    "##### Print the value of div."
   ]
  },
  {
   "cell_type": "code",
   "execution_count": null,
   "id": "979f17fe",
   "metadata": {},
   "outputs": [],
   "source": []
  },
  {
   "cell_type": "markdown",
   "id": "7d002079",
   "metadata": {},
   "source": [
    "## Assignment - 3: string\n",
    "\n",
    "##### Create a variable named greeting and assign it the value \"Hello World!\".\n",
    "##### Print the value of greeting.\n",
    "##### Create a variable named name and assign it the value of your name.\n",
    "##### Create a variable named introduction and assign it the value \"My name is\".\n",
    "##### Concatenate introduction, a space, and name to form a sentence.\n",
    "##### Print the sentence.\n",
    "##### Create a variable named length and assign it the length of the sentence formed in step 6.\n",
    "##### Print the value of length."
   ]
  },
  {
   "cell_type": "code",
   "execution_count": null,
   "id": "52e7c84f",
   "metadata": {},
   "outputs": [],
   "source": []
  },
  {
   "cell_type": "markdown",
   "id": "a3d50e47",
   "metadata": {},
   "source": [
    "# Assignment - 4: list\n",
    "\n",
    "#### Create a list of your favorite fruits.\n",
    "#### Add 2 more fruits to the list.\n",
    "#### Remove one fruit from the list.\n",
    "#### Sort the list in alphabetical order.\n",
    "#### Count how many times a specific fruit appears in the list."
   ]
  },
  {
   "cell_type": "code",
   "execution_count": null,
   "id": "502b30c1",
   "metadata": {},
   "outputs": [],
   "source": []
  },
  {
   "cell_type": "markdown",
   "id": "169dcf02",
   "metadata": {},
   "source": [
    "## Assignment - 5: set\n",
    "\n",
    "#### Create a set of your favorite fruits.\n",
    "#### Add 2 more fruits to the set.\n",
    "#### Remove one fruit from the set.\n",
    "#### Check if a specific fruit is in the set."
   ]
  },
  {
   "cell_type": "code",
   "execution_count": null,
   "id": "392102ae",
   "metadata": {},
   "outputs": [],
   "source": []
  },
  {
   "cell_type": "markdown",
   "id": "71fbf2dd",
   "metadata": {},
   "source": [
    "## Assignment - 6: tuple\n",
    "\n",
    "#### Create a tuple of your favorite fruits.\n",
    "#### Access the second fruit in the tuple.\n",
    "#### Try to modify the second fruit in the tuple (this should result in an error, as tuples are immutable)."
   ]
  },
  {
   "cell_type": "code",
   "execution_count": null,
   "id": "907312df",
   "metadata": {},
   "outputs": [],
   "source": []
  },
  {
   "cell_type": "markdown",
   "id": "fd073ca5",
   "metadata": {},
   "source": [
    "## Assignment - 7: dict\n",
    "\n",
    "#### Create a dictionary of your favorite fruits and their colors.\n",
    "#### Add 2 more fruits and their colors to the dictionary.\n",
    "#### Remove one fruit from the dictionary.\n",
    "#### Access the color of a specific fruit in the dictionary."
   ]
  },
  {
   "cell_type": "code",
   "execution_count": null,
   "id": "2912e106",
   "metadata": {},
   "outputs": [],
   "source": []
  },
  {
   "cell_type": "markdown",
   "id": "deac1b90",
   "metadata": {},
   "source": [
    "## Assignment - 8: if\n",
    "\n",
    "#### Write a Python program that takes a number as input and prints \"Positive\" if the number is positive, \"Negative\" if the number is negative, and \"Zero\" if the number is zero.\n",
    "#### Modify the program to also print the absolute value of the number."
   ]
  },
  {
   "cell_type": "code",
   "execution_count": null,
   "id": "ab999556",
   "metadata": {},
   "outputs": [],
   "source": []
  },
  {
   "cell_type": "markdown",
   "id": "94cb5197",
   "metadata": {},
   "source": [
    "## Assignment - 9: for\n",
    "\n",
    "#### Write a Python program to print the numbers from 1 to 10.\n",
    "#### Modify the program to print only the odd numbers from 1 to 10."
   ]
  },
  {
   "cell_type": "code",
   "execution_count": null,
   "id": "aa464e2d",
   "metadata": {},
   "outputs": [],
   "source": []
  },
  {
   "cell_type": "markdown",
   "id": "1ed1c29f",
   "metadata": {},
   "source": [
    "## Assignment - 10: function\n",
    "\n",
    "#### Create a function to calculate the area of a circle.\n",
    "#### Create another function to calculate the circumference of a circle.\n",
    "#### Call both functions and print the results for a circle with a radius of 5."
   ]
  },
  {
   "cell_type": "code",
   "execution_count": null,
   "id": "191001aa",
   "metadata": {},
   "outputs": [],
   "source": []
  }
 ],
 "metadata": {
  "kernelspec": {
   "display_name": "Python 3 (ipykernel)",
   "language": "python",
   "name": "python3"
  },
  "language_info": {
   "codemirror_mode": {
    "name": "ipython",
    "version": 3
   },
   "file_extension": ".py",
   "mimetype": "text/x-python",
   "name": "python",
   "nbconvert_exporter": "python",
   "pygments_lexer": "ipython3",
   "version": "3.10.5"
  }
 },
 "nbformat": 4,
 "nbformat_minor": 5
}
