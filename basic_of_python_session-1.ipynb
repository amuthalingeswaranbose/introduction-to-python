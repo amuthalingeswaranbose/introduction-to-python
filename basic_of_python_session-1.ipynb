{
 "cells": [
  {
   "cell_type": "markdown",
   "id": "cdb9f571",
   "metadata": {},
   "source": [
    "## Objective of this course\n",
    "\n",
    "   #### learn basic of python\n",
    "   \n",
    "   ## list of topics - session 01\n",
    "   \n",
    "   ##### 1. What is python?\n",
    "   ##### 2. Why Python?\n",
    "   ##### 3. Get started\n",
    "   ##### 4. Primitive datatypes\n",
    "   ##### 5. Data structures\n",
    "   ##### 6. if, elif and else\n",
    "   ##### 7. for loop\n",
    "   ##### 8. Function \n",
    "   "
   ]
  },
  {
   "cell_type": "markdown",
   "id": "e27a1055",
   "metadata": {},
   "source": [
    "## 1. What is Python\n",
    "   \n",
    "   #### * Python is a interpreted, and dynamically-typed programming language that is widely used for various applications . \n"
   ]
  },
  {
   "cell_type": "code",
   "execution_count": null,
   "id": "78a64d00",
   "metadata": {},
   "outputs": [],
   "source": []
  },
  {
   "cell_type": "markdown",
   "id": "b7bdd2f5",
   "metadata": {},
   "source": [
    "## 2. Why Python?\n",
    "\n",
    "#### * Python is open source.\n",
    "#### * It is known for its simple syntax, easy readability, and strong community support.\n",
    "#### * Easy to learn.  \n",
    "#### * Few lines of code for developing an application. \n",
    "#### * Increase productivity\n",
    "#### * Rapid carrier growth which ensure high salary.\n",
    "#### * Give lot of new carrier paths.\n",
    "#### * It is used for various purposes such as web development, data analysis, machine learning, artificial intelligence, scientific computing, and many more."
   ]
  },
  {
   "cell_type": "code",
   "execution_count": null,
   "id": "36d12e45",
   "metadata": {},
   "outputs": [],
   "source": []
  },
  {
   "cell_type": "markdown",
   "id": "f1771c82",
   "metadata": {},
   "source": [
    "# 3. get started\n",
    "\n",
    "#### In this session, we will guide you through the process of writing your first Python program. \n",
    "#### Whether you're a beginner or just looking to brush up on your skills, this session will help you get started with creating a simple \"Hello, World!\" program in Python.\""
   ]
  },
  {
   "cell_type": "markdown",
   "id": "819297bd",
   "metadata": {},
   "source": [
    "## 3.1 C program - Hello, World!"
   ]
  },
  {
   "cell_type": "code",
   "execution_count": null,
   "id": "bd2b569b",
   "metadata": {},
   "outputs": [],
   "source": [
    "'''\n",
    "#include <stdio.h>\n",
    "int main() {\n",
    "  printf(\"Hello, World!\");\n",
    "  return 0;\n",
    "}\n",
    "'''"
   ]
  },
  {
   "cell_type": "markdown",
   "id": "18adf1df",
   "metadata": {},
   "source": [
    "## 3.2 Java program - Hello, World!"
   ]
  },
  {
   "cell_type": "code",
   "execution_count": null,
   "id": "d235fa0a",
   "metadata": {},
   "outputs": [],
   "source": [
    "'''\n",
    "public class Main {\n",
    "  public static void main(String[] args) {\n",
    "    System.out.println(\"Hello World\");\n",
    "  }\n",
    "}\n",
    "'''"
   ]
  },
  {
   "cell_type": "markdown",
   "id": "c5f1691c",
   "metadata": {},
   "source": [
    "## 3.3 Python Program - Hello, World!\n",
    "\n",
    "   #### In python, to print Hello, World take only one line of code, but other programming languages requires more then 4+ lines.\n",
    "   #### Few line of code make Time saving, High productivity thats why python popular in now.\n",
    "   \n",
    "   #### The print function can be used to display variables, strings, and other data types in a human-readable format.\n",
    "   #### Additionally, print is often used for testing and debugging purposes, as it provides a quick and easy way to check the values of variables or expressions in your code."
   ]
  },
  {
   "cell_type": "code",
   "execution_count": null,
   "id": "1bfb674c",
   "metadata": {},
   "outputs": [],
   "source": [
    "print(\"Hello, World!\")"
   ]
  },
  {
   "cell_type": "code",
   "execution_count": null,
   "id": "1a5e8e28",
   "metadata": {},
   "outputs": [],
   "source": []
  },
  {
   "cell_type": "code",
   "execution_count": null,
   "id": "315faa63",
   "metadata": {},
   "outputs": [],
   "source": []
  },
  {
   "cell_type": "markdown",
   "id": "1d92ae44",
   "metadata": {},
   "source": [
    "# Built-in function\n",
    "\n",
    "#### A built-in function in Python is a pre-defined function that is part of the standard Python library. Python has a large number of built-in functions that perform a variety of tasks, such as mathematical operations, data type conversions, input/output operations, and more. Some common built-in functions in Python include:\n",
    "\n",
    "#### * print(): Displays output to the console.\n",
    "\n",
    "#### * type(): return type of the variable and value.\n",
    "#### * int(): Converts a value to an integer.\n",
    "\n",
    "#### * float(): Converts a value to a floating-point number.\n",
    "\n",
    "#### * str(): Converts a value to a string.\n",
    "\n",
    "#### * input(): Get user input."
   ]
  },
  {
   "cell_type": "code",
   "execution_count": 29,
   "id": "f7dd7f24",
   "metadata": {},
   "outputs": [
    {
     "name": "stdout",
     "output_type": "stream",
     "text": [
      "Hi\n"
     ]
    }
   ],
   "source": [
    "#Ex: print\n",
    "print(\"Hi\")"
   ]
  },
  {
   "cell_type": "code",
   "execution_count": 32,
   "id": "761e9ce0",
   "metadata": {},
   "outputs": [
    {
     "name": "stdout",
     "output_type": "stream",
     "text": [
      "enter your name: amuthan\n"
     ]
    },
    {
     "data": {
      "text/plain": [
       "'amuthan'"
      ]
     },
     "execution_count": 32,
     "metadata": {},
     "output_type": "execute_result"
    }
   ],
   "source": [
    "#Ex: input\n",
    "\n",
    "input(\"enter your name: \")"
   ]
  },
  {
   "cell_type": "code",
   "execution_count": null,
   "id": "ecf65b16",
   "metadata": {},
   "outputs": [],
   "source": []
  },
  {
   "cell_type": "code",
   "execution_count": null,
   "id": "ef4f418d",
   "metadata": {},
   "outputs": [],
   "source": []
  },
  {
   "cell_type": "markdown",
   "id": "3fc0054c",
   "metadata": {},
   "source": [
    "# 4. primitive datatypes\n",
    "   \n",
    "   #### In every programming language, the data type is very important concept.\n",
    "   \n",
    "   #### Variables can store different type of data for do difference type of operations.\n",
    "   \n",
    "   #### They are typically used to store simple values, such as numbers or characters, \n",
    "   \n",
    "   #### * The following are the primitive data types in Python:\n",
    "   \n",
    "   ##### *. Text type - str\n",
    "   \n",
    "   ##### *. Numeric types - int, float,\n",
    "\n",
    "   ##### *. Boolean type - bool\n",
    "\n",
    "   \n",
    "#### In Python, there are several built-in functions that work with specific data types:\n",
    "\n",
    "#### * Text type: len, str, upper, lower, strip, replace, format, etc.\n",
    "\n",
    "#### * Numeric types : int, float, abs, round, sum, etc.\n",
    "\n",
    "\n",
    "\n",
    "\n"
   ]
  },
  {
   "cell_type": "code",
   "execution_count": null,
   "id": "b514726b",
   "metadata": {},
   "outputs": [],
   "source": []
  },
  {
   "cell_type": "markdown",
   "id": "31bafd9d",
   "metadata": {},
   "source": [
    "## 4.1 setting data type in c\n",
    "\n",
    "#### In c, define data 'type' and 'variablename'. 'variablename' is name of the variable. the equal sign is used to assign the value to the variablename. \n",
    "\n",
    "#### In C, we need define end of the line using semi-colon.\n",
    "\n",
    "#### Example,"
   ]
  },
  {
   "cell_type": "code",
   "execution_count": null,
   "id": "c204ac8e",
   "metadata": {},
   "outputs": [],
   "source": [
    "'''\n",
    "int c;\n",
    "c = 10;\n",
    "#What will happen if we assign - it can result in \"data loss\" if the target data type is not capable of representing the information contained in the original data type.\n",
    "c = 10.0\n",
    "'''"
   ]
  },
  {
   "cell_type": "code",
   "execution_count": null,
   "id": "d8a4ded4",
   "metadata": {},
   "outputs": [],
   "source": []
  },
  {
   "cell_type": "markdown",
   "id": "69970a8d",
   "metadata": {},
   "source": [
    "## 4.2 setting data type in java\n",
    "\n",
    "#### In j, define data 'type' and 'variablename'. 'variablename' is name of the variable. the equal sign assign the value to the variablename.\n",
    "\n",
    "#### In java, we need define end of the line using semi-colon.\n",
    "\n",
    "#### Example,"
   ]
  },
  {
   "cell_type": "code",
   "execution_count": null,
   "id": "7380d3dc",
   "metadata": {},
   "outputs": [],
   "source": [
    "'''\n",
    "String name = \"ram\";''\n",
    "'''"
   ]
  },
  {
   "cell_type": "code",
   "execution_count": null,
   "id": "dc1a5506",
   "metadata": {},
   "outputs": [],
   "source": []
  },
  {
   "cell_type": "markdown",
   "id": "73896b56",
   "metadata": {},
   "source": [
    "## 4.3 setting data type in python\n",
    "\n",
    "   #### In python, assigning a value to a variable is set the data type.\n",
    "   #### No need to define the type of the variable in python. python can find the type of the variable by it own.\n",
    "   #### We don't need to define end of the line in python, but other programming languages use semicolon for define end of the line.\n",
    "   \n",
    "   #### If we need to check, type of the variable in python use 'type()'method for find the type of the variable."
   ]
  },
  {
   "cell_type": "code",
   "execution_count": null,
   "id": "0e33baf2",
   "metadata": {},
   "outputs": [],
   "source": []
  },
  {
   "cell_type": "markdown",
   "id": "eeae1f59",
   "metadata": {},
   "source": [
    "### 4.3.1 Integer (int): A whole number, for example: 10, -5"
   ]
  },
  {
   "cell_type": "code",
   "execution_count": 117,
   "id": "08b90504",
   "metadata": {},
   "outputs": [
    {
     "name": "stdout",
     "output_type": "stream",
     "text": [
      "10\n",
      "-5\n"
     ]
    }
   ],
   "source": [
    "ia = 10\n",
    "ib = -5\n",
    "print(ia)\n",
    "print(ib)"
   ]
  },
  {
   "cell_type": "code",
   "execution_count": null,
   "id": "d649d469",
   "metadata": {},
   "outputs": [],
   "source": []
  },
  {
   "cell_type": "code",
   "execution_count": 118,
   "id": "b2bd4220",
   "metadata": {},
   "outputs": [
    {
     "name": "stdout",
     "output_type": "stream",
     "text": [
      "<class 'int'>\n"
     ]
    }
   ],
   "source": [
    "print(type(ia)) # check type of the variable using type() method"
   ]
  },
  {
   "cell_type": "markdown",
   "id": "6d21cd92",
   "metadata": {},
   "source": [
    "### 4.3.2 Float (float): A real number with a decimal point, for example: 3.14, -0.6"
   ]
  },
  {
   "cell_type": "code",
   "execution_count": 119,
   "id": "a38dd71c",
   "metadata": {},
   "outputs": [
    {
     "name": "stdout",
     "output_type": "stream",
     "text": [
      "3.14\n",
      "-0.6\n"
     ]
    }
   ],
   "source": [
    "fa = 3.14\n",
    "fb = -0.6\n",
    "\n",
    "print(fa)\n",
    "print(fb)"
   ]
  },
  {
   "cell_type": "code",
   "execution_count": null,
   "id": "6213e264",
   "metadata": {},
   "outputs": [],
   "source": []
  },
  {
   "cell_type": "code",
   "execution_count": 120,
   "id": "8dde76b9",
   "metadata": {},
   "outputs": [
    {
     "name": "stdout",
     "output_type": "stream",
     "text": [
      "<class 'float'>\n"
     ]
    }
   ],
   "source": [
    "print(type(fb)) # check type of the variable using type() method"
   ]
  },
  {
   "cell_type": "markdown",
   "id": "89abc2dd",
   "metadata": {},
   "source": [
    "### 4.3.3 String (str): A sequence of characters, for example: 'Hello, World!', '123'"
   ]
  },
  {
   "cell_type": "code",
   "execution_count": 122,
   "id": "6f9fc55b",
   "metadata": {},
   "outputs": [
    {
     "name": "stdout",
     "output_type": "stream",
     "text": [
      "Hello, World\n",
      "123\n"
     ]
    }
   ],
   "source": [
    "sa = \"Hello, World\"\n",
    "sb = '123'\n",
    "\n",
    "print(sa)\n",
    "print(sb)"
   ]
  },
  {
   "cell_type": "code",
   "execution_count": null,
   "id": "072ecb66",
   "metadata": {},
   "outputs": [],
   "source": []
  },
  {
   "cell_type": "code",
   "execution_count": 124,
   "id": "6865b940",
   "metadata": {},
   "outputs": [
    {
     "name": "stdout",
     "output_type": "stream",
     "text": [
      "<class 'str'>\n"
     ]
    }
   ],
   "source": [
    "print(type(sb)) # check type of the variable using type() method"
   ]
  },
  {
   "cell_type": "markdown",
   "id": "61b6779c",
   "metadata": {},
   "source": [
    "### 4.3.4 Boolean (bool): A value that is either True or False, for example: True, False"
   ]
  },
  {
   "cell_type": "code",
   "execution_count": 125,
   "id": "003e458a",
   "metadata": {},
   "outputs": [
    {
     "name": "stdout",
     "output_type": "stream",
     "text": [
      "True\n",
      "False\n"
     ]
    }
   ],
   "source": [
    "bd = True\n",
    "bf = False\n",
    "\n",
    "print(bd)\n",
    "print(bf)"
   ]
  },
  {
   "cell_type": "code",
   "execution_count": null,
   "id": "7f221da9",
   "metadata": {},
   "outputs": [],
   "source": []
  },
  {
   "cell_type": "code",
   "execution_count": 126,
   "id": "512d712d",
   "metadata": {},
   "outputs": [
    {
     "name": "stdout",
     "output_type": "stream",
     "text": [
      "<class 'bool'>\n"
     ]
    }
   ],
   "source": [
    "print(type(bd))"
   ]
  },
  {
   "cell_type": "code",
   "execution_count": null,
   "id": "e3e7b4e2",
   "metadata": {},
   "outputs": [],
   "source": []
  },
  {
   "cell_type": "markdown",
   "id": "e0d67cea",
   "metadata": {},
   "source": [
    "### Excercises,"
   ]
  },
  {
   "cell_type": "code",
   "execution_count": null,
   "id": "df2cbffd",
   "metadata": {},
   "outputs": [],
   "source": []
  },
  {
   "cell_type": "markdown",
   "id": "f99026b8",
   "metadata": {},
   "source": [
    "## 4.4 Setting specific data type\n",
    "\n",
    "#### If you want to specify the data type, you can use the following constructor functions:\n",
    "#### However, in some cases, it can be beneficial to set a specific type for a variable. \n",
    "#### This can help you catch potential errors early on in the development process and make your code more readable and maintainable. \n",
    "#### By explicitly setting a type, you can ensure that a variable is always used in the correct manner throughout your code.\n"
   ]
  },
  {
   "cell_type": "code",
   "execution_count": 38,
   "id": "fc7ae8c0",
   "metadata": {},
   "outputs": [
    {
     "name": "stdout",
     "output_type": "stream",
     "text": [
      "f\n"
     ]
    },
    {
     "ename": "ValueError",
     "evalue": "invalid literal for int() with base 10: 'f'",
     "output_type": "error",
     "traceback": [
      "\u001b[1;31m---------------------------------------------------------------------------\u001b[0m",
      "\u001b[1;31mValueError\u001b[0m                                Traceback (most recent call last)",
      "Cell \u001b[1;32mIn [38], line 8\u001b[0m\n\u001b[0;32m      5\u001b[0m \u001b[38;5;66;03m# With explicitly setting the type\u001b[39;00m\n\u001b[0;32m      6\u001b[0m age: \u001b[38;5;28mint\u001b[39m \u001b[38;5;241m=\u001b[39m \u001b[38;5;241m10000\u001b[39m\n\u001b[1;32m----> 8\u001b[0m t \u001b[38;5;241m=\u001b[39m \u001b[38;5;28;43mint\u001b[39;49m\u001b[43m(\u001b[49m\u001b[38;5;28;43minput\u001b[39;49m\u001b[43m(\u001b[49m\u001b[38;5;124;43m\"\u001b[39;49m\u001b[38;5;124;43m\"\u001b[39;49m\u001b[43m)\u001b[49m\u001b[43m)\u001b[49m\n\u001b[0;32m      9\u001b[0m \u001b[38;5;28mprint\u001b[39m(\u001b[38;5;28mtype\u001b[39m(t))\n",
      "\u001b[1;31mValueError\u001b[0m: invalid literal for int() with base 10: 'f'"
     ]
    }
   ],
   "source": [
    "# integer\n",
    "# Without explicitly setting the type\n",
    "age = 25\n",
    "\n",
    "# With explicitly setting the type\n",
    "age: int = 10000\n",
    "    \n",
    "t = int(input(\"\"))\n",
    "print(type(t))"
   ]
  },
  {
   "cell_type": "code",
   "execution_count": 16,
   "id": "3ce1f07e",
   "metadata": {},
   "outputs": [
    {
     "name": "stdout",
     "output_type": "stream",
     "text": [
      "10000\n",
      "<class 'int'>\n"
     ]
    }
   ],
   "source": [
    "print(age)\n",
    "print(type(age))"
   ]
  },
  {
   "cell_type": "code",
   "execution_count": 17,
   "id": "32de35b0",
   "metadata": {},
   "outputs": [],
   "source": [
    "# float\n",
    "# Without explicitly setting the type\n",
    "salary = 10000.00\n",
    "\n",
    "# With explicitly setting the type\n",
    "salary: float = 10000.00"
   ]
  },
  {
   "cell_type": "code",
   "execution_count": 18,
   "id": "6488c075",
   "metadata": {},
   "outputs": [
    {
     "name": "stdout",
     "output_type": "stream",
     "text": [
      "10000.0\n",
      "<class 'float'>\n"
     ]
    }
   ],
   "source": [
    "print(salary)\n",
    "print(type(salary))"
   ]
  },
  {
   "cell_type": "code",
   "execution_count": 26,
   "id": "4f2c4f2d",
   "metadata": {},
   "outputs": [],
   "source": [
    "# string \n",
    "# Without explicitly setting the type\n",
    "name = 'Rajan'\n",
    "\n",
    "# With explicitly setting the type\n",
    "name: str = 'Rajan'"
   ]
  },
  {
   "cell_type": "code",
   "execution_count": 27,
   "id": "3bdc8504",
   "metadata": {},
   "outputs": [
    {
     "name": "stdout",
     "output_type": "stream",
     "text": [
      "Rajan\n",
      "<class 'str'>\n"
     ]
    }
   ],
   "source": [
    "print(name)\n",
    "print(type(name))"
   ]
  },
  {
   "cell_type": "code",
   "execution_count": 24,
   "id": "2ec03298",
   "metadata": {},
   "outputs": [],
   "source": [
    "# bool\n",
    "# Without explicitly setting the type\n",
    "isTrue = True\n",
    "\n",
    "# With explicitly setting the type\n",
    "isTrue: bool = True"
   ]
  },
  {
   "cell_type": "code",
   "execution_count": 25,
   "id": "fb2ac897",
   "metadata": {},
   "outputs": [
    {
     "name": "stdout",
     "output_type": "stream",
     "text": [
      "True\n",
      "<class 'bool'>\n"
     ]
    }
   ],
   "source": [
    "print(isTrue)\n",
    "print(type(isTrue))"
   ]
  },
  {
   "cell_type": "code",
   "execution_count": null,
   "id": "0bd79be7",
   "metadata": {},
   "outputs": [],
   "source": []
  },
  {
   "cell_type": "markdown",
   "id": "46e72de9",
   "metadata": {},
   "source": [
    "## 4.5 Type conversion\n",
    "\n",
    "#### Type conversion in Python is used to convert data from one data type to another data type. \n",
    "\n",
    "#### This is important because different data types have different properties, and some operations or functions may only be available for certain data types. \n",
    "\n",
    "#### By converting data from one type to another, we can process the data in a way that is more suitable for our needs."
   ]
  },
  {
   "cell_type": "code",
   "execution_count": null,
   "id": "3316e910",
   "metadata": {},
   "outputs": [],
   "source": [
    "'''\n",
    "float amnt = 100.0;\n",
    "int amnt = amnt # pass float type to int type get value overload in c and java also\n",
    "'''"
   ]
  },
  {
   "cell_type": "markdown",
   "id": "44f7e0ed",
   "metadata": {},
   "source": [
    "## 4.5.1 Int conversion"
   ]
  },
  {
   "cell_type": "markdown",
   "id": "52433065",
   "metadata": {},
   "source": [
    "### 4.5.1.1 float to int conversion\n",
    "\n",
    "##### * Rounding values: When working with floating-point numbers, you may want to round them to the nearest integer. By converting floats to integers, you can easily round values to the nearest whole number.\n",
    "\n",
    "##### * Representing whole numbers: In some cases, you may only need to represent whole numbers, and not fractional values. By converting floats to integers, you can ensure that only whole number values are stored and processed."
   ]
  },
  {
   "cell_type": "code",
   "execution_count": 5,
   "id": "d5076882",
   "metadata": {},
   "outputs": [
    {
     "name": "stdout",
     "output_type": "stream",
     "text": [
      "10\n"
     ]
    }
   ],
   "source": [
    "# Example: rounding off the price of a product to the nearest whole number\n",
    "\n",
    "# Input data\n",
    "price = 10.87\n",
    "\n",
    "# Convert float to integer\n",
    "price = int(price)\n",
    "\n",
    "print(price)  # Output: 10\n"
   ]
  },
  {
   "cell_type": "code",
   "execution_count": 134,
   "id": "26b2ed17",
   "metadata": {},
   "outputs": [
    {
     "data": {
      "text/plain": [
       "int"
      ]
     },
     "execution_count": 134,
     "metadata": {},
     "output_type": "execute_result"
    }
   ],
   "source": [
    "type(round_year_of_experience)"
   ]
  },
  {
   "cell_type": "markdown",
   "id": "741be104",
   "metadata": {},
   "source": [
    "### 4.5.1.2 string to int conversion\n",
    "\n",
    "##### Input from user: When you ask a user to enter a value, the input is usually received as a string. To perform arithmetic operations on this value, you'll need to convert it to an integer first.\n",
    "\n",
    "##### Reading data from a file: When reading data from a file, the values may be stored as strings, even if they represent numerical data. To perform mathematical operations on these values, you'll need to convert them to integers.\n",
    "\n",
    "#### Processing data from a database: When retrieving data from a database, values may be stored as strings. To perform calculations on this data, you'll need to convert it to integers."
   ]
  },
  {
   "cell_type": "code",
   "execution_count": 135,
   "id": "cfae4817",
   "metadata": {},
   "outputs": [
    {
     "name": "stdout",
     "output_type": "stream",
     "text": [
      "Calculate your 10 th total mark....\n",
      "enter your tamil mark: 1\n",
      "enter your english mark: 2\n",
      "enter your maths mark: 3\n",
      "enter your social mark: 2\n",
      "enter your social-science mark: 1\n",
      "total:  12321\n",
      "<class 'str'>\n"
     ]
    }
   ],
   "source": [
    "print(\"Calculate your 10 th total mark....\") # apply int() casting method\n",
    "\n",
    "tm = input(\"enter your tamil mark: \")\n",
    "em = input(\"enter your english mark: \")\n",
    "mm = input(\"enter your maths mark: \")\n",
    "sm = input(\"enter your social mark: \")\n",
    "ssm = input(\"enter your social-science mark: \")\n",
    "\n",
    "mark_total = tm + em + mm + sm + ssm\n",
    "print(\"total: \", mark_total)\n",
    "\n",
    "print(type(mark_total))"
   ]
  },
  {
   "cell_type": "code",
   "execution_count": null,
   "id": "bcae0d41",
   "metadata": {
    "scrolled": true
   },
   "outputs": [],
   "source": [
    "print(\"Calculate your 10 th total mark....\") # apply int() casting method\n",
    "\n",
    "tm = int(input(\"enter your tamil mark: \"))\n",
    "em = int(input(\"enter your english mark: \"))\n",
    "mm = int(input(\"enter your maths mark: \"))\n",
    "sm = int(input(\"enter your social mark: \"))\n",
    "ssm = int(input(\"enter your social-science mark: \"))\n",
    "\n",
    "mark_total = tm + em + mm + sm + ssm\n",
    "print(\"total: \", mark_total)\n",
    "\n",
    "print(type(mark_total))"
   ]
  },
  {
   "cell_type": "markdown",
   "id": "5230a5c4",
   "metadata": {},
   "source": [
    "## 4.5.2 Float conversion"
   ]
  },
  {
   "cell_type": "markdown",
   "id": "aa95540c",
   "metadata": {},
   "source": [
    "### 4.5.2.1 int to float conversion"
   ]
  },
  {
   "cell_type": "code",
   "execution_count": null,
   "id": "a208b4f0",
   "metadata": {},
   "outputs": [],
   "source": [
    "# Example: calculating a sale price\n",
    "\n",
    "# Input data\n",
    "original_price = 500\n",
    "discount_percent = 25\n",
    "\n",
    "# Convert integer to float\n",
    "discount_percent = float(discount_percent) / 100\n",
    "\n",
    "# Calculate sale price\n",
    "discount = original_price * discount_percent\n",
    "sale_price = original_price - discount\n",
    "print(sale_price)  # Output: 375.0"
   ]
  },
  {
   "cell_type": "markdown",
   "id": "1540f15e",
   "metadata": {},
   "source": [
    "### 4.5.2.2 string to float conversion"
   ]
  },
  {
   "cell_type": "code",
   "execution_count": 8,
   "id": "a5097762",
   "metadata": {},
   "outputs": [
    {
     "name": "stdout",
     "output_type": "stream",
     "text": [
      "enter today's temperature: 4.5\n",
      "Temperature in Celsius:  4.5\n",
      "Temperature as a string:  4.5\n"
     ]
    }
   ],
   "source": [
    "# float representing a temperature in Celsius\n",
    "temp = input(\"enter today's temperature: \") #\"37.5\"\n",
    "\n",
    "# converting float to string\n",
    "temp_str = float(temp)\n",
    "\n",
    "print(\"Temperature in Celsius: \", temp)\n",
    "print(\"Temperature as a string: \", temp_str)\n",
    "\n",
    "# Output:\n",
    "# Temperature in Celsius:  37.5\n",
    "# Temperature as a string:  37.5\n"
   ]
  },
  {
   "cell_type": "code",
   "execution_count": null,
   "id": "f5c308f3",
   "metadata": {},
   "outputs": [],
   "source": []
  },
  {
   "cell_type": "markdown",
   "id": "8d275513",
   "metadata": {},
   "source": [
    "## 4.5.3 String conversion"
   ]
  },
  {
   "cell_type": "markdown",
   "id": "1b7eaa40",
   "metadata": {},
   "source": [
    "### 4.5.3.1 int to str conversion"
   ]
  },
  {
   "cell_type": "code",
   "execution_count": 10,
   "id": "d07a1e91",
   "metadata": {},
   "outputs": [
    {
     "name": "stdout",
     "output_type": "stream",
     "text": [
      "The temperature is 72°F.\n"
     ]
    }
   ],
   "source": [
    "# Example: converting an integer value to a string for display purposes\n",
    "\n",
    "# Input data\n",
    "temperature = 72\n",
    "\n",
    "# Convert integer to string\n",
    "temperature_str = str(temperature)\n",
    "\n",
    "# Use the string value in a message\n",
    "message = \"The temperature is \" + temperature_str + \"°F.\"\n",
    "print(message)  # Output: The temperature is 72°F.\n"
   ]
  },
  {
   "cell_type": "markdown",
   "id": "2919d68b",
   "metadata": {},
   "source": [
    "### 4.5.3.2 float to str conversion"
   ]
  },
  {
   "cell_type": "code",
   "execution_count": 11,
   "id": "7ce67bd2",
   "metadata": {},
   "outputs": [
    {
     "name": "stdout",
     "output_type": "stream",
     "text": [
      "Your weight is 68.5 kg.\n"
     ]
    }
   ],
   "source": [
    "# Example: converting a float value to a string for display purposes\n",
    "\n",
    "# Input data\n",
    "weight = 68.5\n",
    "\n",
    "# Convert float to string\n",
    "weight_str = str(weight)\n",
    "\n",
    "# Use the string value in a message\n",
    "message = \"Your weight is \" + weight_str + \" kg.\"\n",
    "print(message)  # Output: Your weight is 68.5 kg.\n"
   ]
  },
  {
   "cell_type": "code",
   "execution_count": null,
   "id": "5ee577e6",
   "metadata": {},
   "outputs": [],
   "source": []
  },
  {
   "cell_type": "markdown",
   "id": "0df3eb13",
   "metadata": {},
   "source": [
    "## Assignment:"
   ]
  },
  {
   "cell_type": "markdown",
   "id": "814ac724",
   "metadata": {},
   "source": [
    "### Assignment - 1:\n",
    "Store the following numbers as variables:\n",
    "\n",
    "25, \n",
    "50, \n",
    "75, \n",
    "100\n",
    "\n",
    "Perform the following arithmetic operations using the variables:\n",
    "\n",
    "##### Addition, \n",
    "##### Subtraction, \n",
    "##### Multiplication, \n",
    "##### Division\n",
    "\n",
    "Store the result of each operation in separate variables and print the results.\n",
    "\n",
    "Finally, explain the difference between int and float data types in your own words."
   ]
  },
  {
   "cell_type": "code",
   "execution_count": null,
   "id": "453ddfef",
   "metadata": {},
   "outputs": [],
   "source": []
  },
  {
   "cell_type": "markdown",
   "id": "5e2975e7",
   "metadata": {},
   "source": [
    "## Assignment-2 : float\n",
    "\n",
    "##### Create a variable named num1 and assign it the value 10.0.\n",
    "##### Create a variable named num2 and assign it the value 20.0.\n",
    "##### Create a variable named result and assign it the value of the sum of num1 and num2.\n",
    "##### Print the value of result.\n",
    "##### Create a variable named num3 and assign it the value of the product of num1 and num2.\n",
    "##### Print the value of num3.\n",
    "##### Create a variable named div and assign it the value of the division of num3 by num1.\n",
    "##### Print the value of div."
   ]
  },
  {
   "cell_type": "code",
   "execution_count": null,
   "id": "51712f5c",
   "metadata": {},
   "outputs": [],
   "source": []
  },
  {
   "cell_type": "markdown",
   "id": "2d5e55d5",
   "metadata": {},
   "source": [
    "### Assignment - 3: string\n",
    "\n",
    "##### Create a variable named greeting and assign it the value \"Hello World!\".\n",
    "##### Print the value of greeting.\n",
    "##### Create a variable named name and assign it the value of your name.\n",
    "##### Create a variable named introduction and assign it the value \"My name is\".\n",
    "##### Concatenate introduction, a space, and name to form a sentence.\n",
    "##### Print the sentence.\n",
    "##### Create a variable named length and assign it the length of the sentence formed in step 6.\n",
    "##### Print the value of length."
   ]
  },
  {
   "cell_type": "code",
   "execution_count": null,
   "id": "2e227579",
   "metadata": {},
   "outputs": [],
   "source": []
  },
  {
   "cell_type": "markdown",
   "id": "94df9701",
   "metadata": {},
   "source": [
    "## 5. data structures\n",
    "\n",
    "   #### in a data structures we can store multiples of values or item in a single variable.\n",
    "   #### we use that varibale for complex and tasks\n",
    "   \n",
    "   #### A data structure is a specialized format for organizing, processing, retrieving and storing data.\n",
    "   \n",
    "   #### python has four data structures and categories, namely \n",
    "   \n",
    "   ##### 1. sequence types - list, tuple\n",
    "   \n",
    "   ##### 2. set type -  set\n",
    "   \n",
    "   ##### 3. mapping type - dictionary\n",
    "   "
   ]
  },
  {
   "cell_type": "code",
   "execution_count": null,
   "id": "e0d8a7fc",
   "metadata": {},
   "outputs": [],
   "source": []
  },
  {
   "cell_type": "markdown",
   "id": "81d6f500",
   "metadata": {},
   "source": [
    "### In Python, there are several built-in functions that work with specific data structures:\n",
    "\n",
    "##### * Lists: len, sum, sorted, min, max, append, pop, remove, insert, etc.\n",
    "\n",
    "##### * Tuples: len, sum, sorted, min, max, etc.\n",
    "\n",
    "##### * Dictionaries: len, keys, values, items, get, pop, update, etc.\n",
    "   "
   ]
  },
  {
   "cell_type": "code",
   "execution_count": null,
   "id": "e6aa6718",
   "metadata": {},
   "outputs": [],
   "source": []
  },
  {
   "cell_type": "markdown",
   "id": "06e20632",
   "metadata": {},
   "source": [
    "### 5.1 Sequence types"
   ]
  },
  {
   "cell_type": "markdown",
   "id": "41944005",
   "metadata": {},
   "source": [
    "### 5.1.1 list\n",
    "\n",
    "   #### List can store multiples of values or items in a single variable.\n",
    "   #### An ordered collection of items, which can be of any data type, including other lists. \n",
    "   #### Lists are mutable and can be accessed by their indices.\n",
    "   #### List items are associated with list index. we can use the index of the for accessing an list item.\n",
    "   #### Lists are created using sqaure brackets.\n",
    "   #### List items are changeable (allows dupilcate members)\n",
    "   #### List is a heterogeneous - (list store store any type)"
   ]
  },
  {
   "cell_type": "markdown",
   "id": "9780ea92",
   "metadata": {},
   "source": [
    "### 5.1.1.1 create an list"
   ]
  },
  {
   "cell_type": "code",
   "execution_count": null,
   "id": "e11b3969",
   "metadata": {},
   "outputs": [],
   "source": [
    "classnames = ['alex', 'raj', 'mani', 'mahesh']\n",
    "print(classnames)"
   ]
  },
  {
   "cell_type": "markdown",
   "id": "0071df71",
   "metadata": {},
   "source": [
    "### 5.1.1.2 access an item"
   ]
  },
  {
   "cell_type": "code",
   "execution_count": null,
   "id": "600a2cbb",
   "metadata": {},
   "outputs": [],
   "source": [
    "print(classnames.index('mani'))"
   ]
  },
  {
   "cell_type": "code",
   "execution_count": null,
   "id": "b33164c8",
   "metadata": {},
   "outputs": [],
   "source": [
    "print(classnames[1])"
   ]
  },
  {
   "cell_type": "code",
   "execution_count": null,
   "id": "6aa4937e",
   "metadata": {},
   "outputs": [],
   "source": [
    "print(classnames[-1])"
   ]
  },
  {
   "cell_type": "markdown",
   "id": "7b97c013",
   "metadata": {},
   "source": [
    "### 5.1.1.3 add an item"
   ]
  },
  {
   "cell_type": "code",
   "execution_count": null,
   "id": "8361bfdf",
   "metadata": {},
   "outputs": [],
   "source": [
    "classnames.append('john')\n",
    "print(classnames)"
   ]
  },
  {
   "cell_type": "markdown",
   "id": "b290e179",
   "metadata": {},
   "source": [
    "### 5.1.1.4 remove specified item"
   ]
  },
  {
   "cell_type": "code",
   "execution_count": null,
   "id": "915a8e27",
   "metadata": {},
   "outputs": [],
   "source": [
    "classnames.remove('raj')"
   ]
  },
  {
   "cell_type": "code",
   "execution_count": null,
   "id": "efdd4176",
   "metadata": {},
   "outputs": [],
   "source": [
    "print(classnames)"
   ]
  },
  {
   "cell_type": "code",
   "execution_count": null,
   "id": "3ca664c3",
   "metadata": {},
   "outputs": [],
   "source": []
  },
  {
   "cell_type": "markdown",
   "id": "1cdff615",
   "metadata": {},
   "source": [
    "## Assignment - 4: list\n",
    "\n",
    "#### Create a list of your favorite fruits.\n",
    "#### Add 2 more fruits to the list.\n",
    "#### Remove one fruit from the list.\n",
    "#### Sort the list in alphabetical order.\n",
    "#### Count how many times a specific fruit appears in the list."
   ]
  },
  {
   "cell_type": "code",
   "execution_count": null,
   "id": "e4fb6f93",
   "metadata": {},
   "outputs": [],
   "source": []
  },
  {
   "cell_type": "markdown",
   "id": "3e4f5008",
   "metadata": {},
   "source": [
    "## 5.1.2 tuple\n",
    "\n",
    "   #### An ordered collection of items, similar to a list, but are immutable, meaning their elements cannot be changed after creation.\n",
    "   #### store multiple items in single variable is called tuple.\n",
    "   #### tuple are created using round brackets.\n",
    "   #### tuple is ordered and unchangeable.\n",
    "   #### it allows dupilcate members"
   ]
  },
  {
   "cell_type": "markdown",
   "id": "ae1ecacd",
   "metadata": {},
   "source": [
    "### 5.1.2.1 create tuple "
   ]
  },
  {
   "cell_type": "code",
   "execution_count": null,
   "id": "10f89d6b",
   "metadata": {},
   "outputs": [],
   "source": [
    "district = ('madurai', 'theni', 'virudhunagar', 'ramanathapuram', 'sivagangai') # south tamilndau\n",
    "print(district)"
   ]
  },
  {
   "cell_type": "markdown",
   "id": "f8836020",
   "metadata": {},
   "source": [
    "### 5.1.2.2 access item"
   ]
  },
  {
   "cell_type": "code",
   "execution_count": null,
   "id": "80020218",
   "metadata": {},
   "outputs": [],
   "source": [
    "print(district[0])"
   ]
  },
  {
   "cell_type": "markdown",
   "id": "2e1ab23b",
   "metadata": {},
   "source": []
  },
  {
   "cell_type": "markdown",
   "id": "a466d4b8",
   "metadata": {},
   "source": [
    "## Assignment - 6: tuple\n",
    "\n",
    "#### Create a tuple of your favorite fruits.\n",
    "#### Access the second fruit in the tuple.\n",
    "#### Try to modify the second fruit in the tuple (this should result in an error, as tuples are immutable)."
   ]
  },
  {
   "cell_type": "code",
   "execution_count": null,
   "id": "4958e5f5",
   "metadata": {},
   "outputs": [],
   "source": []
  },
  {
   "cell_type": "markdown",
   "id": "d6731813",
   "metadata": {},
   "source": [
    "## 5.2 Set type"
   ]
  },
  {
   "cell_type": "markdown",
   "id": "b4432447",
   "metadata": {},
   "source": [
    "## 5.2.1 set\n",
    "\n",
    "   #### store multiple items in single variable is called set.\n",
    "   #### set is built-in function in python stores a  collection of data.\n",
    "   #### set is unordered, unchangeable and unindexed.\n",
    "   #### no dupilcate members\n",
    "   #### set items are unchangeable, but we can remove the items and add the new items."
   ]
  },
  {
   "cell_type": "markdown",
   "id": "a00ae96b",
   "metadata": {},
   "source": [
    "### 5.2.1.1 create set"
   ]
  },
  {
   "cell_type": "code",
   "execution_count": null,
   "id": "36120ac4",
   "metadata": {},
   "outputs": [],
   "source": [
    "attendencename = {'klex', 'jnbu', 'arun', 'rshok', 'manoj', 'yaja'}\n",
    "print(attendencename)"
   ]
  },
  {
   "cell_type": "code",
   "execution_count": null,
   "id": "10e786e9",
   "metadata": {},
   "outputs": [],
   "source": [
    "# gave duplicate removal example"
   ]
  },
  {
   "cell_type": "markdown",
   "id": "c5242d54",
   "metadata": {},
   "source": [
    "### 5.2.1.2 access item"
   ]
  },
  {
   "cell_type": "code",
   "execution_count": null,
   "id": "9c2e288d",
   "metadata": {},
   "outputs": [],
   "source": [
    "print(attendencename[0])"
   ]
  },
  {
   "cell_type": "markdown",
   "id": "13137ffc",
   "metadata": {},
   "source": [
    "### 5.2.1.3 add item"
   ]
  },
  {
   "cell_type": "code",
   "execution_count": null,
   "id": "6a34327c",
   "metadata": {},
   "outputs": [],
   "source": [
    "attendencename.add('pradeep')\n",
    "print(attendencename)"
   ]
  },
  {
   "cell_type": "markdown",
   "id": "52d21b6d",
   "metadata": {},
   "source": [
    "### 5.2.1.4 remove in item"
   ]
  },
  {
   "cell_type": "code",
   "execution_count": null,
   "id": "dccda0b4",
   "metadata": {},
   "outputs": [],
   "source": [
    "exampleset.remove('8')\n",
    "print(exampleset)"
   ]
  },
  {
   "cell_type": "code",
   "execution_count": null,
   "id": "11d5f904",
   "metadata": {},
   "outputs": [],
   "source": [
    "exampleset.remove(6) # if 6 is not in a set\n",
    "print(exampleset)"
   ]
  },
  {
   "cell_type": "code",
   "execution_count": null,
   "id": "ca3fd757",
   "metadata": {},
   "outputs": [],
   "source": []
  },
  {
   "cell_type": "markdown",
   "id": "d07952c1",
   "metadata": {},
   "source": [
    "## Assignment - 5: set\n",
    "\n",
    "#### Create a set of your favorite fruits.\n",
    "#### Add 2 more fruits to the set.\n",
    "#### Remove one fruit from the set.\n",
    "#### Check if a specific fruit is in the set."
   ]
  },
  {
   "cell_type": "code",
   "execution_count": null,
   "id": "c7c2d757",
   "metadata": {},
   "outputs": [],
   "source": []
  },
  {
   "cell_type": "markdown",
   "id": "4966b4d8",
   "metadata": {},
   "source": [
    "## 5.3 Mapping Type"
   ]
  },
  {
   "cell_type": "markdown",
   "id": "48d3f57f",
   "metadata": {},
   "source": [
    "## 5.3.1 dict\n",
    "\n",
    "   #### An unordered collection of key-value pairs, where each key is mapped to a specific value. Dictionaries are mutable and are accessed by their keys. \n",
    "   #### dict are created using curly brackets and have key and values.\n",
    "   #### do not allows dupilcate members."
   ]
  },
  {
   "cell_type": "markdown",
   "id": "c2840249",
   "metadata": {},
   "source": [
    "### 5.3.1.1 create dictionary"
   ]
  },
  {
   "cell_type": "code",
   "execution_count": null,
   "id": "f636343c",
   "metadata": {},
   "outputs": [],
   "source": [
    "employee_detail = {\n",
    "    \"eid\": 1,\n",
    "    \"ename\": \"Anbu\",\n",
    "    \"eage\": 25\n",
    "}\n",
    "\n",
    "print(employee_detail)"
   ]
  },
  {
   "cell_type": "markdown",
   "id": "72657ae2",
   "metadata": {},
   "source": [
    "### 5.3.1.2 access item"
   ]
  },
  {
   "cell_type": "code",
   "execution_count": null,
   "id": "94b5b0a5",
   "metadata": {},
   "outputs": [],
   "source": [
    "print(employee_detail[\"eid\"])"
   ]
  },
  {
   "cell_type": "markdown",
   "id": "f3b929d2",
   "metadata": {},
   "source": [
    "### 5.3.1.3 add item"
   ]
  },
  {
   "cell_type": "code",
   "execution_count": null,
   "id": "78c79cd3",
   "metadata": {},
   "outputs": [],
   "source": [
    "employee_detail['qualification'] = \"B.E(CSE)\"\n",
    "print(employee_detail)"
   ]
  },
  {
   "cell_type": "markdown",
   "id": "bdddb6a7",
   "metadata": {},
   "source": [
    "### 5.3.1.4 remove item"
   ]
  },
  {
   "cell_type": "code",
   "execution_count": null,
   "id": "70e7fd4d",
   "metadata": {},
   "outputs": [],
   "source": [
    "employee_detail.pop(\"eage\")\n",
    "print(employee_detail)"
   ]
  },
  {
   "cell_type": "markdown",
   "id": "4959fa98",
   "metadata": {},
   "source": [
    "### 5.3.1.5 value in a dictionary item can be any data type"
   ]
  },
  {
   "cell_type": "code",
   "execution_count": null,
   "id": "555b40c3",
   "metadata": {},
   "outputs": [],
   "source": [
    "dicttest = {\n",
    "    '16':{\n",
    "        \"name\": 'john',\n",
    "        \"age\": 25,\n",
    "        \"plays\": ['cricket', 'food_ball', 'kabadi']\n",
    "    },\n",
    "    '17':{\n",
    "        \"name\": 'kumar',\n",
    "        \"age\": 25,\n",
    "        \"plays\": ['tenis', ' chess', 'kabadi']\n",
    "    }\n",
    "}\n",
    "\n",
    "dicttest['17'][\"age\"]"
   ]
  },
  {
   "cell_type": "code",
   "execution_count": null,
   "id": "ead2c5fe",
   "metadata": {},
   "outputs": [],
   "source": [
    "# merge two dict example"
   ]
  },
  {
   "cell_type": "markdown",
   "id": "668c1530",
   "metadata": {},
   "source": [
    "# Assignment - 7: dict\n",
    "\n",
    "#### Create a dictionary of your favorite fruits and their colors.\n",
    "#### Add 2 more fruits and their colors to the dictionary.\n",
    "#### Remove one fruit from the dictionary.\n",
    "#### Access the color of a specific fruit in the dictionary."
   ]
  },
  {
   "cell_type": "code",
   "execution_count": null,
   "id": "0093eb82",
   "metadata": {},
   "outputs": [],
   "source": []
  },
  {
   "cell_type": "markdown",
   "id": "e1e2d8b3",
   "metadata": {},
   "source": [
    "## 6. If, Elif and Else Statement \n",
    "\n",
    "#### An if statement in Python is used to control the flow of execution based on conditions. It allows you to test a condition, and if the condition is true, execute a block of code."
   ]
  },
  {
   "cell_type": "markdown",
   "id": "18a93765",
   "metadata": {},
   "source": [
    "### There are several types of if statements in Python:\n",
    "\n",
    "### 6.1 Simple if statement: \n",
    "#### Executes a block of code if a specified condition is true."
   ]
  },
  {
   "cell_type": "code",
   "execution_count": null,
   "id": "17ab0e39",
   "metadata": {},
   "outputs": [],
   "source": [
    "# if\n",
    "\n",
    "person_age = 10\n",
    "eligible_for_movie = 18\n",
    "if eligible_for_movie > person_age:\n",
    "    print('elibible watching movie')"
   ]
  },
  {
   "cell_type": "code",
   "execution_count": null,
   "id": "ca515c39",
   "metadata": {},
   "outputs": [],
   "source": []
  },
  {
   "cell_type": "code",
   "execution_count": null,
   "id": "bebda916",
   "metadata": {},
   "outputs": [],
   "source": []
  },
  {
   "cell_type": "code",
   "execution_count": null,
   "id": "1fbbba34",
   "metadata": {},
   "outputs": [],
   "source": []
  },
  {
   "cell_type": "code",
   "execution_count": null,
   "id": "8eb8f506",
   "metadata": {},
   "outputs": [],
   "source": []
  },
  {
   "cell_type": "markdown",
   "id": "eab148b6",
   "metadata": {},
   "source": [
    "### 6.2 if-else statement: \n",
    "\n",
    "##### Executes a block of code if a specified condition is true, and another block of code if the condition is false."
   ]
  },
  {
   "cell_type": "code",
   "execution_count": null,
   "id": "58eb0183",
   "metadata": {},
   "outputs": [],
   "source": [
    "temperature = 30\n",
    "\n",
    "if temperature > 25:\n",
    "  print(\"It's warm outside.\")\n",
    "else:\n",
    "  print(\"It's not so warm.\")\n"
   ]
  },
  {
   "cell_type": "code",
   "execution_count": null,
   "id": "9bd3a8f6",
   "metadata": {},
   "outputs": [],
   "source": []
  },
  {
   "cell_type": "code",
   "execution_count": null,
   "id": "5e50fc2e",
   "metadata": {},
   "outputs": [],
   "source": []
  },
  {
   "cell_type": "code",
   "execution_count": null,
   "id": "974a6033",
   "metadata": {},
   "outputs": [],
   "source": []
  },
  {
   "cell_type": "code",
   "execution_count": null,
   "id": "00518e12",
   "metadata": {},
   "outputs": [],
   "source": []
  },
  {
   "cell_type": "markdown",
   "id": "d1ed6d8f",
   "metadata": {},
   "source": [
    "### 6.3 if-elif-else statement: \n",
    "\n",
    "#### Executes a block of code based on multiple conditions. \n",
    "#### If the first condition is true, it executes the block of code associated with it, otherwise, it moves on to the next elif condition, and so on. \n",
    "#### If none of the conditions are true, it executes the else block of code."
   ]
  },
  {
   "cell_type": "code",
   "execution_count": null,
   "id": "76e41df8",
   "metadata": {},
   "outputs": [],
   "source": [
    "# if, elif, else\n",
    "\n",
    "person_age = 18\n",
    "eligible_for_movie = 18\n",
    "if eligible_for_movie > person_age:\n",
    "    print('elibible')\n",
    "elif eligible_for_movie == person_age:\n",
    "    print('elibible')\n",
    "else:\n",
    "    print('not eligible')"
   ]
  },
  {
   "cell_type": "code",
   "execution_count": null,
   "id": "536b55a6",
   "metadata": {},
   "outputs": [],
   "source": []
  },
  {
   "cell_type": "code",
   "execution_count": null,
   "id": "b7814c23",
   "metadata": {},
   "outputs": [],
   "source": []
  },
  {
   "cell_type": "code",
   "execution_count": null,
   "id": "f5ab0396",
   "metadata": {},
   "outputs": [],
   "source": []
  },
  {
   "cell_type": "markdown",
   "id": "50115f0c",
   "metadata": {},
   "source": [
    "#### These different types of if statements allow you to write more complex code and make decisions based on multiple conditions."
   ]
  },
  {
   "cell_type": "code",
   "execution_count": null,
   "id": "6e378084",
   "metadata": {},
   "outputs": [],
   "source": []
  },
  {
   "cell_type": "markdown",
   "id": "704923cc",
   "metadata": {},
   "source": [
    "# Assignment - 8: if\n",
    "\n",
    "#### Write a Python program that takes a number as input and prints \"Positive\" if the number is positive, \"Negative\" if the number is negative, and \"Zero\" if the number is zero.\n",
    "#### Modify the program to also print the absolute value of the number."
   ]
  },
  {
   "cell_type": "code",
   "execution_count": null,
   "id": "76d88fab",
   "metadata": {},
   "outputs": [],
   "source": []
  },
  {
   "cell_type": "code",
   "execution_count": null,
   "id": "fb1dfd80",
   "metadata": {},
   "outputs": [],
   "source": []
  },
  {
   "cell_type": "markdown",
   "id": "786ad9ff",
   "metadata": {},
   "source": [
    "## 7. For Loop\n",
    "\n",
    "#### A for loop in Python is used to iterate over a sequence (such as a list, tuple, or string) and execute a block of code for each item in the sequence.\n",
    "\n",
    "### There are two types of for loops in Python:\n",
    "\n",
    "#### 1. for loop over a sequence: This type of loop iterates over a sequence of items, such as a list, tuple, or string, and executes a block of code for each item in the sequence."
   ]
  },
  {
   "cell_type": "code",
   "execution_count": null,
   "id": "2dcdadaf",
   "metadata": {
    "scrolled": false
   },
   "outputs": [],
   "source": [
    "# for with list - print student id\n",
    "rollnums = [6401, 6402, 6403, 6404, 6405, 6406, 6407, 6408, 6409, 6410]\n",
    "for rollnum in rollnums:\n",
    "    print(rollnum)"
   ]
  },
  {
   "cell_type": "code",
   "execution_count": null,
   "id": "da154aa4",
   "metadata": {},
   "outputs": [],
   "source": [
    "# for with tuple"
   ]
  },
  {
   "cell_type": "code",
   "execution_count": null,
   "id": "eaf7fa57",
   "metadata": {},
   "outputs": [],
   "source": [
    "# for with string"
   ]
  },
  {
   "cell_type": "code",
   "execution_count": null,
   "id": "9d5f957b",
   "metadata": {},
   "outputs": [],
   "source": []
  },
  {
   "cell_type": "markdown",
   "id": "59e4a804",
   "metadata": {},
   "source": [
    "## Assignment - 9: for\n",
    "\n",
    "#### Write a Python program to print the numbers from 1 to 10.\n",
    "#### Modify the program to print only the odd numbers from 1 to 10."
   ]
  },
  {
   "cell_type": "code",
   "execution_count": null,
   "id": "488a2dd6",
   "metadata": {},
   "outputs": [],
   "source": []
  },
  {
   "cell_type": "code",
   "execution_count": null,
   "id": "7c10a3c3",
   "metadata": {},
   "outputs": [],
   "source": []
  },
  {
   "cell_type": "code",
   "execution_count": null,
   "id": "eb7e08c5",
   "metadata": {},
   "outputs": [],
   "source": []
  },
  {
   "cell_type": "code",
   "execution_count": null,
   "id": "4da5fe6d",
   "metadata": {},
   "outputs": [],
   "source": []
  },
  {
   "cell_type": "code",
   "execution_count": null,
   "id": "760408a2",
   "metadata": {},
   "outputs": [],
   "source": []
  },
  {
   "cell_type": "code",
   "execution_count": null,
   "id": "e8e843cf",
   "metadata": {},
   "outputs": [],
   "source": []
  },
  {
   "cell_type": "code",
   "execution_count": null,
   "id": "e0c408e0",
   "metadata": {},
   "outputs": [],
   "source": []
  },
  {
   "cell_type": "code",
   "execution_count": null,
   "id": "95f49077",
   "metadata": {},
   "outputs": [],
   "source": []
  },
  {
   "cell_type": "code",
   "execution_count": null,
   "id": "9a2689fe",
   "metadata": {},
   "outputs": [],
   "source": []
  },
  {
   "cell_type": "code",
   "execution_count": null,
   "id": "bdd2fd36",
   "metadata": {},
   "outputs": [],
   "source": []
  },
  {
   "cell_type": "code",
   "execution_count": null,
   "id": "7417d07f",
   "metadata": {},
   "outputs": [],
   "source": []
  },
  {
   "cell_type": "code",
   "execution_count": null,
   "id": "74f774b5",
   "metadata": {},
   "outputs": [],
   "source": []
  },
  {
   "cell_type": "markdown",
   "id": "48aa39cf",
   "metadata": {},
   "source": [
    "# 8. Function\n",
    "\n",
    "#### A function in Python is a block of code that can be executed repeatedly with different inputs. Functions allow you to organize your code, make it reusable and readable.\n",
    "\n",
    "### There are two types of functions in Python:\n",
    "\n",
    "#### 1. Built-in Functions: Functions that are built into Python, such as print(), len(), etc."
   ]
  },
  {
   "cell_type": "code",
   "execution_count": null,
   "id": "9b46f9ba",
   "metadata": {},
   "outputs": [],
   "source": [
    "print(len(\"Hello, World!\")) # output - 12"
   ]
  },
  {
   "cell_type": "code",
   "execution_count": null,
   "id": "f07f449d",
   "metadata": {},
   "outputs": [],
   "source": []
  },
  {
   "cell_type": "markdown",
   "id": "83ac501a",
   "metadata": {},
   "source": [
    "#### 2. User-defined Functions: Functions created by the user, to perform specific tasks.\n",
    "\n",
    "##### Normal Functions: Functions that perform a specific task and return a value."
   ]
  },
  {
   "cell_type": "code",
   "execution_count": null,
   "id": "8354f218",
   "metadata": {},
   "outputs": [],
   "source": [
    "def my_first_function(name):\n",
    "    print(\"Hello \" + name)\n",
    "    \n",
    "my_first_function(\"vijay\") # output - Hello vijay"
   ]
  },
  {
   "cell_type": "code",
   "execution_count": null,
   "id": "482e1f8d",
   "metadata": {},
   "outputs": [],
   "source": []
  },
  {
   "cell_type": "markdown",
   "id": "7d7ad7ff",
   "metadata": {},
   "source": [
    "#### Function return a single value"
   ]
  },
  {
   "cell_type": "code",
   "execution_count": null,
   "id": "16b0f9c3",
   "metadata": {},
   "outputs": [],
   "source": [
    "# return single value\n",
    "\n",
    "def add(tm, em, mm, sm, ssm):\n",
    "    total = tm + em + mm + sm + ssm\n",
    "    return total\n",
    "\n",
    "tamil_mark = 100\n",
    "english_mark = 95\n",
    "maths_mark = 67\n",
    "science_mark = 87\n",
    "social_science_mark = 90\n",
    "\n",
    "mark_total = add(tamil_mark, english_mark, maths_mark, science_mark, social_science_mark)\n",
    "print(mark_total)"
   ]
  },
  {
   "cell_type": "code",
   "execution_count": null,
   "id": "078c5187",
   "metadata": {},
   "outputs": [],
   "source": []
  },
  {
   "cell_type": "markdown",
   "id": "e0953cc9",
   "metadata": {},
   "source": [
    "#### Calling the function with arbitary value"
   ]
  },
  {
   "cell_type": "code",
   "execution_count": null,
   "id": "14d6a64e",
   "metadata": {},
   "outputs": [],
   "source": [
    "# arbitary arguments\n",
    "\n",
    "def join_names(*v):\n",
    "    result = v[0] + v[1]\n",
    "    return result\n",
    "\n",
    "fname = 'manoj '\n",
    "sname = 'prabhakar'\n",
    "mname = join_names(fname, sname)\n",
    "print(mname)"
   ]
  },
  {
   "cell_type": "code",
   "execution_count": null,
   "id": "79b6087a",
   "metadata": {},
   "outputs": [],
   "source": []
  },
  {
   "cell_type": "markdown",
   "id": "68e38067",
   "metadata": {},
   "source": [
    "#### Function with keyword argumens"
   ]
  },
  {
   "cell_type": "code",
   "execution_count": null,
   "id": "43ace04c",
   "metadata": {},
   "outputs": [],
   "source": [
    "# keyword argumens\n",
    "\n",
    "def join_first_and_last_name(first_name, second_name):\n",
    "    result = first_name + second_name\n",
    "    return result\n",
    "\n",
    "mname = join_first_and_last_name(first_name='manoj ', second_name='prabhakar')\n",
    "print(mname)"
   ]
  },
  {
   "cell_type": "code",
   "execution_count": null,
   "id": "de196013",
   "metadata": {},
   "outputs": [],
   "source": []
  },
  {
   "cell_type": "markdown",
   "id": "f7631c76",
   "metadata": {},
   "source": [
    "#### Function arbitary keyword argumens"
   ]
  },
  {
   "cell_type": "code",
   "execution_count": null,
   "id": "4b6109db",
   "metadata": {},
   "outputs": [],
   "source": [
    "def join_first_and_last_name(**names):\n",
    "    result = names[\"first_name\"] + names[\"second_name\"]\n",
    "    return result\n",
    "\n",
    "mname = join_first_and_last_name(first_name='manoj ', second_name='prabhakar')\n",
    "print(mname)"
   ]
  },
  {
   "cell_type": "code",
   "execution_count": null,
   "id": "73322c9c",
   "metadata": {},
   "outputs": [],
   "source": []
  },
  {
   "cell_type": "markdown",
   "id": "1820287d",
   "metadata": {},
   "source": [
    "#### Function with default parameters\n",
    "\n",
    "##### In Python, you can specify default values for function parameters, which can be used if no value is passed for that parameter. This is done by assigning a default value to the parameter in the function definition."
   ]
  },
  {
   "cell_type": "code",
   "execution_count": null,
   "id": "14b26b47",
   "metadata": {},
   "outputs": [],
   "source": [
    "def greet(name, message=\"Hello\"):\n",
    "    print(message + \" \" + name)\n",
    "\n",
    "greet(\"Mahesh\")"
   ]
  },
  {
   "cell_type": "code",
   "execution_count": null,
   "id": "d28f5271",
   "metadata": {},
   "outputs": [],
   "source": [
    "greet(\"Alex\", \"Hi\")"
   ]
  },
  {
   "cell_type": "markdown",
   "id": "18f618e2",
   "metadata": {},
   "source": [
    "## Assignment - 10: function\n",
    "\n",
    "#### Create a function to calculate the area of a circle.\n",
    "#### Create another function to calculate the circumference of a circle.\n",
    "#### Call both functions and print the results for a circle with a radius of 5."
   ]
  },
  {
   "cell_type": "code",
   "execution_count": null,
   "id": "b9af1647",
   "metadata": {},
   "outputs": [],
   "source": []
  }
 ],
 "metadata": {
  "kernelspec": {
   "display_name": "Python 3 (ipykernel)",
   "language": "python",
   "name": "python3"
  },
  "language_info": {
   "codemirror_mode": {
    "name": "ipython",
    "version": 3
   },
   "file_extension": ".py",
   "mimetype": "text/x-python",
   "name": "python",
   "nbconvert_exporter": "python",
   "pygments_lexer": "ipython3",
   "version": "3.10.5"
  }
 },
 "nbformat": 4,
 "nbformat_minor": 5
}
