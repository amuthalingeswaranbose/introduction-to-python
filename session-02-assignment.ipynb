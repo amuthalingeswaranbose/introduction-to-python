{
 "cells": [
  {
   "cell_type": "markdown",
   "id": "afd87d5a",
   "metadata": {},
   "source": [
    "# Assignments"
   ]
  },
  {
   "cell_type": "markdown",
   "id": "b7b4af8b",
   "metadata": {},
   "source": [
    "1. We want to create a dictionary that you will use as your agenda. This dictionary will have as a key the name of your friends or relatives and as a value a string that holds their phone number. Add four friends to your agenda. Print the contents of     the entire dictionary. We have indicated that a phone number is a string. Could or should we have used integer as the data type, or are strings better?"
   ]
  },
  {
   "cell_type": "code",
   "execution_count": null,
   "id": "3679d280",
   "metadata": {},
   "outputs": [],
   "source": []
  },
  {
   "cell_type": "markdown",
   "id": "ae61c18e",
   "metadata": {},
   "source": [
    "2.Write a program that takes a user's age as input and then prints a message indicating which age group the user falls into. The program should use the following age ranges and messages:\n",
    "\n",
    "    * If the user is less than 18 years old, print \"You are a minor.\"\n",
    "    * If the user is between 18 and 64 years old (inclusive), print \"You are an adult.\"\n",
    "    * If the user is 65 years old or older, print \"You are a senior citizen.\"\n",
    "    * If the user enters a negative age, print an error message \"Invalid age entered.\""
   ]
  },
  {
   "cell_type": "code",
   "execution_count": null,
   "id": "5877b315",
   "metadata": {},
   "outputs": [],
   "source": []
  },
  {
   "cell_type": "markdown",
   "id": "1931e2f5",
   "metadata": {},
   "source": [
    "3. Write a Python program that takes a list of numbers as input and calculates the sum of all even numbers in the list using a for loop. The program should then print the total sum."
   ]
  },
  {
   "cell_type": "code",
   "execution_count": null,
   "id": "9f67c832",
   "metadata": {},
   "outputs": [],
   "source": []
  },
  {
   "cell_type": "markdown",
   "id": "fb2b8136",
   "metadata": {},
   "source": [
    "4. Write a Python program that takes a string as input and checks whether it is a palindrome or not using a for loop and logical operators. A palindrome is a word, phrase, number, or other sequence of characters that reads the same backward as forward. For example, \"racecar\" and \"level\" are palindromes."
   ]
  },
  {
   "cell_type": "code",
   "execution_count": null,
   "id": "e9a37a8b",
   "metadata": {},
   "outputs": [],
   "source": []
  }
 ],
 "metadata": {
  "kernelspec": {
   "display_name": "Python 3 (ipykernel)",
   "language": "python",
   "name": "python3"
  },
  "language_info": {
   "codemirror_mode": {
    "name": "ipython",
    "version": 3
   },
   "file_extension": ".py",
   "mimetype": "text/x-python",
   "name": "python",
   "nbconvert_exporter": "python",
   "pygments_lexer": "ipython3",
   "version": "3.10.5"
  }
 },
 "nbformat": 4,
 "nbformat_minor": 5
}
