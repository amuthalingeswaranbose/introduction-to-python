{
 "cells": [
  {
   "cell_type": "markdown",
   "id": "37c9448a",
   "metadata": {},
   "source": [
    "# 1. Application - 1"
   ]
  },
  {
   "cell_type": "code",
   "execution_count": 54,
   "id": "977c5526",
   "metadata": {},
   "outputs": [
    {
     "name": "stdout",
     "output_type": "stream",
     "text": [
      "files: ['ds.txt', 'ed.py']\n",
      "my_dest: C:\\Users\\Muthukumar\\Downloads\\NLP\\appln-test\\1\\mdu_t1_001.txt\n",
      "my_dest: C:\\Users\\Muthukumar\\Downloads\\NLP\\appln-test\\1\\mdu_t1_001.py\n",
      "files: ['ds.txt', 'ed.py']\n",
      "my_dest: C:\\Users\\Muthukumar\\Downloads\\NLP\\appln-test\\2\\mdu_t1_002.txt\n",
      "my_dest: C:\\Users\\Muthukumar\\Downloads\\NLP\\appln-test\\2\\mdu_t1_002.py\n",
      "files: ['ds.txt', 'ed.py']\n",
      "my_dest: C:\\Users\\Muthukumar\\Downloads\\NLP\\appln-test\\3\\mdu_t1_003.txt\n",
      "my_dest: C:\\Users\\Muthukumar\\Downloads\\NLP\\appln-test\\3\\mdu_t1_003.py\n",
      "file name renamed sucessfully!!!\n"
     ]
    }
   ],
   "source": [
    "\"\"\"\n",
    "remove empty file and folders in defined path using python\n",
    "\n",
    "input : local_path \n",
    "output: delete empty folders and empty files\n",
    "\n",
    "\"\"\"\n",
    "\n",
    "\n",
    "import os\n",
    "import sys\n",
    "\n",
    "# define your path \n",
    "local_path  = \"C:\\\\Users\\\\Muthukumar\\\\Downloads\\\\NLP\\\\appln-test\"\n",
    "\n",
    "dist_name = 'mdu'\n",
    "vilage_code = ['001', '002', '003']\n",
    "taluk = 't1'\n",
    "\n",
    "i = 0\n",
    "\n",
    "for path, dirs, files in os.walk(local_path):\n",
    "    \n",
    "    #print(\"path : {}, dirs : {}, files : {}\".format(path, dirs, files))\n",
    "    \n",
    "    if len(files) >= 2:\n",
    "        \n",
    "        print(f\"files: {files}\")\n",
    "        \n",
    "        for file in files:\n",
    "            file_local = os.path.join(path, file)\n",
    "            filename, file_extension = os.path.splitext(file)\n",
    "            new_file_name = dist_name + '_' + taluk + '_' + vilage_code[i] + file_extension\n",
    "            my_dest = os.path.join(path, new_file_name)\n",
    "            print(f\"my_dest: {my_dest}\")\n",
    "            os.rename(file_local, my_dest)\n",
    "            \n",
    "        \n",
    "        i = i + 1\n",
    "        #print(i)\n",
    "\n",
    "print(\"file name renamed sucessfully!!!\")      "
   ]
  },
  {
   "cell_type": "markdown",
   "id": "acd45347",
   "metadata": {},
   "source": [
    "# 2. Application - 2"
   ]
  },
  {
   "cell_type": "code",
   "execution_count": 30,
   "id": "8424efaa",
   "metadata": {},
   "outputs": [
    {
     "name": "stdout",
     "output_type": "stream",
     "text": [
      "C:\\Users\\Muthukumar\\Downloads\\NLP\\appln-test\\1\\New Text Document.txt File is empty!\n",
      "empty file: C:\\Users\\Muthukumar\\Downloads\\NLP\\appln-test\\1\\New Text Document.txt removed sucessfully!\n",
      "C:\\Users\\Muthukumar\\Downloads\\NLP\\appln-test\\1\\test.py File is empty!\n",
      "empty file: C:\\Users\\Muthukumar\\Downloads\\NLP\\appln-test\\1\\test.py removed sucessfully!\n",
      "C:\\Users\\Muthukumar\\Downloads\\NLP\\appln-test\\2\\New Text Document.txt File is empty!\n",
      "empty file: C:\\Users\\Muthukumar\\Downloads\\NLP\\appln-test\\2\\New Text Document.txt removed sucessfully!\n",
      "C:\\Users\\Muthukumar\\Downloads\\NLP\\appln-test\\2\\test.py File is empty!\n",
      "empty file: C:\\Users\\Muthukumar\\Downloads\\NLP\\appln-test\\2\\test.py removed sucessfully!\n",
      "C:\\Users\\Muthukumar\\Downloads\\NLP\\appln-test\\3\\New Text Document.txt File is empty!\n",
      "empty file: C:\\Users\\Muthukumar\\Downloads\\NLP\\appln-test\\3\\New Text Document.txt removed sucessfully!\n",
      "C:\\Users\\Muthukumar\\Downloads\\NLP\\appln-test\\3\\test.py File is empty!\n",
      "empty file: C:\\Users\\Muthukumar\\Downloads\\NLP\\appln-test\\3\\test.py removed sucessfully!\n",
      "Removed empt foler and file!!!\n"
     ]
    }
   ],
   "source": [
    "\"\"\"\n",
    "remove empty file and folders in defined path using python\n",
    "\n",
    "input : local_path \n",
    "output: delete empty folders and empty files\n",
    "\n",
    "\"\"\"\n",
    "\n",
    "\n",
    "import os\n",
    "import sys\n",
    "\n",
    "# define your path \n",
    "local_path  = \"C:\\\\Users\\\\Muthukumar\\\\Downloads\\\\NLP\"\n",
    "\n",
    "\n",
    "for path, dirs, files in os.walk(local_path):\n",
    "    #print(\"path : {}, dirs : {}, files : {}\".format(path, dirs, files))\n",
    "    \n",
    "    if len(dirs) == 0 and len(files) == 0:\n",
    "        print(f\"{path} is Empty directory\")\n",
    "        os.rmdir(path)\n",
    "        print(f\"empty folder: {file_local} removed sucessfully!\")\n",
    "                \n",
    "    \n",
    "    elif len(dirs) == 0 and len(files) != 0:\n",
    "        for file in files:\n",
    "            file_local = os.path.join(path, file)\n",
    "            if os.path.getsize(file_local) == 0:\n",
    "                print(f\"{file_local} File is empty!\")\n",
    "                os.remove(file_local)\n",
    "                print(f\"empty file: {file_local} removed sucessfully!\")\n",
    "                \n",
    "                \n",
    "    elif len(dirs) != 0 and len(files) != 0:\n",
    "        for file in files:\n",
    "            file_local = os.path.join(path, file)\n",
    "            if os.path.getsize(file_local) == 0:\n",
    "                print(f\"{file_local} File is empty!\")\n",
    "                os.remove(file_local)\n",
    "                print(f\"empty file: {file_local} removed sucessfully!\")\n",
    "                \n",
    "                \n",
    "print(\"Removed empt foler and file!!!\")      "
   ]
  },
  {
   "cell_type": "code",
   "execution_count": null,
   "id": "46d5ea03",
   "metadata": {},
   "outputs": [],
   "source": []
  }
 ],
 "metadata": {
  "kernelspec": {
   "display_name": "Python 3 (ipykernel)",
   "language": "python",
   "name": "python3"
  },
  "language_info": {
   "codemirror_mode": {
    "name": "ipython",
    "version": 3
   },
   "file_extension": ".py",
   "mimetype": "text/x-python",
   "name": "python",
   "nbconvert_exporter": "python",
   "pygments_lexer": "ipython3",
   "version": "3.10.5"
  }
 },
 "nbformat": 4,
 "nbformat_minor": 5
}
