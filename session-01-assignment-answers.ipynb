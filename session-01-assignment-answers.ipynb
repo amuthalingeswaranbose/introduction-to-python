{
 "cells": [
  {
   "cell_type": "markdown",
   "id": "afa9220d",
   "metadata": {},
   "source": [
    "# Assignments :"
   ]
  },
  {
   "cell_type": "markdown",
   "id": "6ed0bc84",
   "metadata": {},
   "source": [
    "## Assignment - 1: int\n",
    "Store the following numbers as variables:\n",
    "\n",
    "25, \n",
    "50, \n",
    "75, \n",
    "100\n",
    "\n",
    "Perform the following arithmetic operations using the variables:\n",
    "\n",
    "##### Addition, \n",
    "##### Subtraction, \n",
    "##### Multiplication, \n",
    "##### Division\n",
    "\n",
    "Store the result of each operation in separate variables and print the results.\n",
    "\n",
    "Finally, explain the difference between int and float data types in your own words."
   ]
  },
  {
   "cell_type": "code",
   "execution_count": null,
   "id": "7c14e42a",
   "metadata": {},
   "outputs": [],
   "source": [
    "# Step 1\n",
    "a = 25\n",
    "b = 50\n",
    "c = 75\n",
    "d = 100\n",
    "\n",
    "# Step 2\n",
    "addition = a + b + c + d\n",
    "subtraction = d - a\n",
    "multiplication = a * b\n",
    "division = d / a\n",
    "\n",
    "# Step 3\n",
    "print(\"Addition:\", addition)\n",
    "print(\"Subtraction:\", subtraction)\n",
    "print(\"Multiplication:\", multiplication)\n",
    "print(\"Division:\", division)\n",
    "\n",
    "# Step 4\n",
    "\"\"\"\n",
    "The int data type in Python is used to store integer values, which are numbers without a fractional part. \n",
    "The float data type is used to store numbers with a fractional part. \n",
    "For example, 25 can be stored as an int, while 25.0 can be stored as a float.\n",
    "\"\"\"\n"
   ]
  },
  {
   "cell_type": "code",
   "execution_count": null,
   "id": "7b5dfa0f",
   "metadata": {},
   "outputs": [],
   "source": []
  },
  {
   "cell_type": "markdown",
   "id": "cf7378c5",
   "metadata": {},
   "source": [
    "## Assignment-2 : float\n",
    "\n",
    "##### Create a variable named num1 and assign it the value 10.0.\n",
    "##### Create a variable named num2 and assign it the value 20.0.\n",
    "##### Create a variable named result and assign it the value of the sum of num1 and num2.\n",
    "##### Print the value of result.\n",
    "##### Create a variable named num3 and assign it the value of the product of num1 and num2.\n",
    "##### Print the value of num3.\n",
    "##### Create a variable named div and assign it the value of the division of num3 by num1.\n",
    "##### Print the value of div."
   ]
  },
  {
   "cell_type": "code",
   "execution_count": null,
   "id": "c19f38dc",
   "metadata": {},
   "outputs": [],
   "source": [
    "num1 = 10.0\n",
    "num2 = 20.0\n",
    "result = num1 + num2\n",
    "print(result)\n",
    "num3 = num1 * num2\n",
    "print(num3)\n",
    "div = num3 / num1\n",
    "print(div)"
   ]
  },
  {
   "cell_type": "code",
   "execution_count": null,
   "id": "f45c930c",
   "metadata": {},
   "outputs": [],
   "source": []
  },
  {
   "cell_type": "markdown",
   "id": "8c583322",
   "metadata": {},
   "source": [
    "## Assignment - 3: string\n",
    "\n",
    "##### Create a variable named greeting and assign it the value \"Hello World!\".\n",
    "##### Print the value of greeting.\n",
    "##### Create a variable named name and assign it the value of your name.\n",
    "##### Create a variable named introduction and assign it the value \"My name is\".\n",
    "##### Concatenate introduction, a space, and name to form a sentence.\n",
    "##### Print the sentence.\n",
    "##### Create a variable named length and assign it the length of the sentence formed in step 6.\n",
    "##### Print the value of length."
   ]
  },
  {
   "cell_type": "code",
   "execution_count": null,
   "id": "924c9c24",
   "metadata": {},
   "outputs": [],
   "source": [
    "greeting = \"Hello World!\"\n",
    "print(greeting)\n",
    "name = \"John Doe\"\n",
    "introduction = \"My name is\"\n",
    "sentence = introduction + \" \" + name\n",
    "print(sentence)\n",
    "length = len(sentence)\n",
    "print(length)"
   ]
  },
  {
   "cell_type": "code",
   "execution_count": null,
   "id": "c5d0c221",
   "metadata": {},
   "outputs": [],
   "source": []
  },
  {
   "cell_type": "markdown",
   "id": "8bf036cc",
   "metadata": {},
   "source": [
    "# Assignment - 4: list\n",
    "\n",
    "#### Create a list of your favorite fruits.\n",
    "#### Add 2 more fruits to the list.\n",
    "#### Remove one fruit from the list.\n",
    "#### Sort the list in alphabetical order.\n",
    "#### Count how many times a specific fruit appears in the list."
   ]
  },
  {
   "cell_type": "code",
   "execution_count": null,
   "id": "889f6e18",
   "metadata": {},
   "outputs": [],
   "source": [
    "# 1. Create a list of your favorite fruits\n",
    "fruits = [\"apple\", \"banana\", \"cherry\"]\n",
    "\n",
    "# 2. Add 2 more fruits to the list\n",
    "fruits.append(\"orange\")\n",
    "fruits.append(\"grapes\")\n",
    "\n",
    "# 3. Remove one fruit from the list\n",
    "fruits.remove(\"banana\")\n",
    "\n",
    "# 4. Sort the list in alphabetical order\n",
    "fruits.sort()\n",
    "\n",
    "# 5. Count how many times a specific fruit appears in the list\n",
    "print(\"Number of cherries:\", fruits.count(\"cherry\"))\n"
   ]
  },
  {
   "cell_type": "code",
   "execution_count": null,
   "id": "7ffe8398",
   "metadata": {},
   "outputs": [],
   "source": []
  },
  {
   "cell_type": "markdown",
   "id": "640f952d",
   "metadata": {},
   "source": [
    "## Assignment - 5: set\n",
    "\n",
    "#### Create a set of your favorite fruits.\n",
    "#### Add 2 more fruits to the set.\n",
    "#### Remove one fruit from the set.\n",
    "#### Check if a specific fruit is in the set."
   ]
  },
  {
   "cell_type": "code",
   "execution_count": null,
   "id": "a540ff76",
   "metadata": {},
   "outputs": [],
   "source": [
    "# 1. Create a set of your favorite fruits\n",
    "fruits = {\"apple\", \"banana\", \"cherry\"}\n",
    "\n",
    "# 2. Add 2 more fruits to the set\n",
    "fruits.add(\"orange\")\n",
    "fruits.add(\"grapes\")\n",
    "\n",
    "# 3. Remove one fruit from the set\n",
    "fruits.remove(\"banana\")\n",
    "\n",
    "# 4. Check if a specific fruit is in the set\n",
    "print(\"Is orange in the set?\", \"orange\" in fruits)\n"
   ]
  },
  {
   "cell_type": "code",
   "execution_count": null,
   "id": "eddbdc9a",
   "metadata": {},
   "outputs": [],
   "source": []
  },
  {
   "cell_type": "markdown",
   "id": "d1b7bac3",
   "metadata": {},
   "source": [
    "## Assignment - 6: tuple\n",
    "\n",
    "#### Create a tuple of your favorite fruits.\n",
    "#### Access the second fruit in the tuple.\n",
    "#### Try to modify the second fruit in the tuple (this should result in an error, as tuples are immutable)."
   ]
  },
  {
   "cell_type": "code",
   "execution_count": null,
   "id": "be7805f2",
   "metadata": {},
   "outputs": [],
   "source": [
    "# 1. Create a tuple of your favorite fruits\n",
    "fruits = (\"apple\", \"banana\", \"cherry\")\n",
    "\n",
    "# 2. Access the second fruit in the tuple\n",
    "print(\"Second fruit:\", fruits[1])\n",
    "\n",
    "# 3. Try to modify the second fruit in the tuple\n",
    "# This should result in an error, as tuples are immutable\n",
    "try:\n",
    "  fruits[1] = \"orange\"\n",
    "except TypeError as e:\n",
    "  print(\"Error:\", e)"
   ]
  },
  {
   "cell_type": "code",
   "execution_count": null,
   "id": "023bb68d",
   "metadata": {},
   "outputs": [],
   "source": []
  },
  {
   "cell_type": "markdown",
   "id": "97d719cd",
   "metadata": {},
   "source": [
    "## Assignment - 7: dict\n",
    "\n",
    "#### Create a dictionary of your favorite fruits and their colors.\n",
    "#### Add 2 more fruits and their colors to the dictionary.\n",
    "#### Remove one fruit from the dictionary.\n",
    "#### Access the color of a specific fruit in the dictionary."
   ]
  },
  {
   "cell_type": "code",
   "execution_count": null,
   "id": "9bf7ced9",
   "metadata": {},
   "outputs": [],
   "source": [
    "# 1. Create a dictionary of your favorite fruits and their colors\n",
    "fruits = {\"apple\": \"red\", \"banana\": \"yellow\", \"cherry\": \"red\"}\n",
    "\n",
    "# 2. Add 2 more fruits and their colors to the dictionary\n",
    "fruits[\"orange\"] = \"orange\"\n",
    "fruits[\"grapes\"] = \"green\"\n",
    "\n",
    "# 3. Remove one fruit from the dictionary\n",
    "del fruits[\"banana\"]\n",
    "\n",
    "# 4. Access the color of a specific fruit in the dictionary\n",
    "print(\"Color of orange:\", fruits[\"orange\"])\n"
   ]
  },
  {
   "cell_type": "code",
   "execution_count": null,
   "id": "70369696",
   "metadata": {},
   "outputs": [],
   "source": []
  },
  {
   "cell_type": "markdown",
   "id": "ef388d6b",
   "metadata": {},
   "source": [
    "## Assignment - 8: if\n",
    "\n",
    "#### Write a Python program that takes a number as input and prints \"Positive\" if the number is positive, \"Negative\" if the number is negative, and \"Zero\" if the number is zero.\n",
    "#### Modify the program to also print the absolute value of the number."
   ]
  },
  {
   "cell_type": "code",
   "execution_count": null,
   "id": "a831ad4a",
   "metadata": {},
   "outputs": [],
   "source": [
    "# 1. Write a Python program that takes a number as input and prints \"Positive\" if the number is positive, \"Negative\" if the number is negative, and \"Zero\" if the number is zero\n",
    "num = int(input(\"Enter a number: \"))\n",
    "if num > 0:\n",
    "    print(\"Positive\")\n",
    "elif num < 0:\n",
    "    print(\"Negative\")\n",
    "else:\n",
    "    print(\"Zero\")\n",
    "\n",
    "# 2. Modify the program to also print the absolute value of the number\n",
    "print(\"Absolute value of\", num, \":\", abs(num))\n"
   ]
  },
  {
   "cell_type": "code",
   "execution_count": null,
   "id": "f501eb87",
   "metadata": {},
   "outputs": [],
   "source": []
  },
  {
   "cell_type": "markdown",
   "id": "b808c0ec",
   "metadata": {},
   "source": [
    "## Assignment - 9: for\n",
    "\n",
    "#### Write a Python program to print the numbers from 1 to 10.\n",
    "#### Modify the program to print only the odd numbers from 1 to 10."
   ]
  },
  {
   "cell_type": "code",
   "execution_count": null,
   "id": "20b5373e",
   "metadata": {},
   "outputs": [],
   "source": [
    "# 1. Write a Python program to print the numbers from 1 to 10\n",
    "for num in range(1, 11):\n",
    "    print(num)\n",
    "\n",
    "    \n",
    "# 2. Modify the program to print only the odd numbers from 1 to 10\n",
    "print(\"\\nOdd numbers from 1 to 10:\")\n",
    "for num in range(1, 11, 2):\n",
    "    print(num)\n"
   ]
  },
  {
   "cell_type": "code",
   "execution_count": null,
   "id": "bb27a3ad",
   "metadata": {},
   "outputs": [],
   "source": []
  },
  {
   "cell_type": "markdown",
   "id": "9546e489",
   "metadata": {},
   "source": [
    "## Assignment - 10: function\n",
    "\n",
    "#### Create a function to calculate the area of a circle.\n",
    "#### Create another function to calculate the circumference of a circle.\n",
    "#### Call both functions and print the results for a circle with a radius of 5."
   ]
  },
  {
   "cell_type": "code",
   "execution_count": null,
   "id": "11822d0f",
   "metadata": {},
   "outputs": [],
   "source": [
    "import math\n",
    "\n",
    "# 1. Create a function to calculate the area of a circle\n",
    "def area_of_circle(radius):\n",
    "    area = math.pi * (radius ** 2)\n",
    "    return area\n",
    "\n",
    "# 2. Create another function to calculate the circumference of a circle\n",
    "def circumference_of_circle(radius):\n",
    "    circumference = 2 * math.pi * radius\n",
    "    return circumference\n",
    "\n",
    "# 3. Call both functions and print the results for a circle with a radius of 5\n",
    "radius = 5\n",
    "print(\"Area of circle with radius\", radius, \":\", area_of_circle(radius))\n",
    "print(\"Circumference of circle with radius\", radius, \":\", circumference_of_circle(radius))\n"
   ]
  },
  {
   "cell_type": "code",
   "execution_count": null,
   "id": "f5b81506",
   "metadata": {},
   "outputs": [],
   "source": []
  },
  {
   "cell_type": "code",
   "execution_count": null,
   "id": "c8f90729",
   "metadata": {},
   "outputs": [],
   "source": []
  },
  {
   "cell_type": "code",
   "execution_count": null,
   "id": "ba24121a",
   "metadata": {},
   "outputs": [],
   "source": []
  }
 ],
 "metadata": {
  "kernelspec": {
   "display_name": "Python 3 (ipykernel)",
   "language": "python",
   "name": "python3"
  },
  "language_info": {
   "codemirror_mode": {
    "name": "ipython",
    "version": 3
   },
   "file_extension": ".py",
   "mimetype": "text/x-python",
   "name": "python",
   "nbconvert_exporter": "python",
   "pygments_lexer": "ipython3",
   "version": "3.10.5"
  }
 },
 "nbformat": 4,
 "nbformat_minor": 5
}
