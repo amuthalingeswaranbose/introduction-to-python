{
 "cells": [
  {
   "cell_type": "markdown",
   "id": "c8452136",
   "metadata": {},
   "source": [
    "# Assignment - 3"
   ]
  },
  {
   "cell_type": "markdown",
   "id": "832e017d",
   "metadata": {},
   "source": [
    "### Assignment : function - 1\n",
    "\n",
    "    Create a function to calculate the area of a circle.\n",
    "    Create another function to calculate the circumference of a circle.\n",
    "    Call both functions and print the results for a circle with a radius of 5."
   ]
  },
  {
   "cell_type": "code",
   "execution_count": null,
   "id": "a064b7a0",
   "metadata": {},
   "outputs": [],
   "source": []
  },
  {
   "cell_type": "markdown",
   "id": "d7282c61",
   "metadata": {},
   "source": [
    "### Assignment : function - 2\n",
    "\n",
    "    Write a Python program that uses os.walk() to recursively search a directory for all files with a given extension, and print the names of those files.\n",
    "\n",
    "    Your program should pass two inputs: the path to the directory to search, and the extension."
   ]
  },
  {
   "cell_type": "code",
   "execution_count": null,
   "id": "43717291",
   "metadata": {},
   "outputs": [],
   "source": []
  },
  {
   "cell_type": "markdown",
   "id": "5e832c6a",
   "metadata": {},
   "source": [
    "### Assignment : files\n",
    "\n",
    "\n",
    "    how to copy the contents of one file to another file in Python(use two txt file with sample strings)"
   ]
  },
  {
   "cell_type": "code",
   "execution_count": null,
   "id": "ef0afef3",
   "metadata": {},
   "outputs": [],
   "source": []
  }
 ],
 "metadata": {
  "kernelspec": {
   "display_name": "Python 3 (ipykernel)",
   "language": "python",
   "name": "python3"
  },
  "language_info": {
   "codemirror_mode": {
    "name": "ipython",
    "version": 3
   },
   "file_extension": ".py",
   "mimetype": "text/x-python",
   "name": "python",
   "nbconvert_exporter": "python",
   "pygments_lexer": "ipython3",
   "version": "3.10.5"
  }
 },
 "nbformat": 4,
 "nbformat_minor": 5
}
