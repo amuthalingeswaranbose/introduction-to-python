{
 "cells": [
  {
   "cell_type": "markdown",
   "id": "56829fcb",
   "metadata": {},
   "source": [
    "## Objective of this course\n",
    "\n",
    "   * learn basic of python\n",
    "   \n",
    "\n",
    "## list of topics - session 02\n",
    "   \n",
    "       - 1. What is python?\n",
    "       - 2. Why Python?\n",
    "       - 3. Get started\n",
    "       - 4. Primitive datatypes\n",
    "       - 5. Data structures\n",
    "       - 6. Operators\n",
    "       - 7. Conditional Statement - if, elif and else\n",
    "       - 8. Iterations - while, for loop   "
   ]
  },
  {
   "cell_type": "code",
   "execution_count": null,
   "id": "0f680778",
   "metadata": {},
   "outputs": [],
   "source": []
  },
  {
   "cell_type": "markdown",
   "id": "a2fbe872",
   "metadata": {},
   "source": [
    "## 5.3 Dictionaries\n",
    "\n",
    "    * A dictionary is a mapping data structure\n",
    "    \n",
    "    * It establishes a relationship between a key and a value, and maps each key to some value\n",
    "    \n",
    "    * Map keys to values through index\n",
    "    \n",
    "    * Suitable for unstructured data\n",
    "    \n",
    "    * For instance, think about capitals as a dictionary, which uses a country name as key.  The capitals dictionary would map 'Belgium' to 'Brussels’ and ‘France’ to ‘Paris’.\n",
    "\n",
    "    * Handy to store data organized by name, rather than position:\n",
    "    * Concept index of a book on programming. (‘for loop’ on ‘pages 10-15’)\n",
    "    * Contacts in your phone (person to phone number)\n",
    "    * Temperature records for each city of a country (city name to temperature \n"
   ]
  },
  {
   "cell_type": "code",
   "execution_count": null,
   "id": "8fb5e0b2",
   "metadata": {},
   "outputs": [],
   "source": []
  },
  {
   "cell_type": "markdown",
   "id": "9f614687",
   "metadata": {},
   "source": [
    "### 5.3.1 Basics: Creating a dictionary\n",
    "\n",
    "### Dictionaries can be defined in two ways:\n",
    "\n",
    "    * Notation that uses curly brackets: { and }\n",
    "    * Notation that uses the built-in function dict()\n",
    " "
   ]
  },
  {
   "cell_type": "code",
   "execution_count": 65,
   "id": "83aff74a",
   "metadata": {},
   "outputs": [],
   "source": [
    "landcover = {} # the empty dictionary"
   ]
  },
  {
   "cell_type": "code",
   "execution_count": 66,
   "id": "921dfc67",
   "metadata": {},
   "outputs": [],
   "source": [
    "landcover[\"Natural grasses\"] = 45\n",
    "landcover[\"Agricultural grasses\"] = 1 \n",
    "landcover[\"Deciduous\"] = 11 \n",
    "landcover[\"Coniferous\"] =12"
   ]
  },
  {
   "cell_type": "markdown",
   "id": "0bdcddb6",
   "metadata": {},
   "source": [
    "#### Now, we can take a look at its structure by printing the whole dictionary"
   ]
  },
  {
   "cell_type": "code",
   "execution_count": 67,
   "id": "b453f7a0",
   "metadata": {},
   "outputs": [
    {
     "name": "stdout",
     "output_type": "stream",
     "text": [
      "{'Natural grasses': 45, 'Agricultural grasses': 1, 'Deciduous': 11, 'Coniferous': 12}\n"
     ]
    }
   ],
   "source": [
    "print(landcover)"
   ]
  },
  {
   "cell_type": "code",
   "execution_count": 68,
   "id": "11ba7c83",
   "metadata": {},
   "outputs": [
    {
     "data": {
      "text/plain": [
       "dict"
      ]
     },
     "execution_count": 68,
     "metadata": {},
     "output_type": "execute_result"
    }
   ],
   "source": [
    "type(landcover)"
   ]
  },
  {
   "cell_type": "code",
   "execution_count": null,
   "id": "646cdcb2",
   "metadata": {},
   "outputs": [],
   "source": []
  },
  {
   "cell_type": "code",
   "execution_count": 106,
   "id": "7df56cba",
   "metadata": {},
   "outputs": [
    {
     "data": {
      "text/plain": [
       "dict"
      ]
     },
     "execution_count": 106,
     "metadata": {},
     "output_type": "execute_result"
    }
   ],
   "source": [
    "dict1= {}\n",
    "type(dict1)"
   ]
  },
  {
   "cell_type": "code",
   "execution_count": 102,
   "id": "94bebebc",
   "metadata": {},
   "outputs": [],
   "source": [
    "dict1['001'] = 'Amuthan'"
   ]
  },
  {
   "cell_type": "code",
   "execution_count": 103,
   "id": "fadf7c02",
   "metadata": {},
   "outputs": [
    {
     "data": {
      "text/plain": [
       "{'001': 'Amuthan'}"
      ]
     },
     "execution_count": 103,
     "metadata": {},
     "output_type": "execute_result"
    }
   ],
   "source": [
    "dict1"
   ]
  },
  {
   "cell_type": "markdown",
   "id": "c4bac459",
   "metadata": {},
   "source": [
    "### An element is accessed using its key:"
   ]
  },
  {
   "cell_type": "code",
   "execution_count": 69,
   "id": "d9203b51",
   "metadata": {},
   "outputs": [
    {
     "data": {
      "text/plain": [
       "12"
      ]
     },
     "execution_count": 69,
     "metadata": {},
     "output_type": "execute_result"
    }
   ],
   "source": [
    "landcover[\"Coniferous\"]"
   ]
  },
  {
   "cell_type": "code",
   "execution_count": 70,
   "id": "06162a67",
   "metadata": {},
   "outputs": [
    {
     "data": {
      "text/plain": [
       "45"
      ]
     },
     "execution_count": 70,
     "metadata": {},
     "output_type": "execute_result"
    }
   ],
   "source": [
    "landcover[\"Natural grasses\"]"
   ]
  },
  {
   "cell_type": "code",
   "execution_count": 71,
   "id": "f300fd7b",
   "metadata": {},
   "outputs": [
    {
     "ename": "KeyError",
     "evalue": "'Natural'",
     "output_type": "error",
     "traceback": [
      "\u001b[1;31m---------------------------------------------------------------------------\u001b[0m",
      "\u001b[1;31mKeyError\u001b[0m                                  Traceback (most recent call last)",
      "Cell \u001b[1;32mIn [71], line 1\u001b[0m\n\u001b[1;32m----> 1\u001b[0m \u001b[43mlandcover\u001b[49m\u001b[43m[\u001b[49m\u001b[38;5;124;43m\"\u001b[39;49m\u001b[38;5;124;43mNatural\u001b[39;49m\u001b[38;5;124;43m\"\u001b[39;49m\u001b[43m]\u001b[49m\n",
      "\u001b[1;31mKeyError\u001b[0m: 'Natural'"
     ]
    }
   ],
   "source": [
    "landcover[\"Natural\"]"
   ]
  },
  {
   "cell_type": "code",
   "execution_count": 73,
   "id": "0304c7d9",
   "metadata": {},
   "outputs": [
    {
     "data": {
      "text/plain": [
       "dict_keys(['Natural grasses', 'Agricultural grasses', 'Deciduous', 'Coniferous'])"
      ]
     },
     "execution_count": 73,
     "metadata": {},
     "output_type": "execute_result"
    }
   ],
   "source": [
    "landcover.keys()"
   ]
  },
  {
   "cell_type": "code",
   "execution_count": 74,
   "id": "82886f85",
   "metadata": {},
   "outputs": [
    {
     "data": {
      "text/plain": [
       "dict_values([45, 1, 11, 12])"
      ]
     },
     "execution_count": 74,
     "metadata": {},
     "output_type": "execute_result"
    }
   ],
   "source": [
    "landcover.values()"
   ]
  },
  {
   "cell_type": "code",
   "execution_count": 75,
   "id": "cfaca17b",
   "metadata": {},
   "outputs": [
    {
     "data": {
      "text/plain": [
       "dict_items([('Natural grasses', 45), ('Agricultural grasses', 1), ('Deciduous', 11), ('Coniferous', 12)])"
      ]
     },
     "execution_count": 75,
     "metadata": {},
     "output_type": "execute_result"
    }
   ],
   "source": [
    "landcover.items()"
   ]
  },
  {
   "cell_type": "code",
   "execution_count": 76,
   "id": "53dfa62b",
   "metadata": {},
   "outputs": [],
   "source": [
    "landcover[1] = 10"
   ]
  },
  {
   "cell_type": "code",
   "execution_count": 13,
   "id": "3421d5d7",
   "metadata": {},
   "outputs": [
    {
     "data": {
      "text/plain": [
       "False"
      ]
     },
     "execution_count": 13,
     "metadata": {},
     "output_type": "execute_result"
    }
   ],
   "source": [
    "'name' in landcover.keys()"
   ]
  },
  {
   "cell_type": "markdown",
   "id": "cbf6fc3e",
   "metadata": {},
   "source": [
    "### 5.3.2 Keys \n",
    "\n",
    "    * Dictionaries store key:value pairs\n",
    "    * Keys must be immutable\n",
    "    \n",
    "#### Types of key:\n",
    "\n",
    "    * Number.\n",
    "    * String.\n",
    "    * Tuple.\n"
   ]
  },
  {
   "cell_type": "code",
   "execution_count": 77,
   "id": "5dbbed24",
   "metadata": {},
   "outputs": [
    {
     "ename": "TypeError",
     "evalue": "'str' object does not support item assignment",
     "output_type": "error",
     "traceback": [
      "\u001b[1;31m---------------------------------------------------------------------------\u001b[0m",
      "\u001b[1;31mTypeError\u001b[0m                                 Traceback (most recent call last)",
      "Cell \u001b[1;32mIn [77], line 2\u001b[0m\n\u001b[0;32m      1\u001b[0m string \u001b[38;5;241m=\u001b[39m \u001b[38;5;124m\"\u001b[39m\u001b[38;5;124mHello\u001b[39m\u001b[38;5;124m\"\u001b[39m\n\u001b[1;32m----> 2\u001b[0m \u001b[43mstring\u001b[49m\u001b[43m[\u001b[49m\u001b[38;5;241;43m0\u001b[39;49m\u001b[43m]\u001b[49m \u001b[38;5;241m=\u001b[39m \u001b[38;5;124m\"\u001b[39m\u001b[38;5;124mJ\u001b[39m\u001b[38;5;124m\"\u001b[39m\n\u001b[0;32m      3\u001b[0m \u001b[38;5;28mprint\u001b[39m(string)\n",
      "\u001b[1;31mTypeError\u001b[0m: 'str' object does not support item assignment"
     ]
    }
   ],
   "source": [
    "string = \"Hello\"\n",
    "string[0] = \"J\"\n",
    "print(string)\n"
   ]
  },
  {
   "cell_type": "raw",
   "id": "f5cfedc6",
   "metadata": {},
   "source": [
    "landcover['1'] = 10"
   ]
  },
  {
   "cell_type": "code",
   "execution_count": 81,
   "id": "b04ad7e7",
   "metadata": {},
   "outputs": [],
   "source": [
    "landcover[1.1] = 10"
   ]
  },
  {
   "cell_type": "code",
   "execution_count": 82,
   "id": "953d46b6",
   "metadata": {},
   "outputs": [],
   "source": [
    "landcover[1] = 10"
   ]
  },
  {
   "cell_type": "code",
   "execution_count": 83,
   "id": "c87f6b40",
   "metadata": {},
   "outputs": [
    {
     "name": "stdout",
     "output_type": "stream",
     "text": [
      "{'Natural grasses': 45, 'Agricultural grasses': 1, 'Deciduous': 11, 'Coniferous': 12, 1: 10, 1.1: 10}\n"
     ]
    }
   ],
   "source": [
    "print(landcover)"
   ]
  },
  {
   "cell_type": "code",
   "execution_count": 84,
   "id": "69dd16eb",
   "metadata": {},
   "outputs": [
    {
     "ename": "TypeError",
     "evalue": "unhashable type: 'list'",
     "output_type": "error",
     "traceback": [
      "\u001b[1;31m---------------------------------------------------------------------------\u001b[0m",
      "\u001b[1;31mTypeError\u001b[0m                                 Traceback (most recent call last)",
      "Cell \u001b[1;32mIn [84], line 1\u001b[0m\n\u001b[1;32m----> 1\u001b[0m \u001b[43mlandcover\u001b[49m\u001b[43m[\u001b[49m\u001b[43m[\u001b[49m\u001b[38;5;241;43m1\u001b[39;49m\u001b[43m,\u001b[49m\u001b[38;5;241;43m3\u001b[39;49m\u001b[43m,\u001b[49m\u001b[43m \u001b[49m\u001b[38;5;241;43m2\u001b[39;49m\u001b[43m]\u001b[49m\u001b[43m]\u001b[49m \u001b[38;5;241m=\u001b[39m \u001b[38;5;241m3\u001b[39m\n",
      "\u001b[1;31mTypeError\u001b[0m: unhashable type: 'list'"
     ]
    }
   ],
   "source": [
    "landcover[[1,3, 2]] = 3"
   ]
  },
  {
   "cell_type": "code",
   "execution_count": 85,
   "id": "f3878809",
   "metadata": {},
   "outputs": [],
   "source": [
    "landcover[(1,3, 2)] = 3"
   ]
  },
  {
   "cell_type": "code",
   "execution_count": 86,
   "id": "d7123caf",
   "metadata": {},
   "outputs": [
    {
     "ename": "TypeError",
     "evalue": "unhashable type: 'set'",
     "output_type": "error",
     "traceback": [
      "\u001b[1;31m---------------------------------------------------------------------------\u001b[0m",
      "\u001b[1;31mTypeError\u001b[0m                                 Traceback (most recent call last)",
      "Cell \u001b[1;32mIn [86], line 1\u001b[0m\n\u001b[1;32m----> 1\u001b[0m \u001b[43mlandcover\u001b[49m\u001b[43m[\u001b[49m\u001b[43m{\u001b[49m\u001b[38;5;241;43m1\u001b[39;49m\u001b[43m,\u001b[49m\u001b[38;5;241;43m3\u001b[39;49m\u001b[43m,\u001b[49m\u001b[43m \u001b[49m\u001b[38;5;241;43m2\u001b[39;49m\u001b[43m}\u001b[49m\u001b[43m]\u001b[49m \u001b[38;5;241m=\u001b[39m \u001b[38;5;241m3\u001b[39m\n",
      "\u001b[1;31mTypeError\u001b[0m: unhashable type: 'set'"
     ]
    }
   ],
   "source": [
    "landcover[{1,3, 2}] = 3"
   ]
  },
  {
   "cell_type": "markdown",
   "id": "0dac4e06",
   "metadata": {},
   "source": [
    "#### * Number : "
   ]
  },
  {
   "cell_type": "code",
   "execution_count": 87,
   "id": "f124010c",
   "metadata": {},
   "outputs": [
    {
     "name": "stdout",
     "output_type": "stream",
     "text": [
      "{'Natural grasses': 45, 'Agricultural grasses': 1, 'Deciduous': 11, 'Coniferous': 12, 1: 10, 1.1: 10, (1, 3, 2): 3, 45: 'Natural grasses'}\n"
     ]
    }
   ],
   "source": [
    "landcover[45] = \"Natural grasses\"\n",
    "print(landcover)"
   ]
  },
  {
   "cell_type": "markdown",
   "id": "c4865bb8",
   "metadata": {},
   "source": [
    "###### * String: "
   ]
  },
  {
   "cell_type": "code",
   "execution_count": 135,
   "id": "19848286",
   "metadata": {},
   "outputs": [
    {
     "name": "stdout",
     "output_type": "stream",
     "text": [
      "{'Agriculture': 1, 'Coniferous': 12, 'Deciduous': 11, 'Grasses': 45, 45: 'Natural grasses', 'Natural grasses': 45}\n"
     ]
    }
   ],
   "source": [
    "landcover[\"Natural grasses\"] = 45\n",
    "print(landcover)"
   ]
  },
  {
   "cell_type": "markdown",
   "id": "28d64727",
   "metadata": {},
   "source": [
    "###### * Tuple : "
   ]
  },
  {
   "cell_type": "code",
   "execution_count": 136,
   "id": "4b00fee3",
   "metadata": {},
   "outputs": [
    {
     "name": "stdout",
     "output_type": "stream",
     "text": [
      "{'Agriculture': 1, 'Coniferous': 12, 'Deciduous': 11, 'Grasses': 45, 45: 'Natural grasses', 'Natural grasses': 45, ('Enschede', '52N', '3E'): 45}\n"
     ]
    }
   ],
   "source": [
    "landcover[(\"Enschede\", \"52N\",\"3E\")] = 45\n",
    "print(landcover)"
   ]
  },
  {
   "cell_type": "markdown",
   "id": "c615a2d4",
   "metadata": {},
   "source": [
    "#### But a key cannot be a list:"
   ]
  },
  {
   "cell_type": "code",
   "execution_count": 138,
   "id": "bbf75913",
   "metadata": {},
   "outputs": [
    {
     "ename": "TypeError",
     "evalue": "unhashable type: 'list'",
     "output_type": "error",
     "traceback": [
      "\u001b[1;31m---------------------------------------------------------------------------\u001b[0m",
      "\u001b[1;31mTypeError\u001b[0m                                 Traceback (most recent call last)",
      "Cell \u001b[1;32mIn [138], line 1\u001b[0m\n\u001b[1;32m----> 1\u001b[0m \u001b[43mlandcover\u001b[49m\u001b[43m[\u001b[49m\u001b[43m[\u001b[49m\u001b[38;5;124;43m\"\u001b[39;49m\u001b[38;5;124;43mEnschede\u001b[39;49m\u001b[38;5;124;43m\"\u001b[39;49m\u001b[43m,\u001b[49m\u001b[43m \u001b[49m\u001b[38;5;124;43m\"\u001b[39;49m\u001b[38;5;124;43mlatitude\u001b[39;49m\u001b[38;5;124;43m\"\u001b[39;49m\u001b[43m,\u001b[49m\u001b[43m \u001b[49m\u001b[38;5;124;43m\"\u001b[39;49m\u001b[38;5;124;43mlongitude\u001b[39;49m\u001b[38;5;124;43m\"\u001b[39;49m\u001b[43m]\u001b[49m\u001b[43m]\u001b[49m \u001b[38;5;241m=\u001b[39m \u001b[38;5;241m45\u001b[39m\n\u001b[0;32m      2\u001b[0m \u001b[38;5;28mprint\u001b[39m(landcover)\n",
      "\u001b[1;31mTypeError\u001b[0m: unhashable type: 'list'"
     ]
    }
   ],
   "source": [
    "landcover[[\"Enschede\", \"latitude\", \"longitude\"]] = 45\n",
    "print(landcover) # TypeError: unhashable type: ‘list’"
   ]
  },
  {
   "cell_type": "markdown",
   "id": "f5f31447",
   "metadata": {},
   "source": [
    "### 5.3.3 Values\n",
    "\n",
    "    * Values can be anything!\n",
    "    * If Enschede municipality has multiple land covers, we can store them all:"
   ]
  },
  {
   "cell_type": "code",
   "execution_count": 14,
   "id": "ae477202",
   "metadata": {},
   "outputs": [
    {
     "name": "stdout",
     "output_type": "stream",
     "text": [
      "{'Natural grasses': 45, 'Agricultural grasses': 1, 'Deciduous': 11, 'Coniferous': 12, 45: 'Natural grasses', ('Enschede', '52N', '3E'): 45, 'Enschede': ('Coniferous', 'Built-up', 'Agricultural grasses', 'Orchard', 'Reed')}\n"
     ]
    }
   ],
   "source": [
    "landcover[\"Enschede\"] = (\"Coniferous\", \"Built-up\", \"Agricultural grasses\", \"Orchard\", \"Reed\")\n",
    "print(landcover)"
   ]
  },
  {
   "cell_type": "markdown",
   "id": "7f3220d7",
   "metadata": {},
   "source": [
    "#### Here as a tuple; could also have been a list"
   ]
  },
  {
   "cell_type": "code",
   "execution_count": null,
   "id": "4d3e405f",
   "metadata": {},
   "outputs": [],
   "source": []
  },
  {
   "cell_type": "markdown",
   "id": "38cf4995",
   "metadata": {},
   "source": [
    "### We can build our dictionary using the built-in dict() function:"
   ]
  },
  {
   "cell_type": "code",
   "execution_count": 16,
   "id": "1c64078f",
   "metadata": {},
   "outputs": [
    {
     "name": "stdout",
     "output_type": "stream",
     "text": [
      "{}\n"
     ]
    }
   ],
   "source": [
    "landcover = dict()\n",
    "print(landcover)"
   ]
  },
  {
   "cell_type": "code",
   "execution_count": 17,
   "id": "4a753ec6",
   "metadata": {},
   "outputs": [],
   "source": [
    "mixed_forest = (\"Coniferous\", \"Deciduous\")\n",
    "landcover[\"Hengelo\"] = mixed_forest\n",
    "landcover[\"Amsterdam\"] = (\"Build-up\", \"Greenhouse \")"
   ]
  },
  {
   "cell_type": "code",
   "execution_count": 18,
   "id": "514ccd7e",
   "metadata": {},
   "outputs": [
    {
     "name": "stdout",
     "output_type": "stream",
     "text": [
      "{'Hengelo': ('Coniferous', 'Deciduous'), 'Amsterdam': ('Build-up', 'Greenhouse ')}\n"
     ]
    }
   ],
   "source": [
    "print(landcover)"
   ]
  },
  {
   "cell_type": "code",
   "execution_count": 21,
   "id": "578a84c7",
   "metadata": {},
   "outputs": [],
   "source": [
    "mixed_forest = (\"Coniferous\", \"Deciduous\") \n",
    "urban_area = (\"Built-up\", \"Greenhouses\")\n",
    "landcover = dict(Veluwe = mixed_forest, Amsterdam = urban_area)"
   ]
  },
  {
   "cell_type": "code",
   "execution_count": 22,
   "id": "f898bf6b",
   "metadata": {},
   "outputs": [
    {
     "name": "stdout",
     "output_type": "stream",
     "text": [
      "{'Veluwe': ('Coniferous', 'Deciduous'), 'Amsterdam': ('Built-up', 'Greenhouses')}\n"
     ]
    }
   ],
   "source": [
    "print(landcover)"
   ]
  },
  {
   "cell_type": "code",
   "execution_count": null,
   "id": "91a63437",
   "metadata": {},
   "outputs": [],
   "source": []
  },
  {
   "cell_type": "markdown",
   "id": "9f46e342",
   "metadata": {},
   "source": [
    "### 5.3.4 Dictionary methods\n",
    "\n",
    "##### Similar to lists and strings, dictionary methods are called like:\n",
    "##### object.method()"
   ]
  },
  {
   "cell_type": "markdown",
   "id": "e99af468",
   "metadata": {},
   "source": [
    "### Important methods:\n",
    "    \n",
    "    * .keys(): returns the list of all keys\n",
    "    * .values(): returns the list of all values\n",
    "    * .items(): returns the (key,value) pairs as a list"
   ]
  },
  {
   "cell_type": "code",
   "execution_count": 38,
   "id": "b09b5fe9",
   "metadata": {},
   "outputs": [
    {
     "name": "stdout",
     "output_type": "stream",
     "text": [
      "dict_keys(['Agriculture', 'Coniferous', 'Deciduous', 'Grasses'])\n"
     ]
    }
   ],
   "source": [
    "landcover = {\"Agriculture\": 1, \"Coniferous\": 12, \"Deciduous\": 11, \"Grasses\": 45}\n",
    "print(landcover.keys())"
   ]
  },
  {
   "cell_type": "code",
   "execution_count": 39,
   "id": "c66e5428",
   "metadata": {},
   "outputs": [
    {
     "name": "stdout",
     "output_type": "stream",
     "text": [
      "dict_values([1, 12, 11, 45])\n"
     ]
    }
   ],
   "source": [
    "print(landcover.values())"
   ]
  },
  {
   "cell_type": "code",
   "execution_count": 40,
   "id": "8b2ad316",
   "metadata": {},
   "outputs": [
    {
     "name": "stdout",
     "output_type": "stream",
     "text": [
      "dict_items([('Agriculture', 1), ('Coniferous', 12), ('Deciduous', 11), ('Grasses', 45)])\n"
     ]
    }
   ],
   "source": [
    "print(landcover.items())"
   ]
  },
  {
   "cell_type": "code",
   "execution_count": null,
   "id": "88a6a1de",
   "metadata": {},
   "outputs": [],
   "source": []
  },
  {
   "cell_type": "markdown",
   "id": "6de2ff2c",
   "metadata": {},
   "source": [
    "## Updating a dictionary\n",
    "\n",
    "##### Changing values:"
   ]
  },
  {
   "cell_type": "code",
   "execution_count": 41,
   "id": "7f0b0d00",
   "metadata": {},
   "outputs": [],
   "source": [
    "landcover[\"Agriculture\"] = 999"
   ]
  },
  {
   "cell_type": "code",
   "execution_count": 42,
   "id": "84e92918",
   "metadata": {},
   "outputs": [],
   "source": [
    "landcover[\"Grasses\"] = 13"
   ]
  },
  {
   "cell_type": "code",
   "execution_count": 43,
   "id": "20c3fff8",
   "metadata": {},
   "outputs": [
    {
     "name": "stdout",
     "output_type": "stream",
     "text": [
      "{'Agriculture': 999, 'Coniferous': 12, 'Deciduous': 11, 'Grasses': 13}\n"
     ]
    }
   ],
   "source": [
    "print(landcover)"
   ]
  },
  {
   "cell_type": "code",
   "execution_count": null,
   "id": "f4667fc3",
   "metadata": {},
   "outputs": [],
   "source": []
  },
  {
   "cell_type": "markdown",
   "id": "a404d1b3",
   "metadata": {},
   "source": [
    "## Populating a dictionary with the items of another dictionary:"
   ]
  },
  {
   "cell_type": "code",
   "execution_count": 107,
   "id": "66909176",
   "metadata": {},
   "outputs": [
    {
     "name": "stdout",
     "output_type": "stream",
     "text": [
      "{'Natural grasses': 45, 'Agricultural grasses': 1, 'Coniferous': 12, 1.1: 10, (1, 3, 2): 3, 45: 'Natural grasses', 'Greenhouse': 20, 'Reed': 36}\n"
     ]
    }
   ],
   "source": [
    "new_landcovers = {\"Reed\": 36, \"Greenhouse\": 20} \n",
    "landcover.update(new_landcovers) \n",
    "print(landcover)"
   ]
  },
  {
   "cell_type": "code",
   "execution_count": 108,
   "id": "e43c2c04",
   "metadata": {},
   "outputs": [
    {
     "name": "stdout",
     "output_type": "stream",
     "text": [
      "{'Natural grasses': 45, 'Agricultural grasses': 1, 'Coniferous': 12, 1.1: 10, (1, 3, 2): 3, 45: 'Natural grasses', 'Greenhouse': 20, 'Reed': 76}\n"
     ]
    }
   ],
   "source": [
    "new_landcovers1 = {\"Reed\": 76} \n",
    "landcover.update(new_landcovers1) \n",
    "print(landcover)"
   ]
  },
  {
   "cell_type": "code",
   "execution_count": 109,
   "id": "c1395b51",
   "metadata": {},
   "outputs": [],
   "source": [
    "landcover['Reed'] = 786"
   ]
  },
  {
   "cell_type": "code",
   "execution_count": 110,
   "id": "83abdf23",
   "metadata": {},
   "outputs": [
    {
     "name": "stdout",
     "output_type": "stream",
     "text": [
      "{'Natural grasses': 45, 'Agricultural grasses': 1, 'Coniferous': 12, 1.1: 10, (1, 3, 2): 3, 45: 'Natural grasses', 'Greenhouse': 20, 'Reed': 786}\n"
     ]
    }
   ],
   "source": [
    "print(landcover)"
   ]
  },
  {
   "cell_type": "markdown",
   "id": "87741cbd",
   "metadata": {},
   "source": [
    "## Removing a item in dictionary\n",
    "\n",
    "###### * Removal of an item with a given key is called “popping the item.”"
   ]
  },
  {
   "cell_type": "code",
   "execution_count": 97,
   "id": "cd1d4687",
   "metadata": {},
   "outputs": [
    {
     "data": {
      "text/plain": [
       "786"
      ]
     },
     "execution_count": 97,
     "metadata": {},
     "output_type": "execute_result"
    }
   ],
   "source": [
    "landcover.pop(\"Reed\")"
   ]
  },
  {
   "cell_type": "code",
   "execution_count": 111,
   "id": "e13b7509",
   "metadata": {},
   "outputs": [
    {
     "name": "stdout",
     "output_type": "stream",
     "text": [
      "{'Natural grasses': 45, 'Agricultural grasses': 1, 'Coniferous': 12, 1.1: 10, (1, 3, 2): 3, 45: 'Natural grasses', 'Greenhouse': 20, 'Reed': 786}\n"
     ]
    }
   ],
   "source": [
    "print(landcover)"
   ]
  },
  {
   "cell_type": "markdown",
   "id": "9671f767",
   "metadata": {},
   "source": [
    "## Deletion of single item:"
   ]
  },
  {
   "cell_type": "code",
   "execution_count": 118,
   "id": "5c7236ed",
   "metadata": {},
   "outputs": [],
   "source": [
    "del landcover[\"Agricultural grasses\"]\n",
    "#print(landcover)"
   ]
  },
  {
   "cell_type": "code",
   "execution_count": 121,
   "id": "7ee065b8",
   "metadata": {},
   "outputs": [
    {
     "data": {
      "text/plain": [
       "786"
      ]
     },
     "execution_count": 121,
     "metadata": {},
     "output_type": "execute_result"
    }
   ],
   "source": [
    "landcover.pop(\"Reed\")"
   ]
  },
  {
   "cell_type": "code",
   "execution_count": 120,
   "id": "4e67a375",
   "metadata": {},
   "outputs": [],
   "source": [
    "landcover[\"Greenhouse\"] = None"
   ]
  },
  {
   "cell_type": "code",
   "execution_count": 123,
   "id": "9c3c2fd4",
   "metadata": {},
   "outputs": [
    {
     "name": "stdout",
     "output_type": "stream",
     "text": [
      "{'Natural grasses': None, 'Coniferous': 12, 1.1: 10, (1, 3, 2): 3, 45: 'Natural grasses', 'Greenhouse': None}\n"
     ]
    }
   ],
   "source": [
    "print(landcover)"
   ]
  },
  {
   "cell_type": "code",
   "execution_count": 125,
   "id": "beb8a84f",
   "metadata": {},
   "outputs": [
    {
     "name": "stdout",
     "output_type": "stream",
     "text": [
      "None\n"
     ]
    }
   ],
   "source": [
    "print(landcover[\"Greenhouse\"])"
   ]
  },
  {
   "cell_type": "code",
   "execution_count": 114,
   "id": "b00c9876",
   "metadata": {},
   "outputs": [
    {
     "data": {
      "text/plain": [
       "NoneType"
      ]
     },
     "execution_count": 114,
     "metadata": {},
     "output_type": "execute_result"
    }
   ],
   "source": [
    "a = None\n",
    "type(a)"
   ]
  },
  {
   "cell_type": "markdown",
   "id": "cd7e13c2",
   "metadata": {},
   "source": [
    "## Removal of all items:"
   ]
  },
  {
   "cell_type": "code",
   "execution_count": 53,
   "id": "d7637462",
   "metadata": {},
   "outputs": [],
   "source": [
    "landcover.clear()\n",
    "#print(landcover)"
   ]
  },
  {
   "cell_type": "code",
   "execution_count": 54,
   "id": "c4041917",
   "metadata": {},
   "outputs": [
    {
     "name": "stdout",
     "output_type": "stream",
     "text": [
      "{}\n"
     ]
    }
   ],
   "source": [
    "print(landcover)"
   ]
  },
  {
   "cell_type": "code",
   "execution_count": null,
   "id": "ca243b34",
   "metadata": {},
   "outputs": [],
   "source": []
  },
  {
   "cell_type": "markdown",
   "id": "c7f5c5ae",
   "metadata": {},
   "source": [
    "## Vectors or rasters as dictionaries\n",
    "\n",
    "    - Vector or raster files can be seen as dense matrices or as dictionaries.\n",
    "    \n",
    "    - Storage of all values in memory may consume substantial resources, \n",
    "    \n",
    "    - Not a wise choice when a significant percentage of the data is not needed Solution:\n",
    "    \n",
    "        * Store only the useful values\n",
    "\n",
    "        * Make use of a sparse matrix\n"
   ]
  },
  {
   "cell_type": "code",
   "execution_count": null,
   "id": "0d49f775",
   "metadata": {},
   "outputs": [],
   "source": []
  },
  {
   "cell_type": "markdown",
   "id": "784d2692",
   "metadata": {},
   "source": [
    "## Rasters or Matrices as dictionaries\n",
    "\n",
    "##### We only need to keep the positions of the non-zero values and write them down\n",
    "\n",
    "### That is:\n",
    "    * Row 0, Col 3, Value 1\n",
    "    * Row 2, Col 1, Value 2\n",
    "    * Row 4, Col 3, Value 3\n",
    "    \n",
    "Which gives:\n",
    "\n",
    "matrix = {(0, 3):1, (2, 1): 2, (4, 3): 3}\n"
   ]
  },
  {
   "cell_type": "code",
   "execution_count": null,
   "id": "4b76b266",
   "metadata": {},
   "outputs": [],
   "source": []
  },
  {
   "cell_type": "markdown",
   "id": "7d8ce96a",
   "metadata": {},
   "source": [
    "### Creation of a sparse matrix from a dense matrix:"
   ]
  },
  {
   "cell_type": "code",
   "execution_count": 127,
   "id": "7e44781e",
   "metadata": {},
   "outputs": [
    {
     "data": {
      "text/plain": [
       "['Hi', 'Hi', 'Hi', 'Hi', 'Hi']"
      ]
     },
     "execution_count": 127,
     "metadata": {},
     "output_type": "execute_result"
    }
   ],
   "source": [
    "['Hi']*5"
   ]
  },
  {
   "cell_type": "code",
   "execution_count": 141,
   "id": "04fd2c86",
   "metadata": {},
   "outputs": [],
   "source": [
    "dense_matrix = [[0]*1000, [0]*1000, [0]*1000, [0]*1000, [0]*1000]\n",
    "dense_matrix[0][3] = 1\n",
    "dense_matrix[2][1] = 2\n",
    "dense_matrix[4][3] = 3"
   ]
  },
  {
   "cell_type": "code",
   "execution_count": 142,
   "id": "32a69c3e",
   "metadata": {},
   "outputs": [
    {
     "name": "stdout",
     "output_type": "stream",
     "text": [
      "[[0 0 0 ... 0 0 0]\n",
      " [0 0 0 ... 0 0 0]\n",
      " [0 2 0 ... 0 0 0]\n",
      " [0 0 0 ... 0 0 0]\n",
      " [0 0 0 ... 0 0 0]]\n"
     ]
    }
   ],
   "source": [
    "print(np.array(dense_matrix))"
   ]
  },
  {
   "cell_type": "code",
   "execution_count": 143,
   "id": "eaffdc85",
   "metadata": {},
   "outputs": [
    {
     "data": {
      "text/plain": [
       "20128"
      ]
     },
     "execution_count": 143,
     "metadata": {},
     "output_type": "execute_result"
    }
   ],
   "source": [
    "import numpy as np\n",
    "np.array(dense_matrix).__sizeof__()"
   ]
  },
  {
   "cell_type": "code",
   "execution_count": null,
   "id": "0bb5fe72",
   "metadata": {},
   "outputs": [],
   "source": []
  },
  {
   "cell_type": "code",
   "execution_count": 145,
   "id": "c3f7c715",
   "metadata": {},
   "outputs": [],
   "source": [
    "sparse_matrix = {}\n",
    "\n",
    "for i in range(5):\n",
    "    for j in range(1000):\n",
    "        if dense_matrix[i][j] != 0:\n",
    "            key = (i,j)\n",
    "            value = dense_matrix[i][j]\n",
    "            sparse_matrix[key]= value\n",
    "            \n",
    "            "
   ]
  },
  {
   "cell_type": "code",
   "execution_count": 146,
   "id": "721e97dd",
   "metadata": {},
   "outputs": [
    {
     "name": "stdout",
     "output_type": "stream",
     "text": [
      "{(0, 3): 1, (2, 1): 2, (4, 3): 3}\n"
     ]
    }
   ],
   "source": [
    "print(sparse_matrix)"
   ]
  },
  {
   "cell_type": "code",
   "execution_count": 147,
   "id": "d6f1ca6e",
   "metadata": {},
   "outputs": [
    {
     "data": {
      "text/plain": [
       "{(0, 3): 1, (2, 1): 2, (4, 3): 3}"
      ]
     },
     "execution_count": 147,
     "metadata": {},
     "output_type": "execute_result"
    }
   ],
   "source": [
    "sparse_matrix"
   ]
  },
  {
   "cell_type": "code",
   "execution_count": 148,
   "id": "1d08661e",
   "metadata": {},
   "outputs": [
    {
     "data": {
      "text/plain": [
       "216"
      ]
     },
     "execution_count": 148,
     "metadata": {},
     "output_type": "execute_result"
    }
   ],
   "source": [
    "sparse_matrix.__sizeof__()"
   ]
  },
  {
   "cell_type": "markdown",
   "id": "b54dc0f3",
   "metadata": {},
   "source": [
    "# Summary:\n",
    "    * A dictionary is a data structure that stores key:value pairs, thus, it maps keys to values\n",
    "    * These pairs are ordered (python 3.7)\n",
    "    * The keys held in a dictionary are immutable, but their associated values are modifiable\n",
    "    * The methods keys(), values() and items() allow the iteration over and viewing of the dictionary content"
   ]
  },
  {
   "cell_type": "code",
   "execution_count": null,
   "id": "0ef5dcd7",
   "metadata": {},
   "outputs": [],
   "source": []
  },
  {
   "cell_type": "code",
   "execution_count": null,
   "id": "55bd7910",
   "metadata": {},
   "outputs": [],
   "source": []
  },
  {
   "cell_type": "markdown",
   "id": "5c515b89",
   "metadata": {},
   "source": [
    "# 6 & 7. Operators and Conditonals"
   ]
  },
  {
   "cell_type": "markdown",
   "id": "e2134675",
   "metadata": {},
   "source": [
    "### Contents\n",
    "    1. Logical operators, and comparison operators\n",
    "    2. Numeric Operator (Add, Subtract, Multiplication, Division, Modulo, Floor Division, Exponentiation)\n",
    "    3. Conditional execution (if, elif, else)\n"
   ]
  },
  {
   "cell_type": "markdown",
   "id": "5a31c6d8",
   "metadata": {},
   "source": [
    "### 6.1 Equality, inequality\n",
    "\n",
    "    * Equality operator == \n",
    "    * Inequality operator !=\n",
    "    * Domains: just about anything! Range:\tBoolean\n"
   ]
  },
  {
   "cell_type": "code",
   "execution_count": 149,
   "id": "f4490134",
   "metadata": {},
   "outputs": [
    {
     "ename": "SyntaxError",
     "evalue": "cannot assign to literal here. Maybe you meant '==' instead of '='? (682841211.py, line 1)",
     "output_type": "error",
     "traceback": [
      "\u001b[1;36m  Cell \u001b[1;32mIn [149], line 1\u001b[1;36m\u001b[0m\n\u001b[1;33m    2 = 2\u001b[0m\n\u001b[1;37m    ^\u001b[0m\n\u001b[1;31mSyntaxError\u001b[0m\u001b[1;31m:\u001b[0m cannot assign to literal here. Maybe you meant '==' instead of '='?\n"
     ]
    }
   ],
   "source": [
    "2 = 2\n",
    "#b = 5\n"
   ]
  },
  {
   "cell_type": "code",
   "execution_count": 65,
   "id": "5700a9eb",
   "metadata": {},
   "outputs": [
    {
     "name": "stdout",
     "output_type": "stream",
     "text": [
      "True\n"
     ]
    }
   ],
   "source": [
    "print(1 == 1) # equal"
   ]
  },
  {
   "cell_type": "code",
   "execution_count": 150,
   "id": "ec8be2c3",
   "metadata": {},
   "outputs": [
    {
     "name": "stdout",
     "output_type": "stream",
     "text": [
      "False\n"
     ]
    }
   ],
   "source": [
    "print('hello' == 'world')"
   ]
  },
  {
   "cell_type": "code",
   "execution_count": null,
   "id": "d762968a",
   "metadata": {},
   "outputs": [],
   "source": []
  },
  {
   "cell_type": "markdown",
   "id": "5c41b4ef",
   "metadata": {},
   "source": [
    "### 6.2 Modulo: numeric operator\n",
    "    * Floor division //\n",
    "    * Remainder or modulo %\n"
   ]
  },
  {
   "cell_type": "code",
   "execution_count": 154,
   "id": "d25a288b",
   "metadata": {},
   "outputs": [
    {
     "name": "stdout",
     "output_type": "stream",
     "text": [
      "3\n"
     ]
    }
   ],
   "source": [
    "print(7//2)"
   ]
  },
  {
   "cell_type": "code",
   "execution_count": 155,
   "id": "3fe77c6d",
   "metadata": {},
   "outputs": [
    {
     "name": "stdout",
     "output_type": "stream",
     "text": [
      "1\n"
     ]
    }
   ],
   "source": [
    "print(7%2)"
   ]
  },
  {
   "cell_type": "code",
   "execution_count": null,
   "id": "5fc47fb9",
   "metadata": {},
   "outputs": [],
   "source": [
    "# Is x even?"
   ]
  },
  {
   "cell_type": "code",
   "execution_count": 157,
   "id": "50e22b02",
   "metadata": {},
   "outputs": [
    {
     "name": "stdout",
     "output_type": "stream",
     "text": [
      "False\n"
     ]
    }
   ],
   "source": [
    "# find even number \n",
    "x = 5\n",
    "print(x % 2 == 0)"
   ]
  },
  {
   "cell_type": "markdown",
   "id": "cf01329b",
   "metadata": {},
   "source": [
    "### the even test"
   ]
  },
  {
   "cell_type": "code",
   "execution_count": 71,
   "id": "a05167e3",
   "metadata": {},
   "outputs": [
    {
     "name": "stdout",
     "output_type": "stream",
     "text": [
      "0\n"
     ]
    }
   ],
   "source": [
    "print(0%2)"
   ]
  },
  {
   "cell_type": "code",
   "execution_count": 72,
   "id": "cf45a927",
   "metadata": {},
   "outputs": [
    {
     "name": "stdout",
     "output_type": "stream",
     "text": [
      "1\n"
     ]
    }
   ],
   "source": [
    "print(1%2)"
   ]
  },
  {
   "cell_type": "code",
   "execution_count": 73,
   "id": "aae92398",
   "metadata": {},
   "outputs": [
    {
     "name": "stdout",
     "output_type": "stream",
     "text": [
      "0\n"
     ]
    }
   ],
   "source": [
    "print(2%2)"
   ]
  },
  {
   "cell_type": "code",
   "execution_count": 74,
   "id": "bddbfa12",
   "metadata": {},
   "outputs": [
    {
     "name": "stdout",
     "output_type": "stream",
     "text": [
      "1\n"
     ]
    }
   ],
   "source": [
    "print(3%2)"
   ]
  },
  {
   "cell_type": "code",
   "execution_count": 75,
   "id": "628a7d9a",
   "metadata": {},
   "outputs": [
    {
     "name": "stdout",
     "output_type": "stream",
     "text": [
      "0\n"
     ]
    }
   ],
   "source": [
    "print(4%2)"
   ]
  },
  {
   "cell_type": "code",
   "execution_count": null,
   "id": "00483a5f",
   "metadata": {},
   "outputs": [],
   "source": []
  },
  {
   "cell_type": "markdown",
   "id": "304af12f",
   "metadata": {},
   "source": [
    "## Comparisons\n",
    "\n",
    "    The operators <, <=, >=, and > only work if the input domains are ordered!"
   ]
  },
  {
   "cell_type": "code",
   "execution_count": 158,
   "id": "23915675",
   "metadata": {},
   "outputs": [
    {
     "name": "stdout",
     "output_type": "stream",
     "text": [
      "True\n"
     ]
    }
   ],
   "source": [
    "print (2 < 5) "
   ]
  },
  {
   "cell_type": "code",
   "execution_count": 159,
   "id": "9bdb7c46",
   "metadata": {},
   "outputs": [
    {
     "name": "stdout",
     "output_type": "stream",
     "text": [
      "False\n"
     ]
    }
   ],
   "source": [
    "print('hello' > 'world')"
   ]
  },
  {
   "cell_type": "code",
   "execution_count": null,
   "id": "add912cb",
   "metadata": {},
   "outputs": [],
   "source": []
  },
  {
   "cell_type": "markdown",
   "id": "26e5f6d7",
   "metadata": {},
   "source": [
    "## 7. Conditional Statement"
   ]
  },
  {
   "cell_type": "markdown",
   "id": "0bda7cdc",
   "metadata": {},
   "source": [
    "### 7.1 Conditional execution\n",
    "\n",
    "    - Suppose we want to print some text in case x is greater than zero.\n",
    "    - Python has a special statement for cases like these. It is called the if statement\n"
   ]
  },
  {
   "cell_type": "code",
   "execution_count": 163,
   "id": "5457e458",
   "metadata": {},
   "outputs": [
    {
     "name": "stdout",
     "output_type": "stream",
     "text": [
      "x is negative\n"
     ]
    }
   ],
   "source": [
    "x = 0\n",
    "\n",
    "if x > 0:\n",
    "    print(\"x is possitive\")\n",
    "else:\n",
    "    print(\"x is negative\")"
   ]
  },
  {
   "cell_type": "code",
   "execution_count": null,
   "id": "85ac495a",
   "metadata": {},
   "outputs": [],
   "source": []
  },
  {
   "cell_type": "markdown",
   "id": "81cd2fcc",
   "metadata": {},
   "source": [
    "## syntax\n",
    "\n",
    "    if boolean_expression: \n",
    "        statements 1\n",
    "    else: \n",
    "        statements 2\n",
    "        \n",
    "    • If the expression is True, then the first body of statements is executed\n",
    "    • If the expression is False, then the second body of statements is executed\n",
    "    • Normal processing proceeds afterwards\n"
   ]
  },
  {
   "cell_type": "code",
   "execution_count": null,
   "id": "97968aec",
   "metadata": {},
   "outputs": [],
   "source": []
  },
  {
   "cell_type": "markdown",
   "id": "00fd30be",
   "metadata": {},
   "source": [
    "## 7.2 Nested if statements\n",
    "\n",
    "    \n",
    "### syntax\n",
    "\n",
    "    if boolean_expression: \n",
    "        statements 1\n",
    "    else: \n",
    "        if boolean_expression: \n",
    "            statements 2\n",
    "        else: \n",
    "            statements 3\n",
    "            \n",
    "\n",
    "    Yes, but what if x is zero?"
   ]
  },
  {
   "cell_type": "code",
   "execution_count": 164,
   "id": "96d8e0b4",
   "metadata": {},
   "outputs": [
    {
     "name": "stdout",
     "output_type": "stream",
     "text": [
      "x is positive\n"
     ]
    }
   ],
   "source": [
    "x = 23\n",
    "\n",
    "if x > 0:\n",
    "    print( 'x is positive')\n",
    "else: \n",
    "    if x < 0:\n",
    "        print( 'x is negative' )\n",
    "    else:\n",
    "        print( 'x is zero' )\n"
   ]
  },
  {
   "cell_type": "code",
   "execution_count": null,
   "id": "afddd2fc",
   "metadata": {},
   "outputs": [],
   "source": []
  },
  {
   "cell_type": "markdown",
   "id": "548f0fa1",
   "metadata": {},
   "source": [
    "## 7.3 Chained conditionals\n",
    "\n",
    "    Suppose we have numbered the days of the week and we want to map the number to a string:\n",
    "    •\t0 → 'Monday'\n",
    "    •\t1 → 'Tuesday'\n",
    "    •\t2 → 'Wednesday'\n",
    "    •\tand so on ...\n"
   ]
  },
  {
   "cell_type": "markdown",
   "id": "04bb4405",
   "metadata": {},
   "source": [
    "### lets try with nested conditionals"
   ]
  },
  {
   "cell_type": "code",
   "execution_count": 84,
   "id": "42de63c7",
   "metadata": {},
   "outputs": [
    {
     "name": "stdout",
     "output_type": "stream",
     "text": [
      "Error!\n"
     ]
    }
   ],
   "source": [
    "n = 10\n",
    "\n",
    "if n == 0:\n",
    "    print(\"Monday\")\n",
    "\n",
    "else:\n",
    "    if n == 1:\n",
    "        print(\"Tuesday\")\n",
    "    else:\n",
    "        if n== 2:\n",
    "            print(\"Wednesday\")\n",
    "        else:\n",
    "            if n == 3:\n",
    "                print(\"Thursday\")\n",
    "            else:\n",
    "                if n == 4:\n",
    "                    print(\"Friday\")\n",
    "                else:\n",
    "                    if n == 5:\n",
    "                        print(\"Saturday\")\n",
    "                    else: \n",
    "                        if n == 6:\n",
    "                            print(\"Sunday\")\n",
    "                        else:\n",
    "                            print(\"Error!\")"
   ]
  },
  {
   "cell_type": "code",
   "execution_count": null,
   "id": "bce700e4",
   "metadata": {},
   "outputs": [],
   "source": []
  },
  {
   "cell_type": "markdown",
   "id": "245220a5",
   "metadata": {},
   "source": [
    "# Chained conditionals\n",
    "\n",
    "    Chained conditionals syntax,\n",
    "    \n",
    "        - if boolean expression1 : \n",
    "            statements1\n",
    "        - elif boolean expresion2 :\n",
    "            statements2\n",
    "        - else: \n",
    "            statementsN\n",
    "\n",
    "    •\tThe IF statement body of the first expressionthat evaluates to True is executed\n",
    "    •\tOtherwise, the statements of the else clause at end.\n"
   ]
  },
  {
   "cell_type": "code",
   "execution_count": 169,
   "id": "ab8eb80f",
   "metadata": {},
   "outputs": [
    {
     "ename": "IndentationError",
     "evalue": "unexpected indent (2866741381.py, line 5)",
     "output_type": "error",
     "traceback": [
      "\u001b[1;36m  Cell \u001b[1;32mIn [169], line 5\u001b[1;36m\u001b[0m\n\u001b[1;33m    print(\"\")\u001b[0m\n\u001b[1;37m    ^\u001b[0m\n\u001b[1;31mIndentationError\u001b[0m\u001b[1;31m:\u001b[0m unexpected indent\n"
     ]
    }
   ],
   "source": [
    "n = 0\n",
    "\n",
    "if n == 0:\n",
    "  print(\"Monday\")\n",
    "   print(\"\")\n",
    "elif n == 1:\n",
    "  print(\"Tuesday\")\n",
    "elif n == 2:\n",
    "    print(\"Wednesday\")\n",
    "elif n == 3:\n",
    "    print(\"Thursday\")\n",
    "elif n == 4:\n",
    "    print(\"Friday\")\n",
    "elif n == 5:\n",
    "    print(\"Saturday\")\n",
    "elif n == 6:\n",
    "    print(\"Sunday\")\n",
    "else:\n",
    "    print(\"Error!\")"
   ]
  },
  {
   "cell_type": "code",
   "execution_count": null,
   "id": "57fc8782",
   "metadata": {},
   "outputs": [],
   "source": []
  },
  {
   "cell_type": "markdown",
   "id": "5258259d",
   "metadata": {},
   "source": [
    "## Summary\n",
    "\n",
    "    • Modulo\n",
    "    • Boolean expressions\n",
    "    • Conditional execution if/elif/else\n"
   ]
  },
  {
   "cell_type": "code",
   "execution_count": null,
   "id": "0ea02ef3",
   "metadata": {},
   "outputs": [],
   "source": [
    "print(\"hi\")"
   ]
  },
  {
   "cell_type": "markdown",
   "id": "030e48a3",
   "metadata": {},
   "source": [
    "# 8. Iterations\n",
    "    - So far, we have implicitly assumed that a task is done just once …\n",
    "    - In real life, repeated tasks are everywhere.\n",
    "\n",
    "\n",
    "For instance:\n",
    "\n",
    "    • Reading all lines of a CSV file and operating on them\n",
    "    • Intersecting a collection of polygons\n",
    "    • Calculating the buffer area around a set of points\n",
    "    • Determining a regression line using the least squares method\n",
    "    • Connecting to a database to retrieve data records from a table\n",
    "    • Checking whether polygons in a shapefile are geometrically valid \n",
    "    • Retrieving data from a citizen science portal\n",
    "    • Operating on a raster data set with a 3x3 kernel window\n"
   ]
  },
  {
   "cell_type": "markdown",
   "id": "22f44b93",
   "metadata": {},
   "source": [
    "## Iterations\n",
    "\n",
    "    - The repetition of a task over multiple elements is called iteration\n",
    "    - Iteration is performed in a statements that we call a loop\n",
    "\n",
    "In Python, you can use two types of loops:\n",
    "    \n",
    "    •The for loop\n",
    "    •The while loop\n",
    "    \n",
    "    Normally, the task at hand will determine which of the two is the more appropriate.\n"
   ]
  },
  {
   "cell_type": "code",
   "execution_count": null,
   "id": "2acdb8af",
   "metadata": {},
   "outputs": [],
   "source": []
  },
  {
   "cell_type": "markdown",
   "id": "1a8b5e80",
   "metadata": {},
   "source": [
    "## 8.1 The while loop\n",
    "\n",
    "    * A while loop uses the following syntax:\n",
    "        - while condition : body_of_statements\n",
    "\n",
    "    * The body of statements (indented, obviously) will be repeated as long as the condition continues to evaluate to true. These statements code for the “taskper-element.”\n",
    "\n",
    "    * While loops are used for cases when one cannot predict how often the taskper-element will need to be executed.\n",
    "\n",
    "    * Good code ensures that eventually the condition becomes false, when there is nothing to be done anymore, for instance because there are no more elements to be handled.\n",
    "    \n",
    " \n",
    "#### The skeleton of a while is:\n",
    "\n",
    "    while boolean_expression == True:\n",
    "    statement #1 statement #2\n",
    "    ...\n",
    "    statement #N\n",
    "\n"
   ]
  },
  {
   "cell_type": "code",
   "execution_count": 86,
   "id": "e833f1af",
   "metadata": {},
   "outputs": [
    {
     "name": "stdout",
     "output_type": "stream",
     "text": [
      "0\n",
      "1\n",
      "2\n",
      "3\n",
      "4\n",
      "5\n",
      "6\n",
      "7\n",
      "8\n",
      "9\n"
     ]
    }
   ],
   "source": [
    "#The simplest while loop is:\n",
    "count = 0 \n",
    "while count < 10: \n",
    "    print(count) \n",
    "    count += 1\n"
   ]
  },
  {
   "cell_type": "markdown",
   "id": "a003a999",
   "metadata": {},
   "source": [
    "### The while loop\n",
    "    A simple while loop that prints the numbers starting at 1, until we find a nonprime number."
   ]
  },
  {
   "cell_type": "code",
   "execution_count": null,
   "id": "b846617d",
   "metadata": {},
   "outputs": [],
   "source": []
  },
  {
   "cell_type": "markdown",
   "id": "ceeb982a",
   "metadata": {},
   "source": [
    "#### Its structure is typical of while loops:\n",
    "\n",
    "    i = 0 # initialization\n",
    "    while i < 100 : # (non-)termination condition\n",
    "        if is_prime(i) is False: # statements (ie, task for the \n",
    "            i = i + 1 # element)\n",
    "        else: \n",
    "            print(i)\n",
    "            i = i + 1 # progress step\n",
    "\n",
    "###### Variable i controls the progress through the loop, it is called the loop variable\n"
   ]
  },
  {
   "cell_type": "code",
   "execution_count": null,
   "id": "88a12e78",
   "metadata": {},
   "outputs": [],
   "source": []
  },
  {
   "cell_type": "markdown",
   "id": "282f0aa4",
   "metadata": {},
   "source": [
    "### While loop order of progress\n",
    "    One obviously can also count down:\n"
   ]
  },
  {
   "cell_type": "code",
   "execution_count": 89,
   "id": "27d6f67e",
   "metadata": {},
   "outputs": [
    {
     "name": "stdout",
     "output_type": "stream",
     "text": [
      "10\n",
      "9\n",
      "8\n",
      "7\n",
      "6\n",
      "5\n",
      "4\n",
      "3\n",
      "2\n",
      "1\n"
     ]
    }
   ],
   "source": [
    "i = 10 \n",
    "while i > 0: \n",
    "    print(i) \n",
    "    i = i - 1\n",
    "\n",
    "#We can wrap this in a function\n",
    "   "
   ]
  },
  {
   "cell_type": "code",
   "execution_count": 92,
   "id": "5cd8d992",
   "metadata": {},
   "outputs": [
    {
     "name": "stdout",
     "output_type": "stream",
     "text": [
      "10\n",
      "9\n",
      "8\n",
      "7\n",
      "6\n",
      "5\n",
      "4\n",
      "3\n",
      "2\n",
      "1\n",
      "Boom!\n"
     ]
    }
   ],
   "source": [
    "def cound_down(n):\n",
    "    i = 10\n",
    "    while i > 0:\n",
    "        print(i)\n",
    "        i = i-1\n",
    "        \n",
    "    print(\"Boom!\")\n",
    "    \n",
    "cound_down(10)"
   ]
  },
  {
   "cell_type": "markdown",
   "id": "bc1ae707",
   "metadata": {},
   "source": [
    "#### Breaking the while loop\n",
    "    We can stop the iterations with a break statement\n"
   ]
  },
  {
   "cell_type": "code",
   "execution_count": 93,
   "id": "e854bc4b",
   "metadata": {},
   "outputs": [
    {
     "name": "stdout",
     "output_type": "stream",
     "text": [
      "1\n",
      "2\n",
      "3\n",
      "4\n",
      "5\n",
      "6\n",
      "7\n",
      "8\n",
      "9\n",
      "10\n"
     ]
    }
   ],
   "source": [
    "i = 1\n",
    "while True:\n",
    "    print(i)\n",
    "    if i >= 10:\n",
    "        break\n",
    "    i = i + 1"
   ]
  },
  {
   "cell_type": "markdown",
   "id": "4c119ece",
   "metadata": {},
   "source": [
    "###### However, it is better to avoid breaks"
   ]
  },
  {
   "cell_type": "code",
   "execution_count": 94,
   "id": "5e0949ad",
   "metadata": {},
   "outputs": [
    {
     "name": "stdout",
     "output_type": "stream",
     "text": [
      "1\n",
      "2\n",
      "3\n",
      "4\n",
      "5\n",
      "6\n",
      "7\n",
      "8\n",
      "9\n",
      "10\n"
     ]
    }
   ],
   "source": [
    "i = 1\n",
    "while i <= 10:\n",
    "    print(i)\n",
    "    i = i + 1"
   ]
  },
  {
   "cell_type": "code",
   "execution_count": null,
   "id": "c61e5e62",
   "metadata": {},
   "outputs": [],
   "source": []
  },
  {
   "cell_type": "markdown",
   "id": "6d14cb45",
   "metadata": {},
   "source": [
    "##### Skipping an element inside the while loop\n",
    "    We can skip an iteration step with the continue statement\n"
   ]
  },
  {
   "cell_type": "code",
   "execution_count": 100,
   "id": "76a14c07",
   "metadata": {},
   "outputs": [
    {
     "name": "stdout",
     "output_type": "stream",
     "text": [
      "1 *2 *3 *4 *6 *8 *9 *10\n"
     ]
    }
   ],
   "source": [
    "i = 0\n",
    "while i < 9: \n",
    "    i = i + 1 \n",
    "    if i==5 or i==7:\n",
    "        continue                                                      \n",
    "    else:\n",
    "        print(i, \"*\", end=\"\")\n",
    "        \n",
    "print(i+1)\n"
   ]
  },
  {
   "cell_type": "markdown",
   "id": "b4c6f771",
   "metadata": {},
   "source": [
    "Normally, print() puts a newline character behind what it is printing.  \n",
    "With the end=\"…\" clause used, it ends the printed string with whatever is in … position instead."
   ]
  },
  {
   "cell_type": "code",
   "execution_count": null,
   "id": "a61a34c7",
   "metadata": {},
   "outputs": [],
   "source": []
  },
  {
   "cell_type": "markdown",
   "id": "09a5e8dc",
   "metadata": {},
   "source": [
    "### While iteration over a list\n",
    "    We can iterate over lists, which is a common programming practice:\n",
    "\n"
   ]
  },
  {
   "cell_type": "code",
   "execution_count": 101,
   "id": "f79204da",
   "metadata": {},
   "outputs": [
    {
     "name": "stdout",
     "output_type": "stream",
     "text": [
      "orange watermelon lemon coconut "
     ]
    }
   ],
   "source": [
    "fruits = [\"orange\", \"watermelon\", \"lemon\", \"coconut\"] \n",
    "i = 0\n",
    "while i < len(fruits):\n",
    "    print(fruits[i], end=\" \") \n",
    "    i = i + 1"
   ]
  },
  {
   "cell_type": "markdown",
   "id": "d97b237c",
   "metadata": {},
   "source": [
    "    Observe the subtle use of end=\" \".\n",
    "    Also observe that in this case we know upfront how often we will iterate (namely, len(fruits) times).  \n",
    "    In such cases, a for loop is usually the better coding choice.  (See later.)"
   ]
  },
  {
   "cell_type": "code",
   "execution_count": null,
   "id": "ee0f5717",
   "metadata": {},
   "outputs": [],
   "source": []
  },
  {
   "cell_type": "markdown",
   "id": "ae109763",
   "metadata": {},
   "source": [
    "### Populating a container with while\n",
    "    We can populate lists"
   ]
  },
  {
   "cell_type": "code",
   "execution_count": 103,
   "id": "a8b823f8",
   "metadata": {},
   "outputs": [
    {
     "name": "stdout",
     "output_type": "stream",
     "text": [
      "[0, 2, 4, 6, 8, 10, 12, 14, 16, 18, 20, 22, 24, 26, 28, 30, 32, 34, 36, 38]\n"
     ]
    }
   ],
   "source": [
    "twenty_even_numbers = [ ] \n",
    "i = 0 \n",
    "while i < 40:\n",
    "    twenty_even_numbers.append(i) \n",
    "    i = i + 2\n",
    "    \n",
    "print(twenty_even_numbers)\n",
    "\n",
    "#While does the job again, but a choice to use a for loop is recommended."
   ]
  },
  {
   "cell_type": "code",
   "execution_count": null,
   "id": "51006386",
   "metadata": {},
   "outputs": [],
   "source": []
  },
  {
   "cell_type": "markdown",
   "id": "6ebccc67",
   "metadata": {},
   "source": [
    "## 8.2 The for loop\n",
    "\n",
    "    * The for loop has the following syntax:\n",
    "        - for variable in sequence : \n",
    "            body_of_statements\n",
    "            \n",
    "    * The variable value iterates over the complete sequence (which can be a string, a list, a tuple, or any other type of container) and assumes the value of its successive elements.\n",
    "    \n",
    "    * Good code \n",
    "        - makes use of the variable in the body_of_statements.\n",
    "        - uses the for loop in cases when upfront we know how often the body_of_statements will be executed for an element.\n",
    "        \n",
    "    * This is a common coding mechanism and you can use continue also in for loops.\n"
   ]
  },
  {
   "cell_type": "code",
   "execution_count": null,
   "id": "c6d4bb50",
   "metadata": {},
   "outputs": [],
   "source": []
  },
  {
   "cell_type": "markdown",
   "id": "1109f043",
   "metadata": {},
   "source": [
    "### The for loop\n",
    "    An example with strings:"
   ]
  },
  {
   "cell_type": "code",
   "execution_count": 105,
   "id": "8db31c80",
   "metadata": {},
   "outputs": [
    {
     "name": "stdout",
     "output_type": "stream",
     "text": [
      "H\n",
      "e\n",
      "l\n",
      "l\n",
      "o\n",
      " \n",
      "w\n",
      "o\n",
      "r\n",
      "l\n",
      "d\n",
      "!\n"
     ]
    }
   ],
   "source": [
    "for char in \"Hello world!\": \n",
    "    print(char)"
   ]
  },
  {
   "cell_type": "code",
   "execution_count": null,
   "id": "4b86b113",
   "metadata": {},
   "outputs": [],
   "source": []
  },
  {
   "cell_type": "markdown",
   "id": "7e074c36",
   "metadata": {},
   "source": [
    "### Another example with strings:"
   ]
  },
  {
   "cell_type": "code",
   "execution_count": 108,
   "id": "fa63885c",
   "metadata": {},
   "outputs": [
    {
     "name": "stdout",
     "output_type": "stream",
     "text": [
      "?siht esrever uoy naC\n"
     ]
    }
   ],
   "source": [
    "my_string = \"Can you reverse this?\"\n",
    "result = \"\" \n",
    "for char in my_string:\n",
    "    result = char + result \n",
    "    \n",
    "print(result)\n",
    "    \n",
    "#?siht esrever uoy naC\n",
    "#Observe that here only one print statement is executed."
   ]
  },
  {
   "cell_type": "code",
   "execution_count": null,
   "id": "ffa4e981",
   "metadata": {},
   "outputs": [],
   "source": []
  },
  {
   "cell_type": "markdown",
   "id": "c1bdb0f2",
   "metadata": {},
   "source": [
    "### The for loop \n",
    "\n",
    "    An example with list:\n",
    "   "
   ]
  },
  {
   "cell_type": "code",
   "execution_count": 109,
   "id": "2dbaacec",
   "metadata": {},
   "outputs": [
    {
     "name": "stdout",
     "output_type": "stream",
     "text": [
      "Alice\n",
      "Bob\n",
      "Jane\n",
      "John\n"
     ]
    }
   ],
   "source": [
    "name = [\"john\", \"jane\", \"bob\", \"alice\"]\n",
    "for i in sorted(name):\n",
    "    print(str(i).capitalize())"
   ]
  },
  {
   "cell_type": "code",
   "execution_count": null,
   "id": "26ddb738",
   "metadata": {},
   "outputs": [],
   "source": []
  },
  {
   "cell_type": "markdown",
   "id": "eab80f14",
   "metadata": {},
   "source": [
    "# Steering the for loop\n",
    "\n",
    "    * We can finetune the scope of action with range():\n",
    "        for i in range(…) :\n",
    "    * It is used as: range([start], stop, [step]) All arguments are integer.\n",
    "    \n",
    "    * start is optional and defaults to 0; step is also optional (defaults to 1)\n",
    "    \n",
    "    * The range() function gives us an iterator object, this is something magical over which you can iterate.  \n",
    "        - With list(range(…)) \n",
    "   \n",
    "you will see the list of elements that the iterator gives you. start is a member of the iterator but stop is (just) not: \n"
   ]
  },
  {
   "cell_type": "code",
   "execution_count": 110,
   "id": "f2b53f34",
   "metadata": {},
   "outputs": [
    {
     "data": {
      "text/plain": [
       "True"
      ]
     },
     "execution_count": 110,
     "metadata": {},
     "output_type": "execute_result"
    }
   ],
   "source": [
    "list(range(1,3)) == [1, 2]"
   ]
  },
  {
   "cell_type": "code",
   "execution_count": 113,
   "id": "143d5548",
   "metadata": {},
   "outputs": [
    {
     "name": "stdout",
     "output_type": "stream",
     "text": [
      "[0, 1, 2, 3, 4, 5, 6, 7, 8, 9]\n"
     ]
    }
   ],
   "source": [
    "print(list(range(10)))"
   ]
  },
  {
   "cell_type": "code",
   "execution_count": 114,
   "id": "a22d6362",
   "metadata": {},
   "outputs": [
    {
     "name": "stdout",
     "output_type": "stream",
     "text": [
      "[2, 3, 4, 5, 6, 7]\n"
     ]
    }
   ],
   "source": [
    "print(list(range(2, 8))) "
   ]
  },
  {
   "cell_type": "code",
   "execution_count": 115,
   "id": "f35680a2",
   "metadata": {},
   "outputs": [
    {
     "name": "stdout",
     "output_type": "stream",
     "text": [
      "[0, 2, 4, 6, 8, 10]\n"
     ]
    }
   ],
   "source": [
    "print(list(range(0, 12, 2))) "
   ]
  },
  {
   "cell_type": "code",
   "execution_count": null,
   "id": "d9fac0fd",
   "metadata": {},
   "outputs": [],
   "source": []
  },
  {
   "cell_type": "markdown",
   "id": "84075ee8",
   "metadata": {},
   "source": [
    "### Using range() in the for loop\n",
    "\n",
    "    With range(), you can iterate over a list as you wish:\n"
   ]
  },
  {
   "cell_type": "code",
   "execution_count": 170,
   "id": "40609b9d",
   "metadata": {},
   "outputs": [
    {
     "name": "stdout",
     "output_type": "stream",
     "text": [
      "orange\n",
      "lemon\n",
      "pineapple\n",
      "pomegranate\n",
      "grapes\n"
     ]
    }
   ],
   "source": [
    "fruits = [ \"orange\", \"watermelon\", \"lemon\", \"coconut\", \"pineapple\", \"banana\",\"pomegranate\", \"kiwi\",\"grapes\", \"apricot\" ]\n",
    "\n",
    "for fruit_index in range(0, 10, 2):                                  \n",
    "    print(fruits[fruit_index])"
   ]
  },
  {
   "cell_type": "code",
   "execution_count": null,
   "id": "eb6f2849",
   "metadata": {},
   "outputs": [],
   "source": []
  },
  {
   "cell_type": "code",
   "execution_count": 171,
   "id": "31e135e8",
   "metadata": {},
   "outputs": [],
   "source": [
    "#What is the expected output?"
   ]
  },
  {
   "cell_type": "code",
   "execution_count": 172,
   "id": "32ea2f83",
   "metadata": {},
   "outputs": [],
   "source": [
    "#How would you print a list of fruits at even positions with a text length shorter than the position number?"
   ]
  },
  {
   "cell_type": "code",
   "execution_count": 123,
   "id": "508ba4b6",
   "metadata": {},
   "outputs": [
    {
     "name": "stdout",
     "output_type": "stream",
     "text": [
      "['grapes']\n"
     ]
    }
   ],
   "source": [
    "short_fruit = []\n",
    "fruits = [ \"orange\", \"watermelon\", \"lemon\", \"coconut\", \"pineapple\", \"banana\",\"pomegranate\", \"kiwi\",\"grapes\", \"apricot\" ]\n",
    "for fruit_index in range(0, 10, 2):\n",
    "    if len(fruits[fruit_index]) < fruit_index:\n",
    "        short_fruit.append(fruits[fruit_index]) \n",
    "        print(short_fruit)\n"
   ]
  },
  {
   "cell_type": "code",
   "execution_count": null,
   "id": "78aebd62",
   "metadata": {},
   "outputs": [],
   "source": []
  },
  {
   "cell_type": "markdown",
   "id": "69fb87d4",
   "metadata": {},
   "source": [
    "## 8.3 Iteration over n-dimentional data structures \n",
    "\n",
    "    how to iterate over, for instance, a two dimentional data structures\n",
    "\n"
   ]
  },
  {
   "cell_type": "code",
   "execution_count": 183,
   "id": "fef04e10",
   "metadata": {},
   "outputs": [
    {
     "ename": "TypeError",
     "evalue": "unsupported operand type(s) for +: 'int' and 'list'",
     "output_type": "error",
     "traceback": [
      "\u001b[1;31m---------------------------------------------------------------------------\u001b[0m",
      "\u001b[1;31mTypeError\u001b[0m                                 Traceback (most recent call last)",
      "Cell \u001b[1;32mIn [183], line 1\u001b[0m\n\u001b[1;32m----> 1\u001b[0m m  \u001b[38;5;241m=\u001b[39m \u001b[38;5;28;43msum\u001b[39;49m\u001b[43m(\u001b[49m\u001b[43m[\u001b[49m\u001b[43m[\u001b[49m\u001b[38;5;241;43m1\u001b[39;49m\u001b[43m,\u001b[49m\u001b[43m \u001b[49m\u001b[38;5;241;43m2\u001b[39;49m\u001b[43m,\u001b[49m\u001b[43m \u001b[49m\u001b[38;5;241;43m3\u001b[39;49m\u001b[43m]\u001b[49m\u001b[43m,\u001b[49m\u001b[43m \u001b[49m\u001b[43m[\u001b[49m\u001b[38;5;241;43m4\u001b[39;49m\u001b[43m,\u001b[49m\u001b[43m \u001b[49m\u001b[38;5;241;43m5\u001b[39;49m\u001b[43m,\u001b[49m\u001b[43m \u001b[49m\u001b[38;5;241;43m6\u001b[39;49m\u001b[43m]\u001b[49m\u001b[43m,\u001b[49m\u001b[43m \u001b[49m\u001b[43m[\u001b[49m\u001b[38;5;241;43m7\u001b[39;49m\u001b[43m,\u001b[49m\u001b[43m \u001b[49m\u001b[38;5;241;43m8\u001b[39;49m\u001b[43m,\u001b[49m\u001b[43m \u001b[49m\u001b[38;5;241;43m9\u001b[39;49m\u001b[43m]\u001b[49m\u001b[43m]\u001b[49m\u001b[43m)\u001b[49m\n\u001b[0;32m      2\u001b[0m m\n",
      "\u001b[1;31mTypeError\u001b[0m: unsupported operand type(s) for +: 'int' and 'list'"
     ]
    }
   ],
   "source": [
    "m  = sum([[1, 2, 3], [4, 5, 6], [7, 8, 9]])\n",
    "m"
   ]
  },
  {
   "cell_type": "code",
   "execution_count": 186,
   "id": "0bca91fb",
   "metadata": {},
   "outputs": [
    {
     "data": {
      "text/plain": [
       "24"
      ]
     },
     "execution_count": 186,
     "metadata": {},
     "output_type": "execute_result"
    }
   ],
   "source": [
    "sum(m[2])"
   ]
  },
  {
   "cell_type": "code",
   "execution_count": 176,
   "id": "1bf4082b",
   "metadata": {},
   "outputs": [],
   "source": [
    "rows = 3\n",
    "cols = 3\n",
    "the_sum = 0"
   ]
  },
  {
   "cell_type": "code",
   "execution_count": 182,
   "id": "1223c2b6",
   "metadata": {},
   "outputs": [
    {
     "name": "stdout",
     "output_type": "stream",
     "text": [
      "i:0, j:0\n",
      "i:0, j:1\n",
      "i:0, j:2\n",
      "i:1, j:0\n",
      "i:1, j:1\n",
      "i:1, j:2\n",
      "i:2, j:0\n",
      "i:2, j:1\n",
      "i:2, j:2\n",
      "the sum is: 45\n"
     ]
    }
   ],
   "source": [
    "for i in range(rows):\n",
    "    for j in range(cols):\n",
    "        print(f\"i:{i}, j:{j}\")\n",
    "        the_sum = the_sum + m[i][j]\n",
    "        \n",
    "print(f\"the sum is: {the_sum}\")"
   ]
  },
  {
   "cell_type": "markdown",
   "id": "fcc661ed",
   "metadata": {},
   "source": [
    "#### Nested Iteration: within the over rows, we iterate over columns.\n",
    "    \n",
    "#### observer the use of +=, which  is expected as \"plus and becomes\""
   ]
  },
  {
   "cell_type": "code",
   "execution_count": null,
   "id": "6e388e5e",
   "metadata": {},
   "outputs": [],
   "source": []
  },
  {
   "cell_type": "markdown",
   "id": "b265c4fa",
   "metadata": {},
   "source": [
    "### Summary\n",
    "\n",
    "    • We use iterations for repetitive tasks\n",
    "    \n",
    "    • In Python, iterations are done with for and while loops\n",
    "    \n",
    "    • While loop is used typically when one cannot quite foresee when the process will end.\n",
    "    \n",
    "    • For loop is used typically when the number of steps is known upfront, for instance to access elements of a sequence\n",
    "    \n",
    "    • Nested loops are useful to iterate over N-dimensional data structures, for instance where lists are nested inside a list.\n",
    " "
   ]
  },
  {
   "cell_type": "code",
   "execution_count": null,
   "id": "84b60a05",
   "metadata": {},
   "outputs": [],
   "source": []
  }
 ],
 "metadata": {
  "kernelspec": {
   "display_name": "Python 3 (ipykernel)",
   "language": "python",
   "name": "python3"
  },
  "language_info": {
   "codemirror_mode": {
    "name": "ipython",
    "version": 3
   },
   "file_extension": ".py",
   "mimetype": "text/x-python",
   "name": "python",
   "nbconvert_exporter": "python",
   "pygments_lexer": "ipython3",
   "version": "3.10.5"
  }
 },
 "nbformat": 4,
 "nbformat_minor": 5
}
