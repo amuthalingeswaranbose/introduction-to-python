{
 "cells": [
  {
   "cell_type": "markdown",
   "id": "6bc0044e",
   "metadata": {},
   "source": [
    "## Objective of this course\n",
    "\n",
    "   * learn basic of python\n",
    "   \n",
    "\n",
    "## list of topics - session 02\n",
    "   \n",
    "       - 1. What is python?\n",
    "       - 2. Why Python?\n",
    "       - 3. Get started\n",
    "       - 4. Primitive datatypes\n",
    "       - 5. Data structures\n",
    "       - 6. Operators\n",
    "       - 7. Conditional Statement - if, elif and else\n",
    "       - 8. Iterations - while, for loop   "
   ]
  },
  {
   "cell_type": "code",
   "execution_count": null,
   "id": "0c404df1",
   "metadata": {},
   "outputs": [],
   "source": []
  },
  {
   "cell_type": "markdown",
   "id": "7da06e67",
   "metadata": {},
   "source": [
    "## 5.3 Dictionaries\n",
    "\n",
    "    * A dictionary is a mapping data structure\n",
    "    \n",
    "    * It establishes a relationship between a key and a value, and maps each key to some value\n",
    "    \n",
    "    * Map keys to values through index\n",
    "    \n",
    "    * Suitable for unstructured data\n",
    "    \n",
    "    * For instance, think about capitals as a dictionary, which uses a country name as key.  The capitals dictionary would map 'Belgium' to 'Brussels’ and ‘France’ to ‘Paris’.\n",
    "\n",
    "    * Handy to store data organized by name, rather than position:\n",
    "    * Concept index of a book on programming. (‘for loop’ on ‘pages 10-15’)\n",
    "    * Contacts in your phone (person to phone number)\n",
    "    * Temperature records for each city of a country (city name to temperature \n"
   ]
  },
  {
   "cell_type": "code",
   "execution_count": null,
   "id": "434f1702",
   "metadata": {},
   "outputs": [],
   "source": []
  },
  {
   "cell_type": "markdown",
   "id": "f4d62fdb",
   "metadata": {},
   "source": [
    "### 5.3.1 Basics: Creating a dictionary\n",
    "\n",
    "### Dictionaries can be defined in two ways:\n",
    "\n",
    "    * Notation that uses curly brackets: { and }\n",
    "    * Notation that uses the built-in function dict()\n",
    " "
   ]
  },
  {
   "cell_type": "code",
   "execution_count": 3,
   "id": "ca97086e",
   "metadata": {},
   "outputs": [],
   "source": [
    "landcover = {} # the empty dictionary"
   ]
  },
  {
   "cell_type": "code",
   "execution_count": 4,
   "id": "a4e873da",
   "metadata": {},
   "outputs": [],
   "source": [
    "landcover[\"Natural grasses\"] = 45\n",
    "landcover[\"Agricultural grasses\"] = 1 \n",
    "landcover[\"Deciduous\"] = 11 \n",
    "landcover[\"Coniferous\"] =12"
   ]
  },
  {
   "cell_type": "markdown",
   "id": "c0680ed2",
   "metadata": {},
   "source": [
    "#### Now, we can take a look at its structure by printing the whole dictionary"
   ]
  },
  {
   "cell_type": "code",
   "execution_count": 5,
   "id": "5c1b1de0",
   "metadata": {},
   "outputs": [
    {
     "name": "stdout",
     "output_type": "stream",
     "text": [
      "{'Natural grasses': 45, 'Agricultural grasses': 1, 'Deciduous': 11, 'Coniferous': 12}\n"
     ]
    }
   ],
   "source": [
    "print(landcover)"
   ]
  },
  {
   "cell_type": "code",
   "execution_count": 6,
   "id": "8f06e33c",
   "metadata": {},
   "outputs": [
    {
     "data": {
      "text/plain": [
       "dict"
      ]
     },
     "execution_count": 6,
     "metadata": {},
     "output_type": "execute_result"
    }
   ],
   "source": [
    "type(landcover)"
   ]
  },
  {
   "cell_type": "markdown",
   "id": "78530eb3",
   "metadata": {},
   "source": [
    "#### important,\n",
    "\n",
    "    * Dictionaries are ordered (python 3.7)\n",
    "    * Dictionaries are note sequence.\n"
   ]
  },
  {
   "cell_type": "code",
   "execution_count": null,
   "id": "9fb0a4e2",
   "metadata": {},
   "outputs": [],
   "source": []
  },
  {
   "cell_type": "markdown",
   "id": "afbe094b",
   "metadata": {},
   "source": [
    "### An element is accessed using its key:"
   ]
  },
  {
   "cell_type": "code",
   "execution_count": 7,
   "id": "c1fa977f",
   "metadata": {},
   "outputs": [
    {
     "data": {
      "text/plain": [
       "12"
      ]
     },
     "execution_count": 7,
     "metadata": {},
     "output_type": "execute_result"
    }
   ],
   "source": [
    "landcover[\"Coniferous\"]"
   ]
  },
  {
   "cell_type": "code",
   "execution_count": 8,
   "id": "dedcc713",
   "metadata": {},
   "outputs": [
    {
     "data": {
      "text/plain": [
       "45"
      ]
     },
     "execution_count": 8,
     "metadata": {},
     "output_type": "execute_result"
    }
   ],
   "source": [
    "landcover[\"Natural grasses\"]"
   ]
  },
  {
   "cell_type": "code",
   "execution_count": null,
   "id": "21c74189",
   "metadata": {},
   "outputs": [],
   "source": []
  },
  {
   "cell_type": "markdown",
   "id": "b6790a76",
   "metadata": {},
   "source": [
    "### 5.3.2 Keys \n",
    "\n",
    "    * Dictionaries store key:value pairs\n",
    "    * Keys must be immutable\n",
    "    \n",
    "#### Types of key:\n",
    "\n",
    "    * Number.\n",
    "    * String.\n",
    "    * Tuple.\n"
   ]
  },
  {
   "cell_type": "code",
   "execution_count": null,
   "id": "69bfc46b",
   "metadata": {},
   "outputs": [],
   "source": []
  },
  {
   "cell_type": "markdown",
   "id": "bfcf8fd3",
   "metadata": {},
   "source": [
    "#### * Number : "
   ]
  },
  {
   "cell_type": "code",
   "execution_count": 134,
   "id": "97a750c5",
   "metadata": {},
   "outputs": [
    {
     "name": "stdout",
     "output_type": "stream",
     "text": [
      "{'Agriculture': 1, 'Coniferous': 12, 'Deciduous': 11, 'Grasses': 45, 45: 'Natural grasses'}\n"
     ]
    }
   ],
   "source": [
    "landcover[45] = \"Natural grasses\"\n",
    "print(landcover)"
   ]
  },
  {
   "cell_type": "markdown",
   "id": "01ce9eb5",
   "metadata": {},
   "source": [
    "###### * String: "
   ]
  },
  {
   "cell_type": "code",
   "execution_count": 135,
   "id": "03f35132",
   "metadata": {},
   "outputs": [
    {
     "name": "stdout",
     "output_type": "stream",
     "text": [
      "{'Agriculture': 1, 'Coniferous': 12, 'Deciduous': 11, 'Grasses': 45, 45: 'Natural grasses', 'Natural grasses': 45}\n"
     ]
    }
   ],
   "source": [
    "landcover[\"Natural grasses\"] = 45\n",
    "print(landcover)"
   ]
  },
  {
   "cell_type": "markdown",
   "id": "733381f2",
   "metadata": {},
   "source": [
    "###### * Tuple : "
   ]
  },
  {
   "cell_type": "code",
   "execution_count": 136,
   "id": "fd2a8b31",
   "metadata": {},
   "outputs": [
    {
     "name": "stdout",
     "output_type": "stream",
     "text": [
      "{'Agriculture': 1, 'Coniferous': 12, 'Deciduous': 11, 'Grasses': 45, 45: 'Natural grasses', 'Natural grasses': 45, ('Enschede', '52N', '3E'): 45}\n"
     ]
    }
   ],
   "source": [
    "landcover[(\"Enschede\", \"52N\",\"3E\")] = 45\n",
    "print(landcover)"
   ]
  },
  {
   "cell_type": "markdown",
   "id": "cc0093f0",
   "metadata": {},
   "source": [
    "#### But a key cannot be a list:"
   ]
  },
  {
   "cell_type": "code",
   "execution_count": 138,
   "id": "a0e99755",
   "metadata": {},
   "outputs": [
    {
     "ename": "TypeError",
     "evalue": "unhashable type: 'list'",
     "output_type": "error",
     "traceback": [
      "\u001b[1;31m---------------------------------------------------------------------------\u001b[0m",
      "\u001b[1;31mTypeError\u001b[0m                                 Traceback (most recent call last)",
      "Cell \u001b[1;32mIn [138], line 1\u001b[0m\n\u001b[1;32m----> 1\u001b[0m \u001b[43mlandcover\u001b[49m\u001b[43m[\u001b[49m\u001b[43m[\u001b[49m\u001b[38;5;124;43m\"\u001b[39;49m\u001b[38;5;124;43mEnschede\u001b[39;49m\u001b[38;5;124;43m\"\u001b[39;49m\u001b[43m,\u001b[49m\u001b[43m \u001b[49m\u001b[38;5;124;43m\"\u001b[39;49m\u001b[38;5;124;43mlatitude\u001b[39;49m\u001b[38;5;124;43m\"\u001b[39;49m\u001b[43m,\u001b[49m\u001b[43m \u001b[49m\u001b[38;5;124;43m\"\u001b[39;49m\u001b[38;5;124;43mlongitude\u001b[39;49m\u001b[38;5;124;43m\"\u001b[39;49m\u001b[43m]\u001b[49m\u001b[43m]\u001b[49m \u001b[38;5;241m=\u001b[39m \u001b[38;5;241m45\u001b[39m\n\u001b[0;32m      2\u001b[0m \u001b[38;5;28mprint\u001b[39m(landcover)\n",
      "\u001b[1;31mTypeError\u001b[0m: unhashable type: 'list'"
     ]
    }
   ],
   "source": [
    "landcover[[\"Enschede\", \"latitude\", \"longitude\"]] = 45\n",
    "print(landcover) # TypeError: unhashable type: ‘list’"
   ]
  },
  {
   "cell_type": "markdown",
   "id": "f99c4f9c",
   "metadata": {},
   "source": [
    "### 5.3.3 Values\n",
    "\n",
    "    * Values can be anything!\n",
    "    * If Enschede municipality has multiple land covers, we can store them all:"
   ]
  },
  {
   "cell_type": "code",
   "execution_count": 14,
   "id": "347e3564",
   "metadata": {},
   "outputs": [
    {
     "name": "stdout",
     "output_type": "stream",
     "text": [
      "{'Natural grasses': 45, 'Agricultural grasses': 1, 'Deciduous': 11, 'Coniferous': 12, 45: 'Natural grasses', ('Enschede', '52N', '3E'): 45, 'Enschede': ('Coniferous', 'Built-up', 'Agricultural grasses', 'Orchard', 'Reed')}\n"
     ]
    }
   ],
   "source": [
    "landcover[\"Enschede\"] = (\"Coniferous\", \"Built-up\", \"Agricultural grasses\", \"Orchard\", \"Reed\")\n",
    "print(landcover)"
   ]
  },
  {
   "cell_type": "markdown",
   "id": "7188f1a5",
   "metadata": {},
   "source": [
    "#### Here as a tuple; could also have been a list"
   ]
  },
  {
   "cell_type": "code",
   "execution_count": null,
   "id": "82f308a4",
   "metadata": {},
   "outputs": [],
   "source": []
  },
  {
   "cell_type": "markdown",
   "id": "93325aca",
   "metadata": {},
   "source": [
    "### We can build our dictionary using the built-in dict() function:"
   ]
  },
  {
   "cell_type": "code",
   "execution_count": 16,
   "id": "d5268b86",
   "metadata": {},
   "outputs": [
    {
     "name": "stdout",
     "output_type": "stream",
     "text": [
      "{}\n"
     ]
    }
   ],
   "source": [
    "landcover = dict()\n",
    "print(landcover)"
   ]
  },
  {
   "cell_type": "code",
   "execution_count": 17,
   "id": "448bca96",
   "metadata": {},
   "outputs": [],
   "source": [
    "mixed_forest = (\"Coniferous\", \"Deciduous\")\n",
    "landcover[\"Hengelo\"] = mixed_forest\n",
    "landcover[\"Amsterdam\"] = (\"Build-up\", \"Greenhouse \")"
   ]
  },
  {
   "cell_type": "code",
   "execution_count": 18,
   "id": "a1881210",
   "metadata": {},
   "outputs": [
    {
     "name": "stdout",
     "output_type": "stream",
     "text": [
      "{'Hengelo': ('Coniferous', 'Deciduous'), 'Amsterdam': ('Build-up', 'Greenhouse ')}\n"
     ]
    }
   ],
   "source": [
    "print(landcover)"
   ]
  },
  {
   "cell_type": "code",
   "execution_count": 19,
   "id": "1aebc34e",
   "metadata": {},
   "outputs": [],
   "source": [
    "mixed_forest = (\"Coniferous\", \"Deciduous\") \n",
    "urban_area = (\"Built-up\", \"Greenhouses\")\n",
    "landcover = dict(Veluwe = mixed_forest, Amsterdam = urban_area)"
   ]
  },
  {
   "cell_type": "code",
   "execution_count": 20,
   "id": "903d351c",
   "metadata": {},
   "outputs": [
    {
     "name": "stdout",
     "output_type": "stream",
     "text": [
      "{'Veluwe': ('Coniferous', 'Deciduous'), 'Amsterdam': ('Built-up', 'Greenhouses')}\n"
     ]
    }
   ],
   "source": [
    "print(landcover)"
   ]
  },
  {
   "cell_type": "code",
   "execution_count": null,
   "id": "78f4b50e",
   "metadata": {},
   "outputs": [],
   "source": []
  },
  {
   "cell_type": "markdown",
   "id": "1cbec9be",
   "metadata": {},
   "source": [
    "### 5.3.4 Dictionary methods\n",
    "\n",
    "##### Similar to lists and strings, dictionary methods are called like:\n",
    "##### object.method()"
   ]
  },
  {
   "cell_type": "code",
   "execution_count": null,
   "id": "3ad98f54",
   "metadata": {},
   "outputs": [],
   "source": []
  },
  {
   "cell_type": "markdown",
   "id": "356999ce",
   "metadata": {},
   "source": [
    "### Important methods:\n",
    "    \n",
    "    * .keys(): returns the list of all keys\n",
    "    * .values(): returns the list of all values\n",
    "    * .items(): returns the (key,value) pairs as a list"
   ]
  },
  {
   "cell_type": "code",
   "execution_count": 35,
   "id": "6a31834d",
   "metadata": {},
   "outputs": [
    {
     "name": "stdout",
     "output_type": "stream",
     "text": [
      "dict_keys(['Agriculture', 'Coniferous', 'Deciduous', 'Grasses'])\n"
     ]
    }
   ],
   "source": [
    "landcover = {\"Agriculture\": 1, \"Coniferous\": 12, \"Deciduous\": 11, \"Grasses\": 45}\n",
    "print(landcover.keys())"
   ]
  },
  {
   "cell_type": "code",
   "execution_count": 23,
   "id": "a00ba743",
   "metadata": {},
   "outputs": [
    {
     "name": "stdout",
     "output_type": "stream",
     "text": [
      "dict_values([1, 12, 11, 45])\n"
     ]
    }
   ],
   "source": [
    "print(landcover.values())"
   ]
  },
  {
   "cell_type": "code",
   "execution_count": 24,
   "id": "4103ea27",
   "metadata": {},
   "outputs": [
    {
     "name": "stdout",
     "output_type": "stream",
     "text": [
      "dict_items([('Agriculture', 1), ('Coniferous', 12), ('Deciduous', 11), ('Grasses', 45)])\n"
     ]
    }
   ],
   "source": [
    "print(landcover.items())"
   ]
  },
  {
   "cell_type": "code",
   "execution_count": null,
   "id": "469b518d",
   "metadata": {},
   "outputs": [],
   "source": []
  },
  {
   "cell_type": "markdown",
   "id": "d1a5889c",
   "metadata": {},
   "source": [
    "## Updating a dictionary\n",
    "\n",
    "##### Changing values:"
   ]
  },
  {
   "cell_type": "code",
   "execution_count": 25,
   "id": "6f037c7e",
   "metadata": {},
   "outputs": [],
   "source": [
    "landcover[\"Agriculture\"] = 999"
   ]
  },
  {
   "cell_type": "code",
   "execution_count": 27,
   "id": "6b922432",
   "metadata": {},
   "outputs": [],
   "source": [
    "landcover[\"Grasses\"] = 13"
   ]
  },
  {
   "cell_type": "code",
   "execution_count": 28,
   "id": "a1eb4ff2",
   "metadata": {},
   "outputs": [
    {
     "name": "stdout",
     "output_type": "stream",
     "text": [
      "{'Agriculture': 999, 'Coniferous': 12, 'Deciduous': 11, 'Grasses': 13}\n"
     ]
    }
   ],
   "source": [
    "print(landcover)"
   ]
  },
  {
   "cell_type": "code",
   "execution_count": null,
   "id": "4f9d96b1",
   "metadata": {},
   "outputs": [],
   "source": []
  },
  {
   "cell_type": "markdown",
   "id": "55de22e6",
   "metadata": {},
   "source": [
    "## Populating a dictionary with the items of another dictionary:"
   ]
  },
  {
   "cell_type": "code",
   "execution_count": 30,
   "id": "be11c8e0",
   "metadata": {},
   "outputs": [
    {
     "name": "stdout",
     "output_type": "stream",
     "text": [
      "{'Agriculture': 999, 'Coniferous': 12, 'Deciduous': 11, 'Reed': 36, 'Greenhouse': 20}\n"
     ]
    }
   ],
   "source": [
    "new_landcovers = {\"Reed\": 36, \"Greenhouse\": 20} \n",
    "landcover.update(new_landcovers) \n",
    "print(landcover)"
   ]
  },
  {
   "cell_type": "code",
   "execution_count": null,
   "id": "1757f9f9",
   "metadata": {},
   "outputs": [],
   "source": []
  },
  {
   "cell_type": "markdown",
   "id": "f548ec96",
   "metadata": {},
   "source": [
    "## Removing a item in dictionary\n",
    "\n",
    "###### * Removal of an item with a given key is called “popping the item.”"
   ]
  },
  {
   "cell_type": "code",
   "execution_count": 29,
   "id": "b94c9596",
   "metadata": {},
   "outputs": [
    {
     "name": "stdout",
     "output_type": "stream",
     "text": [
      "{'Agriculture': 999, 'Coniferous': 12, 'Deciduous': 11}\n"
     ]
    }
   ],
   "source": [
    "landcover.pop(\"Grasses\")\n",
    "print(landcover)"
   ]
  },
  {
   "cell_type": "code",
   "execution_count": null,
   "id": "ff6ce858",
   "metadata": {},
   "outputs": [],
   "source": []
  },
  {
   "cell_type": "markdown",
   "id": "5abb1172",
   "metadata": {},
   "source": [
    "## Deletion of single item:"
   ]
  },
  {
   "cell_type": "code",
   "execution_count": 31,
   "id": "886b416e",
   "metadata": {},
   "outputs": [
    {
     "name": "stdout",
     "output_type": "stream",
     "text": [
      "{'Agriculture': 999, 'Coniferous': 12, 'Reed': 36, 'Greenhouse': 20}\n"
     ]
    }
   ],
   "source": [
    "del landcover[\"Deciduous\"]\n",
    "print(landcover)"
   ]
  },
  {
   "cell_type": "code",
   "execution_count": null,
   "id": "796001d8",
   "metadata": {},
   "outputs": [],
   "source": []
  },
  {
   "cell_type": "markdown",
   "id": "680740c2",
   "metadata": {},
   "source": [
    "## Removal of all items:"
   ]
  },
  {
   "cell_type": "code",
   "execution_count": 32,
   "id": "4f098802",
   "metadata": {},
   "outputs": [
    {
     "name": "stdout",
     "output_type": "stream",
     "text": [
      "{}\n"
     ]
    }
   ],
   "source": [
    "landcover.clear()\n",
    "print(landcover)"
   ]
  },
  {
   "cell_type": "code",
   "execution_count": null,
   "id": "a5d2cbfa",
   "metadata": {},
   "outputs": [],
   "source": []
  },
  {
   "cell_type": "markdown",
   "id": "13c66448",
   "metadata": {},
   "source": [
    "## Vectors or rasters as dictionaries\n",
    "\n",
    "    - Vector or raster files can be seen as dense matrices or as dictionaries.\n",
    "    \n",
    "    - Storage of all values in memory may consume substantial resources, \n",
    "    \n",
    "    - Not a wise choice when a significant percentage of the data is not needed Solution:\n",
    "    \n",
    "        * Store only the useful values\n",
    "\n",
    "        * Make use of a sparse matrix\n"
   ]
  },
  {
   "cell_type": "markdown",
   "id": "a80e583c",
   "metadata": {},
   "source": [
    "## Rasters or Matrices as dictionaries\n",
    "\n",
    "##### We only need to keep the positions of the non-zero values and write them down\n",
    "\n",
    "### That is:\n",
    "    * Row 0, Col 3, Value 1\n",
    "    * Row 2, Col 1, Value 2\n",
    "    * Row 4, Col 3, Value 3\n",
    "    \n",
    "Which gives:\n",
    "\n",
    "matrix = {(0, 3):1, (2, 1): 2, (4, 3): 3}\n"
   ]
  },
  {
   "cell_type": "code",
   "execution_count": null,
   "id": "3f32192c",
   "metadata": {},
   "outputs": [],
   "source": []
  },
  {
   "cell_type": "markdown",
   "id": "05f1c91e",
   "metadata": {},
   "source": [
    "### Creation of a sparse matrix from a dense matrix:"
   ]
  },
  {
   "cell_type": "code",
   "execution_count": 48,
   "id": "eac461d4",
   "metadata": {},
   "outputs": [],
   "source": [
    "dense_matrix=[[0,0,0,1,0],[0,0,0,0,0],[0,2,0,0,0],[0,0,0,0,0],[0,0,0,3,0]]"
   ]
  },
  {
   "cell_type": "code",
   "execution_count": 49,
   "id": "5d36bf05",
   "metadata": {},
   "outputs": [],
   "source": [
    "sparse_matrix = {}\n",
    "\n",
    "for i in range(5):\n",
    "    for j in range(5):\n",
    "        if dense_matrix[i][j] != 0:\n",
    "            key = (i,j)\n",
    "            value = dense_matrix[i][j]\n",
    "            sparse_matrix[key]= value\n",
    "            \n",
    "            "
   ]
  },
  {
   "cell_type": "code",
   "execution_count": 50,
   "id": "08198f82",
   "metadata": {},
   "outputs": [
    {
     "name": "stdout",
     "output_type": "stream",
     "text": [
      "{(0, 3): 1, (2, 1): 2, (4, 3): 3}\n"
     ]
    }
   ],
   "source": [
    "print(sparse_matrix)"
   ]
  },
  {
   "cell_type": "code",
   "execution_count": null,
   "id": "0e132cf4",
   "metadata": {},
   "outputs": [],
   "source": []
  },
  {
   "cell_type": "markdown",
   "id": "d4d235c5",
   "metadata": {},
   "source": [
    "# Summary:\n",
    "    * A dictionary is a data structure that stores key:value pairs, thus, it maps keys to values\n",
    "    * These pairs are ordered (python 3.7)\n",
    "    * The keys held in a dictionary are immutable, but their associated values are modifiable\n",
    "    * The methods keys(), values() and items() allow the iteration over and viewing of the dictionary content"
   ]
  },
  {
   "cell_type": "code",
   "execution_count": null,
   "id": "288d3dce",
   "metadata": {},
   "outputs": [],
   "source": []
  },
  {
   "cell_type": "code",
   "execution_count": null,
   "id": "64c18e1c",
   "metadata": {},
   "outputs": [],
   "source": []
  },
  {
   "cell_type": "markdown",
   "id": "fa5d644c",
   "metadata": {},
   "source": [
    "# 6 & 7. Operators and Conditonals"
   ]
  },
  {
   "cell_type": "markdown",
   "id": "22cf6674",
   "metadata": {},
   "source": [
    "### Contents\n",
    "    1. Logical operators, and comparison operators\n",
    "    2. Numeric Operator (Add, Subtract, Multiplication, Division, Modulo, Floor Division, Exponentiation)\n",
    "    3. Conditional execution (if, elif, else)\n"
   ]
  },
  {
   "cell_type": "markdown",
   "id": "56273782",
   "metadata": {},
   "source": [
    "### 6.1 Equality, inequality\n",
    "\n",
    "    * Equality operator == \n",
    "    * Inequality operator !=\n",
    "    * Domains: just about anything! Range:\tBoolean\n"
   ]
  },
  {
   "cell_type": "code",
   "execution_count": 65,
   "id": "b4cda950",
   "metadata": {},
   "outputs": [
    {
     "name": "stdout",
     "output_type": "stream",
     "text": [
      "True\n"
     ]
    }
   ],
   "source": [
    "print(1 == 1) # equal"
   ]
  },
  {
   "cell_type": "code",
   "execution_count": 66,
   "id": "6ec7f4cb",
   "metadata": {},
   "outputs": [
    {
     "name": "stdout",
     "output_type": "stream",
     "text": [
      "False\n"
     ]
    }
   ],
   "source": [
    "print('hello' == 'world')"
   ]
  },
  {
   "cell_type": "code",
   "execution_count": null,
   "id": "f31463d5",
   "metadata": {},
   "outputs": [],
   "source": []
  },
  {
   "cell_type": "markdown",
   "id": "7eaf366b",
   "metadata": {},
   "source": [
    "### 6.2 Modulo: numeric operator\n",
    "    * Floor division //\n",
    "    * Remainder or modulo %\n"
   ]
  },
  {
   "cell_type": "code",
   "execution_count": 67,
   "id": "babcf90b",
   "metadata": {},
   "outputs": [
    {
     "name": "stdout",
     "output_type": "stream",
     "text": [
      "3\n"
     ]
    }
   ],
   "source": [
    "print(7//2)"
   ]
  },
  {
   "cell_type": "code",
   "execution_count": 68,
   "id": "3ee80d37",
   "metadata": {},
   "outputs": [
    {
     "name": "stdout",
     "output_type": "stream",
     "text": [
      "1\n"
     ]
    }
   ],
   "source": [
    "print(7%2)"
   ]
  },
  {
   "cell_type": "code",
   "execution_count": null,
   "id": "d8addfed",
   "metadata": {},
   "outputs": [],
   "source": [
    "# Is x even?"
   ]
  },
  {
   "cell_type": "code",
   "execution_count": 70,
   "id": "c0399d16",
   "metadata": {},
   "outputs": [
    {
     "name": "stdout",
     "output_type": "stream",
     "text": [
      "True\n"
     ]
    }
   ],
   "source": [
    "# find even number \n",
    "x = 4\n",
    "print(x % 2 == 0)"
   ]
  },
  {
   "cell_type": "markdown",
   "id": "6e143b33",
   "metadata": {},
   "source": [
    "### the even test"
   ]
  },
  {
   "cell_type": "code",
   "execution_count": 71,
   "id": "f98b9b41",
   "metadata": {},
   "outputs": [
    {
     "name": "stdout",
     "output_type": "stream",
     "text": [
      "0\n"
     ]
    }
   ],
   "source": [
    "print(0%2)"
   ]
  },
  {
   "cell_type": "code",
   "execution_count": 72,
   "id": "7a0255fe",
   "metadata": {},
   "outputs": [
    {
     "name": "stdout",
     "output_type": "stream",
     "text": [
      "1\n"
     ]
    }
   ],
   "source": [
    "print(1%2)"
   ]
  },
  {
   "cell_type": "code",
   "execution_count": 73,
   "id": "3c6fa5be",
   "metadata": {},
   "outputs": [
    {
     "name": "stdout",
     "output_type": "stream",
     "text": [
      "0\n"
     ]
    }
   ],
   "source": [
    "print(2%2)"
   ]
  },
  {
   "cell_type": "code",
   "execution_count": 74,
   "id": "0a4f2f2a",
   "metadata": {},
   "outputs": [
    {
     "name": "stdout",
     "output_type": "stream",
     "text": [
      "1\n"
     ]
    }
   ],
   "source": [
    "print(3%2)"
   ]
  },
  {
   "cell_type": "code",
   "execution_count": 75,
   "id": "542f3fa3",
   "metadata": {},
   "outputs": [
    {
     "name": "stdout",
     "output_type": "stream",
     "text": [
      "0\n"
     ]
    }
   ],
   "source": [
    "print(4%2)"
   ]
  },
  {
   "cell_type": "code",
   "execution_count": null,
   "id": "fc1103ef",
   "metadata": {},
   "outputs": [],
   "source": []
  },
  {
   "cell_type": "markdown",
   "id": "5204adc5",
   "metadata": {},
   "source": [
    "## Comparisons\n",
    "\n",
    "    The operators <, <=, >=, and > only work if the input domains are ordered!"
   ]
  },
  {
   "cell_type": "code",
   "execution_count": 76,
   "id": "76b7f44a",
   "metadata": {},
   "outputs": [
    {
     "name": "stdout",
     "output_type": "stream",
     "text": [
      "True\n"
     ]
    }
   ],
   "source": [
    "print ( 2 < 5 ) "
   ]
  },
  {
   "cell_type": "code",
   "execution_count": 77,
   "id": "7e22fd39",
   "metadata": {},
   "outputs": [
    {
     "name": "stdout",
     "output_type": "stream",
     "text": [
      "False\n"
     ]
    }
   ],
   "source": [
    "print('hello' > 'world')"
   ]
  },
  {
   "cell_type": "code",
   "execution_count": null,
   "id": "51601e5e",
   "metadata": {},
   "outputs": [],
   "source": []
  },
  {
   "cell_type": "markdown",
   "id": "232f58be",
   "metadata": {},
   "source": [
    "## 7. Conditional Statement"
   ]
  },
  {
   "cell_type": "markdown",
   "id": "fbe6f9e7",
   "metadata": {},
   "source": [
    "### 7.1 Conditional execution\n",
    "\n",
    "    - Suppose we want to print some text in case x is greater than zero.\n",
    "    - Python has a special statement for cases like these. It is called the if statement\n"
   ]
  },
  {
   "cell_type": "code",
   "execution_count": 78,
   "id": "0b1898ce",
   "metadata": {},
   "outputs": [
    {
     "name": "stdout",
     "output_type": "stream",
     "text": [
      "x is possitive\n"
     ]
    }
   ],
   "source": [
    "x = 23\n",
    "\n",
    "if x > 0:\n",
    "    print(\"x is possitive\")"
   ]
  },
  {
   "cell_type": "code",
   "execution_count": null,
   "id": "d5632381",
   "metadata": {},
   "outputs": [],
   "source": []
  },
  {
   "cell_type": "markdown",
   "id": "39710ee0",
   "metadata": {},
   "source": [
    "## syntax\n",
    "\n",
    "    if boolean_expression: \n",
    "        statements 1\n",
    "    else: \n",
    "        statements 2\n",
    "        \n",
    "    • If the expression is True, then the first body of statements is executed\n",
    "    • If the expression is False, then the second body of statements is executed\n",
    "    • Normal processing proceeds afterwards\n"
   ]
  },
  {
   "cell_type": "code",
   "execution_count": null,
   "id": "8b8e2c97",
   "metadata": {},
   "outputs": [],
   "source": []
  },
  {
   "cell_type": "markdown",
   "id": "042a381c",
   "metadata": {},
   "source": [
    "## 7.2 Nested if statements\n",
    "\n",
    "    \n",
    "### syntax\n",
    "\n",
    "    if boolean_expression: \n",
    "        statements 1\n",
    "    else: \n",
    "        if boolean_expression: \n",
    "            statements 2\n",
    "        else: \n",
    "            statements 3\n",
    "            \n",
    "\n",
    "    Yes, but what if x is zero?"
   ]
  },
  {
   "cell_type": "code",
   "execution_count": 80,
   "id": "461dc893",
   "metadata": {},
   "outputs": [
    {
     "name": "stdout",
     "output_type": "stream",
     "text": [
      "x is positive\n"
     ]
    }
   ],
   "source": [
    "x = 23\n",
    "\n",
    "if x > 0:\n",
    "    print( 'x is positive')\n",
    "else: \n",
    "    if x < 0:\n",
    "        print( 'x is negative' )\n",
    "    else:\n",
    "        print( 'x is zero' )\n"
   ]
  },
  {
   "cell_type": "code",
   "execution_count": null,
   "id": "f9a6f07b",
   "metadata": {},
   "outputs": [],
   "source": []
  },
  {
   "cell_type": "markdown",
   "id": "5002c8d7",
   "metadata": {},
   "source": [
    "## 7.3 Chained conditionals\n",
    "\n",
    "    Suppose we have numbered the days of the week and we want to map the number to a string:\n",
    "    •\t0 → 'Monday'\n",
    "    •\t1 → 'Tuesday'\n",
    "    •\t2 → 'Wednesday'\n",
    "    •\tand so on ...\n"
   ]
  },
  {
   "cell_type": "markdown",
   "id": "e95b2308",
   "metadata": {},
   "source": [
    "### lets try with nested conditionals"
   ]
  },
  {
   "cell_type": "code",
   "execution_count": 84,
   "id": "6b3cc2b7",
   "metadata": {},
   "outputs": [
    {
     "name": "stdout",
     "output_type": "stream",
     "text": [
      "Error!\n"
     ]
    }
   ],
   "source": [
    "n = 10\n",
    "\n",
    "if n == 0:\n",
    "    print(\"Monday\")\n",
    "\n",
    "else:\n",
    "    if n == 1:\n",
    "        print(\"Tuesday\")\n",
    "    else:\n",
    "        if n== 2:\n",
    "            print(\"Wednesday\")\n",
    "        else:\n",
    "            if n == 3:\n",
    "                print(\"Thursday\")\n",
    "            else:\n",
    "                if n == 4:\n",
    "                    print(\"Friday\")\n",
    "                else:\n",
    "                    if n == 5:\n",
    "                        print(\"Saturday\")\n",
    "                    else: \n",
    "                        if n == 6:\n",
    "                            print(\"Sunday\")\n",
    "                        else:\n",
    "                            print(\"Error!\")"
   ]
  },
  {
   "cell_type": "code",
   "execution_count": null,
   "id": "5ec9a84c",
   "metadata": {},
   "outputs": [],
   "source": []
  },
  {
   "cell_type": "markdown",
   "id": "6ecc4fb3",
   "metadata": {},
   "source": [
    "# Chained conditionals\n",
    "\n",
    "    Chained conditionals syntax,\n",
    "    \n",
    "        - if boolean expression1 : \n",
    "            statements1\n",
    "        - elif boolean expresion2 :\n",
    "            statements2\n",
    "        - else: \n",
    "            statementsN\n",
    "\n",
    "    •\tThe IF statement body of the first expressionthat evaluates to True is executed\n",
    "    •\tOtherwise, the statements of the else clause at end.\n"
   ]
  },
  {
   "cell_type": "code",
   "execution_count": 85,
   "id": "c183a033",
   "metadata": {},
   "outputs": [
    {
     "name": "stdout",
     "output_type": "stream",
     "text": [
      "Tuesday\n"
     ]
    }
   ],
   "source": [
    "n = 1\n",
    "\n",
    "if n == 0:\n",
    "    print(\"Monday\")\n",
    "elif n == 1:\n",
    "    print(\"Tuesday\")\n",
    "elif n == 2:\n",
    "    print(\"Wednesday\")\n",
    "elif n == 3:\n",
    "    print(\"Thursday\")\n",
    "elif n == 4:\n",
    "    print(\"Friday\")\n",
    "elif n == 5:\n",
    "    print(\"Saturday\")\n",
    "elif n == 6:\n",
    "    print(\"Sunday\")\n",
    "else:\n",
    "    print(\"Error!\")"
   ]
  },
  {
   "cell_type": "code",
   "execution_count": null,
   "id": "f9d1b399",
   "metadata": {},
   "outputs": [],
   "source": []
  },
  {
   "cell_type": "markdown",
   "id": "3a443dc8",
   "metadata": {},
   "source": [
    "## Summary\n",
    "\n",
    "    • Modulo\n",
    "    • Boolean expressions\n",
    "    • Conditional execution if/elif/else\n"
   ]
  },
  {
   "cell_type": "code",
   "execution_count": null,
   "id": "995bad9d",
   "metadata": {},
   "outputs": [],
   "source": []
  },
  {
   "cell_type": "markdown",
   "id": "4e3ee6df",
   "metadata": {},
   "source": [
    "# 8. Iterations\n",
    "    - So far, we have implicitly assumed that a task is done just once …\n",
    "    - In real life, repeated tasks are everywhere.\n",
    "\n",
    "\n",
    "For instance:\n",
    "\n",
    "    • Reading all lines of a CSV file and operating on them\n",
    "    • Intersecting a collection of polygons\n",
    "    • Calculating the buffer area around a set of points\n",
    "    • Determining a regression line using the least squares method\n",
    "    • Connecting to a database to retrieve data records from a table\n",
    "    • Checking whether polygons in a shapefile are geometrically valid \n",
    "    • Retrieving data from a citizen science portal\n",
    "    • Operating on a raster data set with a 3x3 kernel window\n"
   ]
  },
  {
   "cell_type": "markdown",
   "id": "1408bf40",
   "metadata": {},
   "source": [
    "## Iterations\n",
    "\n",
    "    - The repetition of a task over multiple elements is called iteration\n",
    "    - Iteration is performed in a statements that we call a loop\n",
    "\n",
    "In Python, you can use two types of loops:\n",
    "    \n",
    "    •The for loop\n",
    "    •The while loop\n",
    "    \n",
    "    Normally, the task at hand will determine which of the two is the more appropriate.\n"
   ]
  },
  {
   "cell_type": "code",
   "execution_count": null,
   "id": "95ecfc82",
   "metadata": {},
   "outputs": [],
   "source": []
  },
  {
   "cell_type": "markdown",
   "id": "c49dec6a",
   "metadata": {},
   "source": [
    "## 8.1 The while loop\n",
    "\n",
    "    * A while loop uses the following syntax:\n",
    "        - while condition : body_of_statements\n",
    "\n",
    "    * The body of statements (indented, obviously) will be repeated as long as the condition continues to evaluate to true. These statements code for the “taskper-element.”\n",
    "\n",
    "    * While loops are used for cases when one cannot predict how often the taskper-element will need to be executed.\n",
    "\n",
    "    * Good code ensures that eventually the condition becomes false, when there is nothing to be done anymore, for instance because there are no more elements to be handled.\n",
    "    \n",
    " \n",
    "#### The skeleton of a while is:\n",
    "\n",
    "    while boolean_expression == True:\n",
    "    statement #1 statement #2\n",
    "    ...\n",
    "    statement #N\n",
    "\n"
   ]
  },
  {
   "cell_type": "code",
   "execution_count": 86,
   "id": "d78f0f99",
   "metadata": {},
   "outputs": [
    {
     "name": "stdout",
     "output_type": "stream",
     "text": [
      "0\n",
      "1\n",
      "2\n",
      "3\n",
      "4\n",
      "5\n",
      "6\n",
      "7\n",
      "8\n",
      "9\n"
     ]
    }
   ],
   "source": [
    "#The simplest while loop is:\n",
    "count = 0 \n",
    "while count < 10: \n",
    "    print(count) \n",
    "    count += 1\n"
   ]
  },
  {
   "cell_type": "markdown",
   "id": "6a5c94ca",
   "metadata": {},
   "source": [
    "### The while loop\n",
    "    A simple while loop that prints the numbers starting at 1, until we find a nonprime number."
   ]
  },
  {
   "cell_type": "code",
   "execution_count": null,
   "id": "f2069755",
   "metadata": {},
   "outputs": [],
   "source": []
  },
  {
   "cell_type": "markdown",
   "id": "d9c9a7cf",
   "metadata": {},
   "source": [
    "#### Its structure is typical of while loops:\n",
    "\n",
    "    i = 0 # initialization\n",
    "    while i < 100 : # (non-)termination condition\n",
    "        if is_prime(i) is False: # statements (ie, task for the \n",
    "            i = i + 1 # element)\n",
    "        else: \n",
    "            print(i)\n",
    "            i = i + 1 # progress step\n",
    "\n",
    "###### Variable i controls the progress through the loop, it is called the loop variable\n"
   ]
  },
  {
   "cell_type": "code",
   "execution_count": null,
   "id": "8a9cccd0",
   "metadata": {},
   "outputs": [],
   "source": []
  },
  {
   "cell_type": "markdown",
   "id": "da353a14",
   "metadata": {},
   "source": [
    "### While loop order of progress\n",
    "    One obviously can also count down:\n"
   ]
  },
  {
   "cell_type": "code",
   "execution_count": 89,
   "id": "46bc643d",
   "metadata": {},
   "outputs": [
    {
     "name": "stdout",
     "output_type": "stream",
     "text": [
      "10\n",
      "9\n",
      "8\n",
      "7\n",
      "6\n",
      "5\n",
      "4\n",
      "3\n",
      "2\n",
      "1\n"
     ]
    }
   ],
   "source": [
    "i = 10 \n",
    "while i > 0: \n",
    "    print(i) \n",
    "    i = i - 1\n",
    "\n",
    "#We can wrap this in a function\n",
    "   "
   ]
  },
  {
   "cell_type": "code",
   "execution_count": 92,
   "id": "d88efe05",
   "metadata": {},
   "outputs": [
    {
     "name": "stdout",
     "output_type": "stream",
     "text": [
      "10\n",
      "9\n",
      "8\n",
      "7\n",
      "6\n",
      "5\n",
      "4\n",
      "3\n",
      "2\n",
      "1\n",
      "Boom!\n"
     ]
    }
   ],
   "source": [
    "def cound_down(n):\n",
    "    i = 10\n",
    "    while i > 0:\n",
    "        print(i)\n",
    "        i = i-1\n",
    "        \n",
    "    print(\"Boom!\")\n",
    "    \n",
    "cound_down(10)"
   ]
  },
  {
   "cell_type": "markdown",
   "id": "acfaf0a1",
   "metadata": {},
   "source": [
    "#### Breaking the while loop\n",
    "    We can stop the iterations with a break statement\n"
   ]
  },
  {
   "cell_type": "code",
   "execution_count": 93,
   "id": "bb7c9628",
   "metadata": {},
   "outputs": [
    {
     "name": "stdout",
     "output_type": "stream",
     "text": [
      "1\n",
      "2\n",
      "3\n",
      "4\n",
      "5\n",
      "6\n",
      "7\n",
      "8\n",
      "9\n",
      "10\n"
     ]
    }
   ],
   "source": [
    "i = 1\n",
    "while True:\n",
    "    print(i)\n",
    "    if i >= 10:\n",
    "        break\n",
    "    i = i + 1"
   ]
  },
  {
   "cell_type": "markdown",
   "id": "4d611ea5",
   "metadata": {},
   "source": [
    "###### However, it is better to avoid breaks"
   ]
  },
  {
   "cell_type": "code",
   "execution_count": 94,
   "id": "96262ed3",
   "metadata": {},
   "outputs": [
    {
     "name": "stdout",
     "output_type": "stream",
     "text": [
      "1\n",
      "2\n",
      "3\n",
      "4\n",
      "5\n",
      "6\n",
      "7\n",
      "8\n",
      "9\n",
      "10\n"
     ]
    }
   ],
   "source": [
    "i = 1\n",
    "while i <= 10:\n",
    "    print(i)\n",
    "    i = i + 1"
   ]
  },
  {
   "cell_type": "code",
   "execution_count": null,
   "id": "7077978d",
   "metadata": {},
   "outputs": [],
   "source": []
  },
  {
   "cell_type": "markdown",
   "id": "da2db001",
   "metadata": {},
   "source": [
    "##### Skipping an element inside the while loop\n",
    "    We can skip an iteration step with the continue statement\n"
   ]
  },
  {
   "cell_type": "code",
   "execution_count": 100,
   "id": "6914cf30",
   "metadata": {},
   "outputs": [
    {
     "name": "stdout",
     "output_type": "stream",
     "text": [
      "1 *2 *3 *4 *6 *8 *9 *10\n"
     ]
    }
   ],
   "source": [
    "i = 0\n",
    "while i < 9: \n",
    "    i = i + 1 \n",
    "    if i==5 or i==7:\n",
    "        continue                                                      \n",
    "    else:\n",
    "        print(i, \"*\", end=\"\")\n",
    "        \n",
    "print(i+1)\n"
   ]
  },
  {
   "cell_type": "markdown",
   "id": "db3f664d",
   "metadata": {},
   "source": [
    "Normally, print() puts a newline character behind what it is printing.  \n",
    "With the end=\"…\" clause used, it ends the printed string with whatever is in … position instead."
   ]
  },
  {
   "cell_type": "code",
   "execution_count": null,
   "id": "7130652e",
   "metadata": {},
   "outputs": [],
   "source": []
  },
  {
   "cell_type": "markdown",
   "id": "d62fd45e",
   "metadata": {},
   "source": [
    "### While iteration over a list\n",
    "    We can iterate over lists, which is a common programming practice:\n",
    "\n"
   ]
  },
  {
   "cell_type": "code",
   "execution_count": 101,
   "id": "1eae1bd2",
   "metadata": {},
   "outputs": [
    {
     "name": "stdout",
     "output_type": "stream",
     "text": [
      "orange watermelon lemon coconut "
     ]
    }
   ],
   "source": [
    "fruits = [\"orange\", \"watermelon\", \"lemon\", \"coconut\"] \n",
    "i = 0\n",
    "while i < len(fruits):\n",
    "    print(fruits[i], end=\" \") \n",
    "    i = i + 1"
   ]
  },
  {
   "cell_type": "markdown",
   "id": "2d66c0ac",
   "metadata": {},
   "source": [
    "    Observe the subtle use of end=\" \".\n",
    "    Also observe that in this case we know upfront how often we will iterate (namely, len(fruits) times).  \n",
    "    In such cases, a for loop is usually the better coding choice.  (See later.)"
   ]
  },
  {
   "cell_type": "code",
   "execution_count": null,
   "id": "faae84fe",
   "metadata": {},
   "outputs": [],
   "source": []
  },
  {
   "cell_type": "markdown",
   "id": "9ca8b7ee",
   "metadata": {},
   "source": [
    "### Populating a container with while\n",
    "    We can populate lists"
   ]
  },
  {
   "cell_type": "code",
   "execution_count": 103,
   "id": "12415eec",
   "metadata": {},
   "outputs": [
    {
     "name": "stdout",
     "output_type": "stream",
     "text": [
      "[0, 2, 4, 6, 8, 10, 12, 14, 16, 18, 20, 22, 24, 26, 28, 30, 32, 34, 36, 38]\n"
     ]
    }
   ],
   "source": [
    "twenty_even_numbers = [ ] \n",
    "i = 0 \n",
    "while i < 40:\n",
    "    twenty_even_numbers.append(i) \n",
    "    i = i + 2\n",
    "    \n",
    "print(twenty_even_numbers)\n",
    "\n",
    "#While does the job again, but a choice to use a for loop is recommended."
   ]
  },
  {
   "cell_type": "code",
   "execution_count": null,
   "id": "fa3e6321",
   "metadata": {},
   "outputs": [],
   "source": []
  },
  {
   "cell_type": "markdown",
   "id": "274a6b9d",
   "metadata": {},
   "source": [
    "## 8.2 The for loop\n",
    "\n",
    "    * The for loop has the following syntax:\n",
    "        - for variable in sequence : \n",
    "            body_of_statements\n",
    "            \n",
    "    * The variable value iterates over the complete sequence (which can be a string, a list, a tuple, or any other type of container) and assumes the value of its successive elements.\n",
    "    \n",
    "    * Good code \n",
    "        - makes use of the variable in the body_of_statements.\n",
    "        - uses the for loop in cases when upfront we know how often the body_of_statements will be executed for an element.\n",
    "        \n",
    "    * This is a common coding mechanism and you can use continue also in for loops.\n"
   ]
  },
  {
   "cell_type": "code",
   "execution_count": null,
   "id": "7b31cc2c",
   "metadata": {},
   "outputs": [],
   "source": []
  },
  {
   "cell_type": "markdown",
   "id": "d9da0e6b",
   "metadata": {},
   "source": [
    "### The for loop\n",
    "    An example with strings:"
   ]
  },
  {
   "cell_type": "code",
   "execution_count": 105,
   "id": "93561c8c",
   "metadata": {},
   "outputs": [
    {
     "name": "stdout",
     "output_type": "stream",
     "text": [
      "H\n",
      "e\n",
      "l\n",
      "l\n",
      "o\n",
      " \n",
      "w\n",
      "o\n",
      "r\n",
      "l\n",
      "d\n",
      "!\n"
     ]
    }
   ],
   "source": [
    "for char in \"Hello world!\": \n",
    "    print(char)"
   ]
  },
  {
   "cell_type": "code",
   "execution_count": null,
   "id": "8e15bbb1",
   "metadata": {},
   "outputs": [],
   "source": []
  },
  {
   "cell_type": "markdown",
   "id": "da38260c",
   "metadata": {},
   "source": [
    "### Another example with strings:"
   ]
  },
  {
   "cell_type": "code",
   "execution_count": 108,
   "id": "65a0fa60",
   "metadata": {},
   "outputs": [
    {
     "name": "stdout",
     "output_type": "stream",
     "text": [
      "?siht esrever uoy naC\n"
     ]
    }
   ],
   "source": [
    "my_string = \"Can you reverse this?\"\n",
    "result = \"\" \n",
    "for char in my_string:\n",
    "    result = char + result \n",
    "    \n",
    "print(result)\n",
    "    \n",
    "#?siht esrever uoy naC\n",
    "#Observe that here only one print statement is executed."
   ]
  },
  {
   "cell_type": "code",
   "execution_count": null,
   "id": "d828da96",
   "metadata": {},
   "outputs": [],
   "source": []
  },
  {
   "cell_type": "markdown",
   "id": "ee556df0",
   "metadata": {},
   "source": [
    "### The for loop \n",
    "\n",
    "    An example with list:\n",
    "   "
   ]
  },
  {
   "cell_type": "code",
   "execution_count": 109,
   "id": "bc132c8a",
   "metadata": {},
   "outputs": [
    {
     "name": "stdout",
     "output_type": "stream",
     "text": [
      "Alice\n",
      "Bob\n",
      "Jane\n",
      "John\n"
     ]
    }
   ],
   "source": [
    "name = [\"john\", \"jane\", \"bob\", \"alice\"]\n",
    "for i in sorted(name):\n",
    "    print(str(i).capitalize())"
   ]
  },
  {
   "cell_type": "code",
   "execution_count": null,
   "id": "edc36b55",
   "metadata": {},
   "outputs": [],
   "source": []
  },
  {
   "cell_type": "markdown",
   "id": "720a1562",
   "metadata": {},
   "source": [
    "# Steering the for loop\n",
    "\n",
    "    * We can finetune the scope of action with range():\n",
    "        for i in range(…) :\n",
    "    * It is used as: range([start], stop, [step]) All arguments are integer.\n",
    "    \n",
    "    * start is optional and defaults to 0; step is also optional (defaults to 1)\n",
    "    \n",
    "    * The range() function gives us an iterator object, this is something magical over which you can iterate.  \n",
    "        - With list(range(…)) \n",
    "   \n",
    "you will see the list of elements that the iterator gives you. start is a member of the iterator but stop is (just) not: \n"
   ]
  },
  {
   "cell_type": "code",
   "execution_count": 110,
   "id": "3961d97d",
   "metadata": {},
   "outputs": [
    {
     "data": {
      "text/plain": [
       "True"
      ]
     },
     "execution_count": 110,
     "metadata": {},
     "output_type": "execute_result"
    }
   ],
   "source": [
    "list(range(1,3)) == [1, 2]"
   ]
  },
  {
   "cell_type": "code",
   "execution_count": 113,
   "id": "d855b929",
   "metadata": {},
   "outputs": [
    {
     "name": "stdout",
     "output_type": "stream",
     "text": [
      "[0, 1, 2, 3, 4, 5, 6, 7, 8, 9]\n"
     ]
    }
   ],
   "source": [
    "print(list(range(10)))"
   ]
  },
  {
   "cell_type": "code",
   "execution_count": 114,
   "id": "d5ff9fc8",
   "metadata": {},
   "outputs": [
    {
     "name": "stdout",
     "output_type": "stream",
     "text": [
      "[2, 3, 4, 5, 6, 7]\n"
     ]
    }
   ],
   "source": [
    "print(list(range(2, 8))) "
   ]
  },
  {
   "cell_type": "code",
   "execution_count": 115,
   "id": "14185b72",
   "metadata": {},
   "outputs": [
    {
     "name": "stdout",
     "output_type": "stream",
     "text": [
      "[0, 2, 4, 6, 8, 10]\n"
     ]
    }
   ],
   "source": [
    "print(list(range(0, 12, 2))) "
   ]
  },
  {
   "cell_type": "code",
   "execution_count": null,
   "id": "3e58ac92",
   "metadata": {},
   "outputs": [],
   "source": []
  },
  {
   "cell_type": "markdown",
   "id": "d9928740",
   "metadata": {},
   "source": [
    "### Using range() in the for loop\n",
    "\n",
    "    With range(), you can iterate over a list as you wish:\n"
   ]
  },
  {
   "cell_type": "code",
   "execution_count": 116,
   "id": "bb6327e0",
   "metadata": {},
   "outputs": [
    {
     "name": "stdout",
     "output_type": "stream",
     "text": [
      "orange\n",
      "lemon\n",
      "pineapple\n",
      "pomegranate\n",
      "grapes\n"
     ]
    }
   ],
   "source": [
    "fruits = [ \"orange\", \"watermelon\", \"lemon\", \"coconut\", \"pineapple\", \"banana\",\"pomegranate\", \"kiwi\",\"grapes\", \"apricot\" ]\n",
    "\n",
    "for fruit_index in range(0, 10, 2):                                  \n",
    "    print(fruits[fruit_index])"
   ]
  },
  {
   "cell_type": "code",
   "execution_count": null,
   "id": "4739fda6",
   "metadata": {},
   "outputs": [],
   "source": []
  },
  {
   "cell_type": "code",
   "execution_count": 119,
   "id": "28cca27e",
   "metadata": {},
   "outputs": [],
   "source": [
    "#What is the expected output?"
   ]
  },
  {
   "cell_type": "code",
   "execution_count": 120,
   "id": "9e1a74d0",
   "metadata": {},
   "outputs": [],
   "source": [
    "#How would you print a list of fruits at even positions with a text length shorter than the position number?"
   ]
  },
  {
   "cell_type": "code",
   "execution_count": 123,
   "id": "27be2cab",
   "metadata": {},
   "outputs": [
    {
     "name": "stdout",
     "output_type": "stream",
     "text": [
      "['grapes']\n"
     ]
    }
   ],
   "source": [
    "short_fruit = []\n",
    "fruits = [ \"orange\", \"watermelon\", \"lemon\", \"coconut\", \"pineapple\", \"banana\",\"pomegranate\", \"kiwi\",\"grapes\", \"apricot\" ]\n",
    "for fruit_index in range(0, 10, 2):\n",
    "    if len(fruits[fruit_index]) < fruit_index:\n",
    "        short_fruit.append(fruits[fruit_index]) \n",
    "        print(short_fruit)\n"
   ]
  },
  {
   "cell_type": "code",
   "execution_count": null,
   "id": "8c904841",
   "metadata": {},
   "outputs": [],
   "source": []
  },
  {
   "cell_type": "markdown",
   "id": "9fa7cbcc",
   "metadata": {},
   "source": [
    "## 8.3 Iteration over n-dimentional data structures \n",
    "\n",
    "    how to iterate over, for instance, a two dimentional data structures\n",
    "\n"
   ]
  },
  {
   "cell_type": "code",
   "execution_count": 124,
   "id": "990ce785",
   "metadata": {},
   "outputs": [
    {
     "data": {
      "text/plain": [
       "[[1, 2, 3], [4, 5, 6], [7, 8, 9]]"
      ]
     },
     "execution_count": 124,
     "metadata": {},
     "output_type": "execute_result"
    }
   ],
   "source": [
    "m  = [[1, 2, 3], [4, 5, 6], [7, 8, 9]]\n",
    "m"
   ]
  },
  {
   "cell_type": "code",
   "execution_count": 127,
   "id": "8eda7899",
   "metadata": {},
   "outputs": [],
   "source": [
    "rows = 3\n",
    "cols = 3\n",
    "the_sum = 0"
   ]
  },
  {
   "cell_type": "code",
   "execution_count": 133,
   "id": "6386cafc",
   "metadata": {},
   "outputs": [
    {
     "name": "stdout",
     "output_type": "stream",
     "text": [
      "the sum : 45\n"
     ]
    }
   ],
   "source": [
    "for i in range(rows):\n",
    "    for j in range(cols):\n",
    "        \n",
    "        the_sum += m[i][j]\n",
    "        \n",
    "print(f\"the sum is: {the_sum}\")"
   ]
  },
  {
   "cell_type": "markdown",
   "id": "3eabbe58",
   "metadata": {},
   "source": [
    "#### Nested Iteration: within the over rows, we iterate over columns.\n",
    "    \n",
    "#### observer the use of +=, which  is expected as \"plus and becomes\""
   ]
  },
  {
   "cell_type": "code",
   "execution_count": null,
   "id": "663d4c05",
   "metadata": {},
   "outputs": [],
   "source": []
  },
  {
   "cell_type": "markdown",
   "id": "d7386863",
   "metadata": {},
   "source": [
    "### Summary\n",
    "\n",
    "    • We use iterations for repetitive tasks\n",
    "    \n",
    "    • In Python, iterations are done with for and while loops\n",
    "    \n",
    "    • While loop is used typically when one cannot quite foresee when the process will end.\n",
    "    \n",
    "    • For loop is used typically when the number of steps is known upfront, for instance to access elements of a sequence\n",
    "    \n",
    "    • Nested loops are useful to iterate over N-dimensional data structures, for instance where lists are nested inside a list.\n",
    " "
   ]
  },
  {
   "cell_type": "code",
   "execution_count": null,
   "id": "ddda32fb",
   "metadata": {},
   "outputs": [],
   "source": []
  }
 ],
 "metadata": {
  "kernelspec": {
   "display_name": "Python 3 (ipykernel)",
   "language": "python",
   "name": "python3"
  },
  "language_info": {
   "codemirror_mode": {
    "name": "ipython",
    "version": 3
   },
   "file_extension": ".py",
   "mimetype": "text/x-python",
   "name": "python",
   "nbconvert_exporter": "python",
   "pygments_lexer": "ipython3",
   "version": "3.10.5"
  }
 },
 "nbformat": 4,
 "nbformat_minor": 5
}
